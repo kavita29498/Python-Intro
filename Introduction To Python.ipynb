{
 "cells": [
  {
   "cell_type": "code",
   "execution_count": null,
   "id": "391d6987",
   "metadata": {},
   "outputs": [],
   "source": [
    "#variable1_10"
   ]
  },
  {
   "cell_type": "code",
   "execution_count": 47,
   "id": "08c405a0",
   "metadata": {},
   "outputs": [],
   "source": [
    "v = 110"
   ]
  },
  {
   "cell_type": "code",
   "execution_count": 48,
   "id": "28132cec",
   "metadata": {},
   "outputs": [
    {
     "name": "stdout",
     "output_type": "stream",
     "text": [
      "110\n"
     ]
    }
   ],
   "source": [
    "print(v)"
   ]
  },
  {
   "cell_type": "markdown",
   "id": "a15d4534",
   "metadata": {},
   "source": []
  },
  {
   "cell_type": "code",
   "execution_count": 49,
   "id": "b0e40d14",
   "metadata": {},
   "outputs": [
    {
     "data": {
      "text/plain": [
       "100"
      ]
     },
     "execution_count": 49,
     "metadata": {},
     "output_type": "execute_result"
    }
   ],
   "source": [
    "v-10"
   ]
  },
  {
   "cell_type": "code",
   "execution_count": 50,
   "id": "96330940",
   "metadata": {},
   "outputs": [
    {
     "data": {
      "text/plain": [
       "898"
      ]
     },
     "execution_count": 50,
     "metadata": {},
     "output_type": "execute_result"
    }
   ],
   "source": [
    "Y=101+111+108+128+150+180+120\n",
    "Y"
   ]
  },
  {
   "cell_type": "code",
   "execution_count": 51,
   "id": "db84be04",
   "metadata": {},
   "outputs": [
    {
     "data": {
      "text/plain": [
       "2694"
      ]
     },
     "execution_count": 51,
     "metadata": {},
     "output_type": "execute_result"
    }
   ],
   "source": [
    "z = Y * 3\n",
    "z"
   ]
  },
  {
   "cell_type": "code",
   "execution_count": 52,
   "id": "1effcbd9",
   "metadata": {},
   "outputs": [
    {
     "data": {
      "text/plain": [
       "299.3333333333333"
      ]
     },
     "execution_count": 52,
     "metadata": {},
     "output_type": "execute_result"
    }
   ],
   "source": [
    "Y/3"
   ]
  },
  {
   "cell_type": "code",
   "execution_count": 53,
   "id": "8a70e197",
   "metadata": {},
   "outputs": [
    {
     "data": {
      "text/plain": [
       "898"
      ]
     },
     "execution_count": 53,
     "metadata": {},
     "output_type": "execute_result"
    }
   ],
   "source": [
    "Y"
   ]
  },
  {
   "cell_type": "code",
   "execution_count": 54,
   "id": "5097ee92",
   "metadata": {},
   "outputs": [
    {
     "data": {
      "text/plain": [
       "2694"
      ]
     },
     "execution_count": 54,
     "metadata": {},
     "output_type": "execute_result"
    }
   ],
   "source": [
    "z"
   ]
  },
  {
   "cell_type": "markdown",
   "id": "c659f789",
   "metadata": {},
   "source": [
    "# Arithmetic Operators"
   ]
  },
  {
   "cell_type": "code",
   "execution_count": null,
   "id": "c58311b8",
   "metadata": {},
   "outputs": [],
   "source": [
    "#,+,*,-,/,%,//,**"
   ]
  },
  {
   "cell_type": "markdown",
   "id": "cfea2920",
   "metadata": {},
   "source": [
    "# Q.1 assign two variable naming age ,weight.operate the arithmentic operation?"
   ]
  },
  {
   "cell_type": "code",
   "execution_count": null,
   "id": "62a9744a",
   "metadata": {},
   "outputs": [],
   "source": [
    "#program "
   ]
  },
  {
   "cell_type": "code",
   "execution_count": null,
   "id": "09f024fb",
   "metadata": {},
   "outputs": [],
   "source": [
    "#Q.1 assign two variable naming age ,weight,weight1.operate the arithmentic operation?\n",
    "#Q.2 assign two variable naming age ,weight,weight1.operate the logical operation?\n",
    "#(AND,OR,Not)"
   ]
  },
  {
   "cell_type": "code",
   "execution_count": 55,
   "id": "bdb67a55",
   "metadata": {},
   "outputs": [],
   "source": [
    "age = 20\n",
    "weight = 50\n",
    "weight1 = 50"
   ]
  },
  {
   "cell_type": "code",
   "execution_count": 56,
   "id": "7acb3c45",
   "metadata": {},
   "outputs": [
    {
     "name": "stdout",
     "output_type": "stream",
     "text": [
      "70\n",
      "-30\n",
      "1000\n",
      "0.4\n",
      "112589990684262400000000000000000000000000000000000000000000000000\n",
      "0\n",
      "20\n"
     ]
    }
   ],
   "source": [
    "add = age + weight\n",
    "sub = age - weight\n",
    "mul = age * weight\n",
    "div = age / weight\n",
    "power = age ** weight\n",
    "flor = age // weight\n",
    "mod = age % weight\n",
    "print(add)\n",
    "print(sub)\n",
    "print(mul)\n",
    "print(div)\n",
    "print(power)\n",
    "print(flor)\n",
    "print(mod)"
   ]
  },
  {
   "cell_type": "code",
   "execution_count": null,
   "id": "3bdc8506",
   "metadata": {},
   "outputs": [],
   "source": [
    "#2 ans "
   ]
  },
  {
   "cell_type": "code",
   "execution_count": 57,
   "id": "85a8dc49",
   "metadata": {},
   "outputs": [
    {
     "data": {
      "text/plain": [
       "50"
      ]
     },
     "execution_count": 57,
     "metadata": {},
     "output_type": "execute_result"
    }
   ],
   "source": [
    "# and \n",
    "\n",
    "age and weight"
   ]
  },
  {
   "cell_type": "code",
   "execution_count": 58,
   "id": "ca98f4e6",
   "metadata": {},
   "outputs": [
    {
     "data": {
      "text/plain": [
       "20"
      ]
     },
     "execution_count": 58,
     "metadata": {},
     "output_type": "execute_result"
    }
   ],
   "source": [
    "#OR\n",
    "age or weight"
   ]
  },
  {
   "cell_type": "code",
   "execution_count": 59,
   "id": "8f3d0342",
   "metadata": {},
   "outputs": [
    {
     "data": {
      "text/plain": [
       "50"
      ]
     },
     "execution_count": 59,
     "metadata": {},
     "output_type": "execute_result"
    }
   ],
   "source": [
    "weight and weight1"
   ]
  },
  {
   "cell_type": "code",
   "execution_count": 60,
   "id": "61354d7e",
   "metadata": {},
   "outputs": [
    {
     "data": {
      "text/plain": [
       "(20, 50)"
      ]
     },
     "execution_count": 60,
     "metadata": {},
     "output_type": "execute_result"
    }
   ],
   "source": [
    "age, weight"
   ]
  },
  {
   "cell_type": "code",
   "execution_count": 61,
   "id": "71d60ab0",
   "metadata": {},
   "outputs": [
    {
     "data": {
      "text/plain": [
       "True"
      ]
     },
     "execution_count": 61,
     "metadata": {},
     "output_type": "execute_result"
    }
   ],
   "source": [
    "age == 20 and weight == 50"
   ]
  },
  {
   "cell_type": "code",
   "execution_count": 62,
   "id": "b796d8b3",
   "metadata": {},
   "outputs": [
    {
     "data": {
      "text/plain": [
       "False"
      ]
     },
     "execution_count": 62,
     "metadata": {},
     "output_type": "execute_result"
    }
   ],
   "source": [
    "age == 20 and weight != 50"
   ]
  },
  {
   "cell_type": "code",
   "execution_count": 63,
   "id": "c3836d8e",
   "metadata": {},
   "outputs": [
    {
     "data": {
      "text/plain": [
       "True"
      ]
     },
     "execution_count": 63,
     "metadata": {},
     "output_type": "execute_result"
    }
   ],
   "source": [
    "age == 20 or weight != 50"
   ]
  },
  {
   "cell_type": "code",
   "execution_count": 64,
   "id": "d13c3d3a",
   "metadata": {},
   "outputs": [
    {
     "data": {
      "text/plain": [
       "False"
      ]
     },
     "execution_count": 64,
     "metadata": {},
     "output_type": "execute_result"
    }
   ],
   "source": [
    "not age == 20"
   ]
  },
  {
   "cell_type": "code",
   "execution_count": 65,
   "id": "c95f07bf",
   "metadata": {},
   "outputs": [
    {
     "data": {
      "text/plain": [
       "True"
      ]
     },
     "execution_count": 65,
     "metadata": {},
     "output_type": "execute_result"
    }
   ],
   "source": [
    "age == 20 or weight == 50"
   ]
  },
  {
   "cell_type": "markdown",
   "id": "39e68a36",
   "metadata": {},
   "source": [
    "# Comparision Operation"
   ]
  },
  {
   "cell_type": "markdown",
   "id": "fddc9f56",
   "metadata": {},
   "source": [
    "==,!=<,<=,>,>=[output is in bool]"
   ]
  },
  {
   "cell_type": "markdown",
   "id": "1072a199",
   "metadata": {},
   "source": [
    "# Membaership Operators "
   ]
  },
  {
   "cell_type": "code",
   "execution_count": null,
   "id": "16a907b6",
   "metadata": {},
   "outputs": [],
   "source": [
    "#is ,is not,in ,not in "
   ]
  },
  {
   "cell_type": "code",
   "execution_count": 66,
   "id": "4a4dcb8f",
   "metadata": {},
   "outputs": [
    {
     "data": {
      "text/plain": [
       "list"
      ]
     },
     "execution_count": 66,
     "metadata": {},
     "output_type": "execute_result"
    }
   ],
   "source": [
    "xyz = [21,22,0,24,26,5,10,15,18,19]\n",
    "type(xyz)"
   ]
  },
  {
   "cell_type": "code",
   "execution_count": 67,
   "id": "652dedd4",
   "metadata": {},
   "outputs": [
    {
     "data": {
      "text/plain": [
       "True"
      ]
     },
     "execution_count": 67,
     "metadata": {},
     "output_type": "execute_result"
    }
   ],
   "source": [
    "list is type(xyz)"
   ]
  },
  {
   "cell_type": "code",
   "execution_count": 68,
   "id": "954d7101",
   "metadata": {},
   "outputs": [
    {
     "data": {
      "text/plain": [
       "False"
      ]
     },
     "execution_count": 68,
     "metadata": {},
     "output_type": "execute_result"
    }
   ],
   "source": [
    "list is not type (xyz)"
   ]
  },
  {
   "cell_type": "code",
   "execution_count": 69,
   "id": "54a20444",
   "metadata": {},
   "outputs": [
    {
     "data": {
      "text/plain": [
       "False"
      ]
     },
     "execution_count": 69,
     "metadata": {},
     "output_type": "execute_result"
    }
   ],
   "source": [
    "80 in xyz"
   ]
  },
  {
   "cell_type": "code",
   "execution_count": 70,
   "id": "e99bcf48",
   "metadata": {},
   "outputs": [
    {
     "data": {
      "text/plain": [
       "True"
      ]
     },
     "execution_count": 70,
     "metadata": {},
     "output_type": "execute_result"
    }
   ],
   "source": [
    "80 not in xyz"
   ]
  },
  {
   "cell_type": "markdown",
   "id": "5e29584c",
   "metadata": {},
   "source": [
    "# Assignment operators"
   ]
  },
  {
   "cell_type": "code",
   "execution_count": null,
   "id": "b660ffca",
   "metadata": {},
   "outputs": [],
   "source": [
    "#=,+=,-=,*=,**=,/=,//=,%="
   ]
  },
  {
   "cell_type": "code",
   "execution_count": 71,
   "id": "3661278c",
   "metadata": {},
   "outputs": [
    {
     "data": {
      "text/plain": [
       "20"
      ]
     },
     "execution_count": 71,
     "metadata": {},
     "output_type": "execute_result"
    }
   ],
   "source": [
    "age"
   ]
  },
  {
   "cell_type": "code",
   "execution_count": 72,
   "id": "ec6ada8b",
   "metadata": {},
   "outputs": [],
   "source": [
    "age += 20"
   ]
  },
  {
   "cell_type": "code",
   "execution_count": 73,
   "id": "0c484d00",
   "metadata": {},
   "outputs": [
    {
     "data": {
      "text/plain": [
       "40"
      ]
     },
     "execution_count": 73,
     "metadata": {},
     "output_type": "execute_result"
    }
   ],
   "source": [
    "age"
   ]
  },
  {
   "cell_type": "code",
   "execution_count": 74,
   "id": "6d55c2e2",
   "metadata": {},
   "outputs": [],
   "source": [
    "age -= 10"
   ]
  },
  {
   "cell_type": "code",
   "execution_count": 75,
   "id": "8ac08c12",
   "metadata": {},
   "outputs": [
    {
     "data": {
      "text/plain": [
       "30"
      ]
     },
     "execution_count": 75,
     "metadata": {},
     "output_type": "execute_result"
    }
   ],
   "source": [
    "age"
   ]
  },
  {
   "cell_type": "code",
   "execution_count": 76,
   "id": "41b8f07d",
   "metadata": {},
   "outputs": [],
   "source": [
    "age *= 2"
   ]
  },
  {
   "cell_type": "code",
   "execution_count": 77,
   "id": "bdef274c",
   "metadata": {},
   "outputs": [
    {
     "data": {
      "text/plain": [
       "60"
      ]
     },
     "execution_count": 77,
     "metadata": {},
     "output_type": "execute_result"
    }
   ],
   "source": [
    "age"
   ]
  },
  {
   "cell_type": "code",
   "execution_count": 78,
   "id": "b96413c5",
   "metadata": {},
   "outputs": [
    {
     "data": {
      "text/plain": [
       "30.0"
      ]
     },
     "execution_count": 78,
     "metadata": {},
     "output_type": "execute_result"
    }
   ],
   "source": [
    "#we can right in this formate to get direct answer \n",
    "\n",
    "age /= 2\n",
    "age"
   ]
  },
  {
   "cell_type": "markdown",
   "id": "e0650e0d",
   "metadata": {},
   "source": [
    "# String Manupulatio"
   ]
  },
  {
   "cell_type": "code",
   "execution_count": 2,
   "id": "57c35b74",
   "metadata": {},
   "outputs": [],
   "source": [
    "#defination of data Science \n",
    "data_science = '''data science is the study of data to extract meaningful \\tinsights for business. \n",
    "             It is a multidisciplinary approach that combines principles and practices from\n",
    "             the fields of mathematics, statistics, \\tartificial intelligence, and computer \n",
    "             engineering to analyze \\tlarge amounts of data.'''"
   ]
  },
  {
   "cell_type": "code",
   "execution_count": 3,
   "id": "1dde3555",
   "metadata": {},
   "outputs": [
    {
     "name": "stdout",
     "output_type": "stream",
     "text": [
      "data science is the study of data to extract meaningful \tinsights for business. \n",
      "             It is a multidisciplinary approach that combines principles and practices from\n",
      "             the fields of mathematics, statistics, \tartificial intelligence, and computer \n",
      "             engineering to analyze \tlarge amounts of data.\n"
     ]
    }
   ],
   "source": [
    "print(data_science)"
   ]
  },
  {
   "cell_type": "code",
   "execution_count": 4,
   "id": "81635f23",
   "metadata": {},
   "outputs": [
    {
     "data": {
      "text/plain": [
       "str"
      ]
     },
     "execution_count": 4,
     "metadata": {},
     "output_type": "execute_result"
    }
   ],
   "source": [
    "type(data_science)"
   ]
  },
  {
   "cell_type": "code",
   "execution_count": 6,
   "id": "5580feff",
   "metadata": {},
   "outputs": [
    {
     "data": {
      "text/plain": [
       "'Data science is the study of data to extract meaningful \\tinsights for business. \\n             it is a multidisciplinary approach that combines principles and practices from\\n             the fields of mathematics, statistics, \\tartificial intelligence, and computer \\n             engineering to analyze \\tlarge amounts of data.'"
      ]
     },
     "execution_count": 6,
     "metadata": {},
     "output_type": "execute_result"
    }
   ],
   "source": [
    "data_science.capitalize()"
   ]
  },
  {
   "cell_type": "markdown",
   "id": "e5483d5d",
   "metadata": {},
   "source": [
    "# variables"
   ]
  },
  {
   "cell_type": "code",
   "execution_count": 7,
   "id": "2b21c544",
   "metadata": {},
   "outputs": [
    {
     "data": {
      "text/plain": [
       "'data science is the study of data to extract meaningful \\tinsights for business. \\n             it is a multidisciplinary approach that combines principles and practices from\\n             the fields of mathematics, statistics, \\tartificial intelligence, and computer \\n             engineering to analyze \\tlarge amounts of data.'"
      ]
     },
     "execution_count": 7,
     "metadata": {},
     "output_type": "execute_result"
    }
   ],
   "source": [
    "data_science.casefold()"
   ]
  },
  {
   "cell_type": "code",
   "execution_count": 8,
   "id": "6497635b",
   "metadata": {},
   "outputs": [
    {
     "data": {
      "text/plain": [
       "'data science is the study of data to extract meaningful \\tinsights for business. \\n             It is a multidisciplinary approach that combines principles and practices from\\n             the fields of mathematics, statistics, \\tartificial intelligence, and computer \\n             engineering to analyze \\tlarge amounts of data.'"
      ]
     },
     "execution_count": 8,
     "metadata": {},
     "output_type": "execute_result"
    }
   ],
   "source": [
    "data_science.center(5,'#')"
   ]
  },
  {
   "cell_type": "code",
   "execution_count": 9,
   "id": "df5de7ac",
   "metadata": {},
   "outputs": [],
   "source": [
    "en = data_science.encode(encoding='ASCII', errors='strict')"
   ]
  },
  {
   "cell_type": "code",
   "execution_count": 10,
   "id": "6351e2d6",
   "metadata": {},
   "outputs": [
    {
     "data": {
      "text/plain": [
       "b'data science is the study of data to extract meaningful \\tinsights for business. \\n             It is a multidisciplinary approach that combines principles and practices from\\n             the fields of mathematics, statistics, \\tartificial intelligence, and computer \\n             engineering to analyze \\tlarge amounts of data.'"
      ]
     },
     "execution_count": 10,
     "metadata": {},
     "output_type": "execute_result"
    }
   ],
   "source": [
    "en"
   ]
  },
  {
   "cell_type": "code",
   "execution_count": 11,
   "id": "eb4f33c6",
   "metadata": {},
   "outputs": [
    {
     "data": {
      "text/plain": [
       "False"
      ]
     },
     "execution_count": 11,
     "metadata": {},
     "output_type": "execute_result"
    }
   ],
   "source": [
    "data_science.endswith('a')"
   ]
  },
  {
   "cell_type": "code",
   "execution_count": 12,
   "id": "83e0e884",
   "metadata": {},
   "outputs": [
    {
     "data": {
      "text/plain": [
       "True"
      ]
     },
     "execution_count": 12,
     "metadata": {},
     "output_type": "execute_result"
    }
   ],
   "source": [
    "data_science.endswith('.')"
   ]
  },
  {
   "cell_type": "code",
   "execution_count": null,
   "id": "ecc99460",
   "metadata": {},
   "outputs": [],
   "source": []
  },
  {
   "cell_type": "code",
   "execution_count": 13,
   "id": "1ae53579",
   "metadata": {},
   "outputs": [
    {
     "data": {
      "text/plain": [
       "True"
      ]
     },
     "execution_count": 13,
     "metadata": {},
     "output_type": "execute_result"
    }
   ],
   "source": [
    "data_science.startswith('d')"
   ]
  },
  {
   "cell_type": "code",
   "execution_count": 14,
   "id": "1f119ef5",
   "metadata": {},
   "outputs": [
    {
     "data": {
      "text/plain": [
       "'data science is the study of data to extract meaningful     insights for business. \\n             It is a multidisciplinary approach that combines principles and practices from\\n             the fields of mathematics, statistics,         artificial intelligence, and computer \\n             engineering to analyze          large amounts of data.'"
      ]
     },
     "execution_count": 14,
     "metadata": {},
     "output_type": "execute_result"
    }
   ],
   "source": [
    "data_science.expandtabs(tabsize=15)"
   ]
  },
  {
   "cell_type": "code",
   "execution_count": 15,
   "id": "814a7e5a",
   "metadata": {},
   "outputs": [
    {
     "data": {
      "text/plain": [
       "324"
      ]
     },
     "execution_count": 15,
     "metadata": {},
     "output_type": "execute_result"
    }
   ],
   "source": [
    "len(data_science)"
   ]
  },
  {
   "cell_type": "code",
   "execution_count": 16,
   "id": "b7789ed9",
   "metadata": {},
   "outputs": [
    {
     "data": {
      "text/plain": [
       "6"
      ]
     },
     "execution_count": 16,
     "metadata": {},
     "output_type": "execute_result"
    }
   ],
   "source": [
    "data_science.find('c')"
   ]
  },
  {
   "cell_type": "code",
   "execution_count": 17,
   "id": "0c956f76",
   "metadata": {},
   "outputs": [
    {
     "data": {
      "text/plain": [
       "302"
      ]
     },
     "execution_count": 17,
     "metadata": {},
     "output_type": "execute_result"
    }
   ],
   "source": [
    "data_science.index('large')"
   ]
  },
  {
   "cell_type": "code",
   "execution_count": 18,
   "id": "b74e3a82",
   "metadata": {},
   "outputs": [
    {
     "data": {
      "text/plain": [
       "'data science is the study of data to extract meaningful \\tinsights for business. \\n             It is a multidisciplinary approach that combines principles and practices from\\n             the fields of mathematics, statistics, \\tartificial intelligence, and computer \\n             engineering to analyze \\tlarge amounts of data.'"
      ]
     },
     "execution_count": 18,
     "metadata": {},
     "output_type": "execute_result"
    }
   ],
   "source": [
    "data_science.ljust(10,'/')"
   ]
  },
  {
   "cell_type": "code",
   "execution_count": 19,
   "id": "039969d0",
   "metadata": {},
   "outputs": [],
   "source": [
    "tt= data_science.split()"
   ]
  },
  {
   "cell_type": "code",
   "execution_count": 20,
   "id": "d32b14b3",
   "metadata": {},
   "outputs": [
    {
     "name": "stdout",
     "output_type": "stream",
     "text": [
      "['data', 'science', 'is', 'the', 'study', 'of', 'data', 'to', 'extract', 'meaningful', 'insights', 'for', 'business.', 'It', 'is', 'a', 'multidisciplinary', 'approach', 'that', 'combines', 'principles', 'and', 'practices', 'from', 'the', 'fields', 'of', 'mathematics,', 'statistics,', 'artificial', 'intelligence,', 'and', 'computer', 'engineering', 'to', 'analyze', 'large', 'amounts', 'of', 'data.']\n"
     ]
    }
   ],
   "source": [
    "print(tt)"
   ]
  },
  {
   "cell_type": "code",
   "execution_count": 21,
   "id": "0cb23d69",
   "metadata": {},
   "outputs": [
    {
     "data": {
      "text/plain": [
       "'Excelr science is the study of Excelr to extract meaningful \\tinsights for business. \\n             It is a multidisciplinary approach that combines principles and practices from\\n             the fields of mathematics, statistics, \\tartificial intelligence, and computer \\n             engineering to analyze \\tlarge amounts of Excelr.'"
      ]
     },
     "execution_count": 21,
     "metadata": {},
     "output_type": "execute_result"
    }
   ],
   "source": [
    "data_science.replace('data','Excelr')"
   ]
  },
  {
   "cell_type": "code",
   "execution_count": 22,
   "id": "526c105a",
   "metadata": {},
   "outputs": [],
   "source": [
    "ff = data_science.swapcase()"
   ]
  },
  {
   "cell_type": "code",
   "execution_count": 23,
   "id": "efc74542",
   "metadata": {},
   "outputs": [
    {
     "data": {
      "text/plain": [
       "'data science is the study of data to extract meaningful \\tinsights for business. \\n             It is a multidisciplinary approach that combines principles and practices from\\n             the fields of mathematics, statistics, \\tartificial intelligence, and computer \\n             engineering to analyze \\tlarge amounts of data.'"
      ]
     },
     "execution_count": 23,
     "metadata": {},
     "output_type": "execute_result"
    }
   ],
   "source": [
    "ff.swapcase()"
   ]
  },
  {
   "cell_type": "code",
   "execution_count": 24,
   "id": "f188804a",
   "metadata": {},
   "outputs": [],
   "source": [
    "data_science='10'"
   ]
  },
  {
   "cell_type": "code",
   "execution_count": 25,
   "id": "7ceb6194",
   "metadata": {},
   "outputs": [
    {
     "data": {
      "text/plain": [
       "str"
      ]
     },
     "execution_count": 25,
     "metadata": {},
     "output_type": "execute_result"
    }
   ],
   "source": [
    "type(data_science)"
   ]
  },
  {
   "cell_type": "code",
   "execution_count": 26,
   "id": "f0c1fd34",
   "metadata": {},
   "outputs": [
    {
     "name": "stdout",
     "output_type": "stream",
     "text": [
      "converted to string 10 <class 'int'>\n"
     ]
    }
   ],
   "source": [
    "dt1=int(data_science)\n",
    "print('converted to string',dt1,type(dt1))"
   ]
  },
  {
   "cell_type": "markdown",
   "id": "6ab07961",
   "metadata": {},
   "source": [
    "# task1: create a two variable,marks1 in floating and marks2 in string type,sub"
   ]
  },
  {
   "cell_type": "code",
   "execution_count": 27,
   "id": "bfe28acf",
   "metadata": {},
   "outputs": [],
   "source": [
    "mark1= 60.8"
   ]
  },
  {
   "cell_type": "code",
   "execution_count": 28,
   "id": "8d430239",
   "metadata": {},
   "outputs": [
    {
     "data": {
      "text/plain": [
       "float"
      ]
     },
     "execution_count": 28,
     "metadata": {},
     "output_type": "execute_result"
    }
   ],
   "source": [
    "type(mark1)"
   ]
  },
  {
   "cell_type": "code",
   "execution_count": 29,
   "id": "70debe93",
   "metadata": {},
   "outputs": [],
   "source": [
    "mark2=('number is 10')"
   ]
  },
  {
   "cell_type": "code",
   "execution_count": 30,
   "id": "4a42b1c4",
   "metadata": {},
   "outputs": [
    {
     "data": {
      "text/plain": [
       "str"
      ]
     },
     "execution_count": 30,
     "metadata": {},
     "output_type": "execute_result"
    }
   ],
   "source": [
    "type(mark2)"
   ]
  },
  {
   "cell_type": "code",
   "execution_count": 31,
   "id": "b68d9f26",
   "metadata": {},
   "outputs": [
    {
     "data": {
      "text/plain": [
       "int"
      ]
     },
     "execution_count": 31,
     "metadata": {},
     "output_type": "execute_result"
    }
   ],
   "source": [
    "age =56.0\n",
    "type(int(age))"
   ]
  },
  {
   "cell_type": "code",
   "execution_count": 33,
   "id": "13e2f677",
   "metadata": {},
   "outputs": [
    {
     "data": {
      "text/plain": [
       "'datadata'"
      ]
     },
     "execution_count": 33,
     "metadata": {},
     "output_type": "execute_result"
    }
   ],
   "source": [
    "weight = 'data' *  2\n",
    "weight\n"
   ]
  },
  {
   "cell_type": "markdown",
   "id": "2a1343e8",
   "metadata": {},
   "source": []
  },
  {
   "cell_type": "code",
   "execution_count": null,
   "id": "1f8b5174",
   "metadata": {},
   "outputs": [],
   "source": [
    "#formatin--> {},%,.format()"
   ]
  },
  {
   "cell_type": "code",
   "execution_count": 34,
   "id": "48b23f9e",
   "metadata": {},
   "outputs": [
    {
     "data": {
      "text/plain": [
       "(56.0, 'datadata')"
      ]
     },
     "execution_count": 34,
     "metadata": {},
     "output_type": "execute_result"
    }
   ],
   "source": [
    "age,weight"
   ]
  },
  {
   "cell_type": "markdown",
   "id": "68191173",
   "metadata": {},
   "source": [
    "# String Connection "
   ]
  },
  {
   "cell_type": "code",
   "execution_count": 35,
   "id": "63e9cda4",
   "metadata": {},
   "outputs": [],
   "source": [
    "statment1 = 'my ds class is at 9.30'\n",
    "statment2 = 'the strength is on average 50'"
   ]
  },
  {
   "cell_type": "code",
   "execution_count": 36,
   "id": "60e86f3c",
   "metadata": {},
   "outputs": [
    {
     "data": {
      "text/plain": [
       "'my ds class is at 9.30the strength is on average 50'"
      ]
     },
     "execution_count": 36,
     "metadata": {},
     "output_type": "execute_result"
    }
   ],
   "source": [
    "statment1 + statment2"
   ]
  },
  {
   "cell_type": "code",
   "execution_count": 37,
   "id": "7b29084c",
   "metadata": {},
   "outputs": [
    {
     "data": {
      "text/plain": [
       "'my ds class is at 9.30**/** the strength is on average 50'"
      ]
     },
     "execution_count": 37,
     "metadata": {},
     "output_type": "execute_result"
    }
   ],
   "source": [
    "statment1 + '**/** ' + statment2"
   ]
  },
  {
   "cell_type": "code",
   "execution_count": 38,
   "id": "4f019526",
   "metadata": {},
   "outputs": [
    {
     "data": {
      "text/plain": [
       "22"
      ]
     },
     "execution_count": 38,
     "metadata": {},
     "output_type": "execute_result"
    }
   ],
   "source": [
    "len(statment1)"
   ]
  },
  {
   "cell_type": "code",
   "execution_count": 39,
   "id": "ea549107",
   "metadata": {},
   "outputs": [
    {
     "data": {
      "text/plain": [
       "10"
      ]
     },
     "execution_count": 39,
     "metadata": {},
     "output_type": "execute_result"
    }
   ],
   "source": [
    "len(statment1[0:10])"
   ]
  },
  {
   "cell_type": "code",
   "execution_count": 40,
   "id": "87ee9672",
   "metadata": {},
   "outputs": [
    {
     "data": {
      "text/plain": [
       "29"
      ]
     },
     "execution_count": 40,
     "metadata": {},
     "output_type": "execute_result"
    }
   ],
   "source": [
    "len(statment2)"
   ]
  },
  {
   "cell_type": "markdown",
   "id": "ac86bc77",
   "metadata": {},
   "source": [
    "task 2: create a three variable and use input() to get the value/statment of variable ,to calculate/check which string has greater length "
   ]
  },
  {
   "cell_type": "code",
   "execution_count": null,
   "id": "d114bc08",
   "metadata": {},
   "outputs": [],
   "source": [
    "#.format(), f'' ,input(),len()"
   ]
  },
  {
   "cell_type": "markdown",
   "id": "f0a76d30",
   "metadata": {},
   "source": [
    "# List"
   ]
  },
  {
   "cell_type": "code",
   "execution_count": null,
   "id": "53c1d8f6",
   "metadata": {},
   "outputs": [],
   "source": [
    "#list create[],it can int, float,str,time,--> all type of data type."
   ]
  },
  {
   "cell_type": "code",
   "execution_count": 41,
   "id": "c1a40768",
   "metadata": {},
   "outputs": [],
   "source": [
    "List = [10,11,12,13,14,15,16,17,18,16]"
   ]
  },
  {
   "cell_type": "code",
   "execution_count": 42,
   "id": "0d96aba2",
   "metadata": {},
   "outputs": [
    {
     "data": {
      "text/plain": [
       "10"
      ]
     },
     "execution_count": 42,
     "metadata": {},
     "output_type": "execute_result"
    }
   ],
   "source": [
    "List[0]"
   ]
  },
  {
   "cell_type": "code",
   "execution_count": 43,
   "id": "c7c10cc3",
   "metadata": {},
   "outputs": [
    {
     "data": {
      "text/plain": [
       "int"
      ]
     },
     "execution_count": 43,
     "metadata": {},
     "output_type": "execute_result"
    }
   ],
   "source": [
    "type(List[0])"
   ]
  },
  {
   "cell_type": "code",
   "execution_count": 44,
   "id": "bfe8e5be",
   "metadata": {},
   "outputs": [
    {
     "data": {
      "text/plain": [
       "list"
      ]
     },
     "execution_count": 44,
     "metadata": {},
     "output_type": "execute_result"
    }
   ],
   "source": [
    "type(List[0:5])"
   ]
  },
  {
   "cell_type": "code",
   "execution_count": 48,
   "id": "636ce5a0",
   "metadata": {},
   "outputs": [
    {
     "data": {
      "text/plain": [
       "([14, 15, 16, 17, 18, 16], [16, 17, 18, 16])"
      ]
     },
     "execution_count": 48,
     "metadata": {},
     "output_type": "execute_result"
    }
   ],
   "source": [
    "List[4:],List[-4:]"
   ]
  },
  {
   "cell_type": "code",
   "execution_count": 45,
   "id": "592523c7",
   "metadata": {},
   "outputs": [
    {
     "data": {
      "text/plain": [
       "[16]"
      ]
     },
     "execution_count": 45,
     "metadata": {},
     "output_type": "execute_result"
    }
   ],
   "source": [
    "List[-1:]"
   ]
  },
  {
   "cell_type": "code",
   "execution_count": 46,
   "id": "66c83289",
   "metadata": {},
   "outputs": [
    {
     "data": {
      "text/plain": [
       "int"
      ]
     },
     "execution_count": 46,
     "metadata": {},
     "output_type": "execute_result"
    }
   ],
   "source": [
    "type(List[0])"
   ]
  },
  {
   "cell_type": "code",
   "execution_count": 47,
   "id": "c68a613d",
   "metadata": {},
   "outputs": [
    {
     "data": {
      "text/plain": [
       "[10, 11, 12, 13, 14, 15, 16, 17, 18, 16]"
      ]
     },
     "execution_count": 47,
     "metadata": {},
     "output_type": "execute_result"
    }
   ],
   "source": [
    "List[::]"
   ]
  },
  {
   "cell_type": "code",
   "execution_count": 50,
   "id": "38ef6a88",
   "metadata": {},
   "outputs": [],
   "source": [
    "L2 = [56,'name' ,1J+2, 6.0,True,False]"
   ]
  },
  {
   "cell_type": "code",
   "execution_count": 51,
   "id": "89db0ae4",
   "metadata": {},
   "outputs": [
    {
     "data": {
      "text/plain": [
       "[56, 'name', (2+1j), 6.0, True, False]"
      ]
     },
     "execution_count": 51,
     "metadata": {},
     "output_type": "execute_result"
    }
   ],
   "source": [
    "L2"
   ]
  },
  {
   "cell_type": "code",
   "execution_count": 52,
   "id": "28aef3ae",
   "metadata": {},
   "outputs": [
    {
     "data": {
      "text/plain": [
       "str"
      ]
     },
     "execution_count": 52,
     "metadata": {},
     "output_type": "execute_result"
    }
   ],
   "source": [
    "type(L2[1])"
   ]
  },
  {
   "cell_type": "code",
   "execution_count": 53,
   "id": "9ff4b03b",
   "metadata": {},
   "outputs": [
    {
     "data": {
      "text/plain": [
       "complex"
      ]
     },
     "execution_count": 53,
     "metadata": {},
     "output_type": "execute_result"
    }
   ],
   "source": [
    "type(L2[2])"
   ]
  },
  {
   "cell_type": "code",
   "execution_count": 54,
   "id": "f611a899",
   "metadata": {},
   "outputs": [
    {
     "data": {
      "text/plain": [
       "float"
      ]
     },
     "execution_count": 54,
     "metadata": {},
     "output_type": "execute_result"
    }
   ],
   "source": [
    "type(L2[3])"
   ]
  },
  {
   "cell_type": "code",
   "execution_count": 56,
   "id": "54dc2c7f",
   "metadata": {},
   "outputs": [],
   "source": [
    "L2[1] = 'excelr' # we can change any value using this formate from L2"
   ]
  },
  {
   "cell_type": "code",
   "execution_count": 58,
   "id": "159a8404",
   "metadata": {},
   "outputs": [
    {
     "data": {
      "text/plain": [
       "[56, 'excelr', (2+1j), 6.0, True, False]"
      ]
     },
     "execution_count": 58,
     "metadata": {},
     "output_type": "execute_result"
    }
   ],
   "source": [
    "L2"
   ]
  },
  {
   "cell_type": "code",
   "execution_count": 61,
   "id": "6a04ae5d",
   "metadata": {},
   "outputs": [],
   "source": [
    "L2[2] = 4+5j"
   ]
  },
  {
   "cell_type": "code",
   "execution_count": 60,
   "id": "ccba452a",
   "metadata": {},
   "outputs": [
    {
     "data": {
      "text/plain": [
       "(4+5j)"
      ]
     },
     "execution_count": 60,
     "metadata": {},
     "output_type": "execute_result"
    }
   ],
   "source": [
    "L2[2]"
   ]
  },
  {
   "cell_type": "code",
   "execution_count": 62,
   "id": "9f3427d8",
   "metadata": {},
   "outputs": [
    {
     "data": {
      "text/plain": [
       "[56, 'excelr', (4+5j), 6.0, True, False]"
      ]
     },
     "execution_count": 62,
     "metadata": {},
     "output_type": "execute_result"
    }
   ],
   "source": [
    "L2"
   ]
  },
  {
   "cell_type": "code",
   "execution_count": null,
   "id": "0c8961e4",
   "metadata": {},
   "outputs": [],
   "source": [
    "##data structure \n",
    "##1 string\n",
    "##2 List\n",
    "##3 Set\n"
   ]
  },
  {
   "cell_type": "code",
   "execution_count": 2,
   "id": "99e98f91",
   "metadata": {},
   "outputs": [],
   "source": [
    "L1 = [10,11,12,13,14,15,16,17,18,16]\n",
    "L2 = [10,11,12,16,17,18,16]\n",
    "L3 = [56, 10,'excelr', (4+5j), 6.0, True, False]"
   ]
  },
  {
   "cell_type": "code",
   "execution_count": 3,
   "id": "2504b275",
   "metadata": {},
   "outputs": [
    {
     "name": "stdout",
     "output_type": "stream",
     "text": [
      "<class 'list'>\n",
      "<class 'list'>\n",
      "<class 'list'>\n"
     ]
    }
   ],
   "source": [
    "print(type(L1))\n",
    "print(type(L2))\n",
    "print(type(L3))"
   ]
  },
  {
   "cell_type": "code",
   "execution_count": 65,
   "id": "a853fde3",
   "metadata": {},
   "outputs": [
    {
     "data": {
      "text/plain": [
       "[10, 12, 14, 16, 18]"
      ]
     },
     "execution_count": 65,
     "metadata": {},
     "output_type": "execute_result"
    }
   ],
   "source": [
    "L1[0::2]"
   ]
  },
  {
   "cell_type": "code",
   "execution_count": 66,
   "id": "aff0a99f",
   "metadata": {},
   "outputs": [
    {
     "data": {
      "text/plain": [
       "[17]"
      ]
     },
     "execution_count": 66,
     "metadata": {},
     "output_type": "execute_result"
    }
   ],
   "source": [
    "L1[-3::3]"
   ]
  },
  {
   "cell_type": "code",
   "execution_count": null,
   "id": "004cd7e7",
   "metadata": {},
   "outputs": [],
   "source": [
    "#[start : end : step]"
   ]
  },
  {
   "cell_type": "code",
   "execution_count": 67,
   "id": "cc959c96",
   "metadata": {},
   "outputs": [
    {
     "data": {
      "text/plain": [
       "[10, 11, 12, 13, 14, 15, 16, 17, 18, 16, 10, 11, 12, 16, 17, 18, 16]"
      ]
     },
     "execution_count": 67,
     "metadata": {},
     "output_type": "execute_result"
    }
   ],
   "source": [
    "L1 + L2"
   ]
  },
  {
   "cell_type": "code",
   "execution_count": 68,
   "id": "48c9bfb0",
   "metadata": {},
   "outputs": [
    {
     "data": {
      "text/plain": [
       "[10,\n",
       " 11,\n",
       " 12,\n",
       " 13,\n",
       " 14,\n",
       " 15,\n",
       " 16,\n",
       " 17,\n",
       " 18,\n",
       " 16,\n",
       " 56,\n",
       " 10,\n",
       " 'excelr',\n",
       " (4+5j),\n",
       " 6.0,\n",
       " True,\n",
       " False]"
      ]
     },
     "execution_count": 68,
     "metadata": {},
     "output_type": "execute_result"
    }
   ],
   "source": [
    "L1 + L3"
   ]
  },
  {
   "cell_type": "code",
   "execution_count": 69,
   "id": "88b83999",
   "metadata": {},
   "outputs": [
    {
     "data": {
      "text/plain": [
       "[10, 11, 12, 13, 14, 15, 16, 17, 18, 16]"
      ]
     },
     "execution_count": 69,
     "metadata": {},
     "output_type": "execute_result"
    }
   ],
   "source": [
    "L1"
   ]
  },
  {
   "cell_type": "code",
   "execution_count": 70,
   "id": "3affe0fd",
   "metadata": {},
   "outputs": [
    {
     "data": {
      "text/plain": [
       "[10,\n",
       " 11,\n",
       " 12,\n",
       " 13,\n",
       " 14,\n",
       " 15,\n",
       " 16,\n",
       " 17,\n",
       " 18,\n",
       " 16,\n",
       " 10,\n",
       " 11,\n",
       " 12,\n",
       " 13,\n",
       " 14,\n",
       " 15,\n",
       " 16,\n",
       " 17,\n",
       " 18,\n",
       " 16]"
      ]
     },
     "execution_count": 70,
     "metadata": {},
     "output_type": "execute_result"
    }
   ],
   "source": [
    "L1 * 2"
   ]
  },
  {
   "cell_type": "code",
   "execution_count": 71,
   "id": "c678a8f8",
   "metadata": {},
   "outputs": [
    {
     "name": "stdout",
     "output_type": "stream",
     "text": [
      "3.3333333333333335\n"
     ]
    }
   ],
   "source": [
    "print(L1[0]/3)"
   ]
  },
  {
   "cell_type": "code",
   "execution_count": 72,
   "id": "215277d2",
   "metadata": {},
   "outputs": [
    {
     "data": {
      "text/plain": [
       "([10, 11, 12, 13, 14, 15, 16, 17, 18, 16], [10, 11, 12, 16, 17, 18, 16])"
      ]
     },
     "execution_count": 72,
     "metadata": {},
     "output_type": "execute_result"
    }
   ],
   "source": [
    "L1 ,L2"
   ]
  },
  {
   "cell_type": "code",
   "execution_count": 74,
   "id": "c6be377a",
   "metadata": {},
   "outputs": [],
   "source": [
    "L1[7] = L2"
   ]
  },
  {
   "cell_type": "code",
   "execution_count": 75,
   "id": "84abf2a1",
   "metadata": {},
   "outputs": [
    {
     "data": {
      "text/plain": [
       "[10, 11, 12, 13, 14, 15, 16, [10, 11, 12, 16, 17, 18, 16], 18, 16]"
      ]
     },
     "execution_count": 75,
     "metadata": {},
     "output_type": "execute_result"
    }
   ],
   "source": [
    "L1"
   ]
  },
  {
   "cell_type": "code",
   "execution_count": 76,
   "id": "8410312d",
   "metadata": {},
   "outputs": [],
   "source": [
    "L1[7].append(18)"
   ]
  },
  {
   "cell_type": "code",
   "execution_count": 77,
   "id": "39e46dd6",
   "metadata": {},
   "outputs": [
    {
     "data": {
      "text/plain": [
       "[10, 11, 12, 13, 14, 15, 16, [10, 11, 12, 16, 17, 18, 16, 18], 18, 16]"
      ]
     },
     "execution_count": 77,
     "metadata": {},
     "output_type": "execute_result"
    }
   ],
   "source": [
    "L1"
   ]
  },
  {
   "cell_type": "code",
   "execution_count": 78,
   "id": "224c5eb7",
   "metadata": {},
   "outputs": [],
   "source": [
    "L4 = L1.copy()"
   ]
  },
  {
   "cell_type": "code",
   "execution_count": 79,
   "id": "07a8b883",
   "metadata": {},
   "outputs": [
    {
     "data": {
      "text/plain": [
       "[10, 11, 12, 13, 14, 15, 16, [10, 11, 12, 16, 17, 18, 16, 18], 18, 16]"
      ]
     },
     "execution_count": 79,
     "metadata": {},
     "output_type": "execute_result"
    }
   ],
   "source": [
    "L4"
   ]
  },
  {
   "cell_type": "code",
   "execution_count": 80,
   "id": "0ff8b0d9",
   "metadata": {},
   "outputs": [
    {
     "data": {
      "text/plain": [
       "[56, 10, 'excelr', (4+5j), 6.0, True, False]"
      ]
     },
     "execution_count": 80,
     "metadata": {},
     "output_type": "execute_result"
    }
   ],
   "source": [
    "L3"
   ]
  },
  {
   "cell_type": "code",
   "execution_count": 81,
   "id": "6017f160",
   "metadata": {},
   "outputs": [
    {
     "data": {
      "text/plain": [
       "1"
      ]
     },
     "execution_count": 81,
     "metadata": {},
     "output_type": "execute_result"
    }
   ],
   "source": [
    "L1.count(15)"
   ]
  },
  {
   "cell_type": "code",
   "execution_count": 82,
   "id": "0961a77b",
   "metadata": {},
   "outputs": [
    {
     "data": {
      "text/plain": [
       "[56, 10, 'excelr', (4+5j), 6.0, True, False]"
      ]
     },
     "execution_count": 82,
     "metadata": {},
     "output_type": "execute_result"
    }
   ],
   "source": [
    "L3"
   ]
  },
  {
   "cell_type": "code",
   "execution_count": 83,
   "id": "b6b13a9a",
   "metadata": {},
   "outputs": [
    {
     "data": {
      "text/plain": [
       "0"
      ]
     },
     "execution_count": 83,
     "metadata": {},
     "output_type": "execute_result"
    }
   ],
   "source": [
    "L1.count(19)"
   ]
  },
  {
   "cell_type": "code",
   "execution_count": 84,
   "id": "dbb3f707",
   "metadata": {},
   "outputs": [
    {
     "data": {
      "text/plain": [
       "[10, 11, 12, 16, 17, 18, 16, 18]"
      ]
     },
     "execution_count": 84,
     "metadata": {},
     "output_type": "execute_result"
    }
   ],
   "source": [
    "L2"
   ]
  },
  {
   "cell_type": "code",
   "execution_count": 85,
   "id": "aba6d1a1",
   "metadata": {},
   "outputs": [],
   "source": [
    "L3.extend(L2)"
   ]
  },
  {
   "cell_type": "code",
   "execution_count": 86,
   "id": "edeb581e",
   "metadata": {},
   "outputs": [
    {
     "data": {
      "text/plain": [
       "[56, 10, 'excelr', (4+5j), 6.0, True, False, 10, 11, 12, 16, 17, 18, 16, 18]"
      ]
     },
     "execution_count": 86,
     "metadata": {},
     "output_type": "execute_result"
    }
   ],
   "source": [
    "L3"
   ]
  },
  {
   "cell_type": "code",
   "execution_count": 87,
   "id": "f09a7d4f",
   "metadata": {},
   "outputs": [
    {
     "data": {
      "text/plain": [
       "15"
      ]
     },
     "execution_count": 87,
     "metadata": {},
     "output_type": "execute_result"
    }
   ],
   "source": [
    "len(L3)"
   ]
  },
  {
   "cell_type": "code",
   "execution_count": 88,
   "id": "3e8df0f0",
   "metadata": {},
   "outputs": [
    {
     "data": {
      "text/plain": [
       "5"
      ]
     },
     "execution_count": 88,
     "metadata": {},
     "output_type": "execute_result"
    }
   ],
   "source": [
    "L2.index(18)"
   ]
  },
  {
   "cell_type": "code",
   "execution_count": 89,
   "id": "187123c9",
   "metadata": {},
   "outputs": [],
   "source": [
    "L2.insert(2,20) #fisrt is nth value where we want to add the nuumber and second number is number which we want to add"
   ]
  },
  {
   "cell_type": "code",
   "execution_count": 90,
   "id": "85c73734",
   "metadata": {},
   "outputs": [
    {
     "data": {
      "text/plain": [
       "[10, 11, 20, 12, 16, 17, 18, 16, 18]"
      ]
     },
     "execution_count": 90,
     "metadata": {},
     "output_type": "execute_result"
    }
   ],
   "source": [
    "L2"
   ]
  },
  {
   "cell_type": "code",
   "execution_count": 91,
   "id": "9ba52082",
   "metadata": {},
   "outputs": [
    {
     "data": {
      "text/plain": [
       "18"
      ]
     },
     "execution_count": 91,
     "metadata": {},
     "output_type": "execute_result"
    }
   ],
   "source": [
    "L2.pop() #remove the last number"
   ]
  },
  {
   "cell_type": "code",
   "execution_count": 92,
   "id": "5add4da7",
   "metadata": {},
   "outputs": [
    {
     "data": {
      "text/plain": [
       "[10, 11, 20, 12, 16, 17, 18, 16]"
      ]
     },
     "execution_count": 92,
     "metadata": {},
     "output_type": "execute_result"
    }
   ],
   "source": [
    "L2"
   ]
  },
  {
   "cell_type": "code",
   "execution_count": 93,
   "id": "b67b612f",
   "metadata": {},
   "outputs": [],
   "source": [
    "L2.remove(11)"
   ]
  },
  {
   "cell_type": "code",
   "execution_count": 94,
   "id": "3dc46d3e",
   "metadata": {},
   "outputs": [
    {
     "data": {
      "text/plain": [
       "[10, 20, 12, 16, 17, 18, 16]"
      ]
     },
     "execution_count": 94,
     "metadata": {},
     "output_type": "execute_result"
    }
   ],
   "source": [
    "L2"
   ]
  },
  {
   "cell_type": "code",
   "execution_count": 95,
   "id": "4cc8f751",
   "metadata": {},
   "outputs": [],
   "source": [
    "L2.reverse()"
   ]
  },
  {
   "cell_type": "code",
   "execution_count": 96,
   "id": "47a6b0c2",
   "metadata": {},
   "outputs": [
    {
     "data": {
      "text/plain": [
       "[16, 18, 17, 16, 12, 20, 10]"
      ]
     },
     "execution_count": 96,
     "metadata": {},
     "output_type": "execute_result"
    }
   ],
   "source": [
    "L2"
   ]
  },
  {
   "cell_type": "code",
   "execution_count": 97,
   "id": "f514d7a5",
   "metadata": {},
   "outputs": [],
   "source": [
    "L3.remove(10)"
   ]
  },
  {
   "cell_type": "code",
   "execution_count": 98,
   "id": "d6192c2a",
   "metadata": {},
   "outputs": [
    {
     "data": {
      "text/plain": [
       "[56, 'excelr', (4+5j), 6.0, True, False, 10, 11, 12, 16, 17, 18, 16, 18]"
      ]
     },
     "execution_count": 98,
     "metadata": {},
     "output_type": "execute_result"
    }
   ],
   "source": [
    "L3"
   ]
  },
  {
   "cell_type": "code",
   "execution_count": 99,
   "id": "ff8a7cf7",
   "metadata": {},
   "outputs": [],
   "source": [
    "L2.sort(reverse=True)"
   ]
  },
  {
   "cell_type": "code",
   "execution_count": 100,
   "id": "9af53062",
   "metadata": {},
   "outputs": [
    {
     "data": {
      "text/plain": [
       "[20, 18, 17, 16, 16, 12, 10]"
      ]
     },
     "execution_count": 100,
     "metadata": {},
     "output_type": "execute_result"
    }
   ],
   "source": [
    "L2"
   ]
  },
  {
   "cell_type": "markdown",
   "id": "c83b757c",
   "metadata": {},
   "source": [
    "##### L1,L2,L3"
   ]
  },
  {
   "cell_type": "code",
   "execution_count": 4,
   "id": "8ae92725",
   "metadata": {},
   "outputs": [],
   "source": [
    "L1.clear()"
   ]
  },
  {
   "cell_type": "code",
   "execution_count": 5,
   "id": "7dc137a8",
   "metadata": {},
   "outputs": [
    {
     "data": {
      "text/plain": [
       "[]"
      ]
     },
     "execution_count": 5,
     "metadata": {},
     "output_type": "execute_result"
    }
   ],
   "source": [
    "L1"
   ]
  },
  {
   "cell_type": "code",
   "execution_count": 6,
   "id": "817982b6",
   "metadata": {},
   "outputs": [],
   "source": [
    "L2.append([10,11,15,18,19])"
   ]
  },
  {
   "cell_type": "code",
   "execution_count": 7,
   "id": "4a6bad48",
   "metadata": {},
   "outputs": [
    {
     "data": {
      "text/plain": [
       "[10, 11, 12, 16, 17, 18, 16, [10, 11, 15, 18, 19]]"
      ]
     },
     "execution_count": 7,
     "metadata": {},
     "output_type": "execute_result"
    }
   ],
   "source": [
    "L2"
   ]
  },
  {
   "cell_type": "code",
   "execution_count": 13,
   "id": "ba66dd4a",
   "metadata": {},
   "outputs": [],
   "source": [
    "L2[0] = 15"
   ]
  },
  {
   "cell_type": "markdown",
   "id": "fa3552fa",
   "metadata": {},
   "source": [
    "L2"
   ]
  },
  {
   "cell_type": "code",
   "execution_count": 14,
   "id": "42589d01",
   "metadata": {},
   "outputs": [
    {
     "data": {
      "text/plain": [
       "[15, 11, 12, 16, 17, 18, 16, [15, 11, 15, 18, 19]]"
      ]
     },
     "execution_count": 14,
     "metadata": {},
     "output_type": "execute_result"
    }
   ],
   "source": [
    "L2"
   ]
  },
  {
   "cell_type": "code",
   "execution_count": 121,
   "id": "ce1279d2",
   "metadata": {},
   "outputs": [],
   "source": [
    "L6 =  [[10,15,14,[5,4,6]],[12,17,18],[13,18,19]]"
   ]
  },
  {
   "cell_type": "code",
   "execution_count": 122,
   "id": "62a9eb86",
   "metadata": {},
   "outputs": [
    {
     "data": {
      "text/plain": [
       "17"
      ]
     },
     "execution_count": 122,
     "metadata": {},
     "output_type": "execute_result"
    }
   ],
   "source": [
    "L6[1][1]"
   ]
  },
  {
   "cell_type": "code",
   "execution_count": 126,
   "id": "b07bddd9",
   "metadata": {},
   "outputs": [
    {
     "data": {
      "text/plain": [
       "4"
      ]
     },
     "execution_count": 126,
     "metadata": {},
     "output_type": "execute_result"
    }
   ],
   "source": [
    "L6[0][3][1]"
   ]
  },
  {
   "cell_type": "code",
   "execution_count": 127,
   "id": "afae49a6",
   "metadata": {},
   "outputs": [],
   "source": [
    "L7 = [[[10,0,0],[5,4,6]],[12,17,18],[13,18,19]]"
   ]
  },
  {
   "cell_type": "code",
   "execution_count": 128,
   "id": "a12bd1af",
   "metadata": {},
   "outputs": [
    {
     "data": {
      "text/plain": [
       "(0, 18)"
      ]
     },
     "execution_count": 128,
     "metadata": {},
     "output_type": "execute_result"
    }
   ],
   "source": [
    "L7[0][0][2],L7[2][1]"
   ]
  },
  {
   "cell_type": "code",
   "execution_count": null,
   "id": "3de349aa",
   "metadata": {},
   "outputs": [],
   "source": [
    "L7[0][0][2]=20"
   ]
  },
  {
   "cell_type": "code",
   "execution_count": null,
   "id": "b7191fb5",
   "metadata": {},
   "outputs": [],
   "source": [
    "L7[2][1]=5"
   ]
  },
  {
   "cell_type": "code",
   "execution_count": null,
   "id": "93d81b4c",
   "metadata": {},
   "outputs": [],
   "source": [
    "L7"
   ]
  },
  {
   "cell_type": "code",
   "execution_count": null,
   "id": "c8aaebd8",
   "metadata": {},
   "outputs": [],
   "source": [
    "#task2: create"
   ]
  },
  {
   "cell_type": "code",
   "execution_count": 2,
   "id": "2239c532",
   "metadata": {},
   "outputs": [],
   "source": [
    "age=[10,20,15,19,26]"
   ]
  },
  {
   "cell_type": "code",
   "execution_count": 3,
   "id": "cb3cca70",
   "metadata": {},
   "outputs": [
    {
     "data": {
      "text/plain": [
       "[10, 20, 15, 19, 26]"
      ]
     },
     "execution_count": 3,
     "metadata": {},
     "output_type": "execute_result"
    }
   ],
   "source": [
    "age"
   ]
  },
  {
   "cell_type": "code",
   "execution_count": 4,
   "id": "bcff56b1",
   "metadata": {},
   "outputs": [],
   "source": [
    "age.sort()\n",
    "maximum_age = age[-1]\n",
    "minimum_age = age[0]"
   ]
  },
  {
   "cell_type": "code",
   "execution_count": 5,
   "id": "eeb83adf",
   "metadata": {},
   "outputs": [
    {
     "name": "stdout",
     "output_type": "stream",
     "text": [
      "[10, 15, 19, 20, 26]\n",
      "26\n",
      "10\n"
     ]
    }
   ],
   "source": [
    "print(age)\n",
    "print(maximum_age)\n",
    "print(minimum_age)"
   ]
  },
  {
   "cell_type": "markdown",
   "id": "ce42c7e5",
   "metadata": {},
   "source": [
    "# Tuple"
   ]
  },
  {
   "cell_type": "code",
   "execution_count": null,
   "id": "ffb38674",
   "metadata": {},
   "outputs": [],
   "source": [
    "#Tuple-->,without braces,immutable."
   ]
  },
  {
   "cell_type": "code",
   "execution_count": null,
   "id": "a4317463",
   "metadata": {},
   "outputs": [],
   "source": [
    "T1 = 10,'Excelr',10j+1"
   ]
  },
  {
   "cell_type": "code",
   "execution_count": null,
   "id": "b7b64949",
   "metadata": {},
   "outputs": [],
   "source": [
    "type(T1)"
   ]
  },
  {
   "cell_type": "code",
   "execution_count": null,
   "id": "14002fc7",
   "metadata": {},
   "outputs": [],
   "source": [
    "T2 =(10,14,15,'hi',10j+1)"
   ]
  },
  {
   "cell_type": "code",
   "execution_count": null,
   "id": "574a769c",
   "metadata": {},
   "outputs": [],
   "source": [
    "type(T2)"
   ]
  },
  {
   "cell_type": "code",
   "execution_count": null,
   "id": "882e199d",
   "metadata": {},
   "outputs": [],
   "source": [
    "T2.index(14)"
   ]
  },
  {
   "cell_type": "code",
   "execution_count": null,
   "id": "93ebe8a6",
   "metadata": {},
   "outputs": [],
   "source": [
    "T3=('one',2,'three',4)"
   ]
  },
  {
   "cell_type": "code",
   "execution_count": null,
   "id": "24b67fe5",
   "metadata": {},
   "outputs": [],
   "source": [
    "T3"
   ]
  },
  {
   "cell_type": "code",
   "execution_count": null,
   "id": "45b03843",
   "metadata": {},
   "outputs": [],
   "source": [
    "T1 + T2"
   ]
  },
  {
   "cell_type": "code",
   "execution_count": null,
   "id": "9ff4a075",
   "metadata": {},
   "outputs": [],
   "source": [
    "T3 =list (T1)"
   ]
  },
  {
   "cell_type": "code",
   "execution_count": null,
   "id": "39f4b123",
   "metadata": {},
   "outputs": [],
   "source": [
    "type(T3)"
   ]
  },
  {
   "cell_type": "code",
   "execution_count": null,
   "id": "96983a38",
   "metadata": {},
   "outputs": [],
   "source": [
    "T3[0] = 20"
   ]
  },
  {
   "cell_type": "code",
   "execution_count": null,
   "id": "a88c07c6",
   "metadata": {},
   "outputs": [],
   "source": [
    "T4 =tuple(T3)"
   ]
  },
  {
   "cell_type": "code",
   "execution_count": null,
   "id": "73991dab",
   "metadata": {},
   "outputs": [],
   "source": [
    "type(T4),T4"
   ]
  },
  {
   "cell_type": "markdown",
   "id": "0ac1c16b",
   "metadata": {},
   "source": [
    "# SET"
   ]
  },
  {
   "cell_type": "code",
   "execution_count": 1,
   "id": "8bc2e01c",
   "metadata": {},
   "outputs": [],
   "source": [
    "\n",
    "#it can be created {},set()"
   ]
  },
  {
   "cell_type": "code",
   "execution_count": 2,
   "id": "fb280d00",
   "metadata": {},
   "outputs": [],
   "source": [
    "S1 = {101,102,105,108,110,99,88,110,101}"
   ]
  },
  {
   "cell_type": "code",
   "execution_count": 3,
   "id": "6c5ca919",
   "metadata": {},
   "outputs": [
    {
     "data": {
      "text/plain": [
       "{88, 99, 101, 102, 105, 108, 110}"
      ]
     },
     "execution_count": 3,
     "metadata": {},
     "output_type": "execute_result"
    }
   ],
   "source": [
    "S1"
   ]
  },
  {
   "cell_type": "code",
   "execution_count": 4,
   "id": "0cd2add2",
   "metadata": {},
   "outputs": [
    {
     "data": {
      "text/plain": [
       "set"
      ]
     },
     "execution_count": 4,
     "metadata": {},
     "output_type": "execute_result"
    }
   ],
   "source": [
    "type(S1)"
   ]
  },
  {
   "cell_type": "code",
   "execution_count": 5,
   "id": "0b2743d0",
   "metadata": {},
   "outputs": [
    {
     "data": {
      "text/plain": [
       "{88, 99, 101, 201, 202, 205, 208, 210}"
      ]
     },
     "execution_count": 5,
     "metadata": {},
     "output_type": "execute_result"
    }
   ],
   "source": [
    "s2= {201,202,205,208,210,99,88,101}\n",
    "s2"
   ]
  },
  {
   "cell_type": "code",
   "execution_count": 6,
   "id": "e6a7dbc7",
   "metadata": {},
   "outputs": [
    {
     "data": {
      "text/plain": [
       "{88, 99, 101, 201, 202, 205, 208, 210}"
      ]
     },
     "execution_count": 6,
     "metadata": {},
     "output_type": "execute_result"
    }
   ],
   "source": [
    "s2.add(201)\n",
    "s2"
   ]
  },
  {
   "cell_type": "code",
   "execution_count": 7,
   "id": "bd33fd3c",
   "metadata": {},
   "outputs": [
    {
     "data": {
      "text/plain": [
       "{88, 99, 101, 201, 202, 205, 208, 210, 211}"
      ]
     },
     "execution_count": 7,
     "metadata": {},
     "output_type": "execute_result"
    }
   ],
   "source": [
    "s2.add(211)\n",
    "s2"
   ]
  },
  {
   "cell_type": "code",
   "execution_count": 8,
   "id": "a1f4dfa4",
   "metadata": {},
   "outputs": [],
   "source": [
    "s3 = S1.copy()"
   ]
  },
  {
   "cell_type": "code",
   "execution_count": 9,
   "id": "8caf8796",
   "metadata": {},
   "outputs": [
    {
     "data": {
      "text/plain": [
       "{88, 99, 101, 102, 105, 108, 110}"
      ]
     },
     "execution_count": 9,
     "metadata": {},
     "output_type": "execute_result"
    }
   ],
   "source": [
    "s3"
   ]
  },
  {
   "cell_type": "code",
   "execution_count": 10,
   "id": "6014191c",
   "metadata": {},
   "outputs": [
    {
     "data": {
      "text/plain": [
       "{102, 105, 108, 110}"
      ]
     },
     "execution_count": 10,
     "metadata": {},
     "output_type": "execute_result"
    }
   ],
   "source": [
    "S1.difference(s2)"
   ]
  },
  {
   "cell_type": "code",
   "execution_count": 11,
   "id": "45d6f4ab",
   "metadata": {},
   "outputs": [],
   "source": [
    "s4=S1"
   ]
  },
  {
   "cell_type": "code",
   "execution_count": 12,
   "id": "dcd9a1ad",
   "metadata": {},
   "outputs": [
    {
     "data": {
      "text/plain": [
       "{88, 99, 101, 102, 105, 108, 110}"
      ]
     },
     "execution_count": 12,
     "metadata": {},
     "output_type": "execute_result"
    }
   ],
   "source": [
    "s4"
   ]
  },
  {
   "cell_type": "code",
   "execution_count": 13,
   "id": "4b7d9791",
   "metadata": {},
   "outputs": [],
   "source": [
    "S1.difference_update(s2)"
   ]
  },
  {
   "cell_type": "code",
   "execution_count": 14,
   "id": "194d38b5",
   "metadata": {},
   "outputs": [
    {
     "data": {
      "text/plain": [
       "{102, 105, 108, 110}"
      ]
     },
     "execution_count": 14,
     "metadata": {},
     "output_type": "execute_result"
    }
   ],
   "source": [
    "S1"
   ]
  },
  {
   "cell_type": "code",
   "execution_count": 15,
   "id": "15e0e6b3",
   "metadata": {},
   "outputs": [
    {
     "data": {
      "text/plain": [
       "set()"
      ]
     },
     "execution_count": 15,
     "metadata": {},
     "output_type": "execute_result"
    }
   ],
   "source": [
    "S1.intersection(s2)"
   ]
  },
  {
   "cell_type": "code",
   "execution_count": 16,
   "id": "344a03fe",
   "metadata": {},
   "outputs": [],
   "source": [
    "S1.discard(s2)"
   ]
  },
  {
   "cell_type": "code",
   "execution_count": 17,
   "id": "b8413247",
   "metadata": {},
   "outputs": [
    {
     "data": {
      "text/plain": [
       "{102, 105, 108, 110}"
      ]
     },
     "execution_count": 17,
     "metadata": {},
     "output_type": "execute_result"
    }
   ],
   "source": [
    "S1"
   ]
  },
  {
   "cell_type": "code",
   "execution_count": 18,
   "id": "e168bdbc",
   "metadata": {},
   "outputs": [
    {
     "data": {
      "text/plain": [
       "False"
      ]
     },
     "execution_count": 18,
     "metadata": {},
     "output_type": "execute_result"
    }
   ],
   "source": [
    "s2.issuperset(s3)"
   ]
  },
  {
   "cell_type": "code",
   "execution_count": 19,
   "id": "50f7d1aa",
   "metadata": {},
   "outputs": [
    {
     "data": {
      "text/plain": [
       "99"
      ]
     },
     "execution_count": 19,
     "metadata": {},
     "output_type": "execute_result"
    }
   ],
   "source": [
    "s2.pop()"
   ]
  },
  {
   "cell_type": "code",
   "execution_count": 20,
   "id": "e8ed1ae9",
   "metadata": {},
   "outputs": [
    {
     "data": {
      "text/plain": [
       "{88, 101, 102, 105, 108, 110, 201, 202, 205, 208, 210, 211}"
      ]
     },
     "execution_count": 20,
     "metadata": {},
     "output_type": "execute_result"
    }
   ],
   "source": [
    "S1.symmetric_difference(s2)"
   ]
  },
  {
   "cell_type": "code",
   "execution_count": 21,
   "id": "58ffbadd",
   "metadata": {},
   "outputs": [
    {
     "data": {
      "text/plain": [
       "({102, 105, 108, 110}, {88, 101, 201, 202, 205, 208, 210, 211})"
      ]
     },
     "execution_count": 21,
     "metadata": {},
     "output_type": "execute_result"
    }
   ],
   "source": [
    "S1,s2"
   ]
  },
  {
   "cell_type": "code",
   "execution_count": 22,
   "id": "6fd5cc83",
   "metadata": {},
   "outputs": [],
   "source": [
    "S1.symmetric_difference_update(s2)"
   ]
  },
  {
   "cell_type": "code",
   "execution_count": 23,
   "id": "58eb2ddb",
   "metadata": {},
   "outputs": [
    {
     "data": {
      "text/plain": [
       "({88, 101, 102, 105, 108, 110, 201, 202, 205, 208, 210, 211},\n",
       " {88, 101, 201, 202, 205, 208, 210, 211})"
      ]
     },
     "execution_count": 23,
     "metadata": {},
     "output_type": "execute_result"
    }
   ],
   "source": [
    "S1,s2"
   ]
  },
  {
   "cell_type": "code",
   "execution_count": 24,
   "id": "543dfa3e",
   "metadata": {},
   "outputs": [
    {
     "data": {
      "text/plain": [
       "{88, 101, 102, 105, 108, 110, 201, 202, 205, 208, 210, 211}"
      ]
     },
     "execution_count": 24,
     "metadata": {},
     "output_type": "execute_result"
    }
   ],
   "source": [
    "S1.union()"
   ]
  },
  {
   "cell_type": "markdown",
   "id": "e9d0ce45",
   "metadata": {},
   "source": [
    "# Dictionary "
   ]
  },
  {
   "cell_type": "code",
   "execution_count": 25,
   "id": "690d255a",
   "metadata": {},
   "outputs": [],
   "source": [
    "#slicing : no\n",
    "#access : no using index\n",
    "#{key:value\n",
    "#key1:value}"
   ]
  },
  {
   "cell_type": "code",
   "execution_count": 31,
   "id": "fae0bbc8",
   "metadata": {},
   "outputs": [],
   "source": [
    "dict1={1:'s1',\n",
    "     2:'s2',\n",
    "     3:'s3',\n",
    "     4:'s4'\n",
    "     }"
   ]
  },
  {
   "cell_type": "code",
   "execution_count": 32,
   "id": "52bacb8d",
   "metadata": {},
   "outputs": [
    {
     "data": {
      "text/plain": [
       "dict"
      ]
     },
     "execution_count": 32,
     "metadata": {},
     "output_type": "execute_result"
    }
   ],
   "source": [
    "type(dict1)"
   ]
  },
  {
   "cell_type": "code",
   "execution_count": 33,
   "id": "d696f31b",
   "metadata": {},
   "outputs": [
    {
     "data": {
      "text/plain": [
       "'s2'"
      ]
     },
     "execution_count": 33,
     "metadata": {},
     "output_type": "execute_result"
    }
   ],
   "source": [
    "dict1.get(2)"
   ]
  },
  {
   "cell_type": "code",
   "execution_count": 34,
   "id": "94326f6b",
   "metadata": {},
   "outputs": [
    {
     "data": {
      "text/plain": [
       "dict_items([(1, 's1'), (2, 's2'), (3, 's3'), (4, 's4')])"
      ]
     },
     "execution_count": 34,
     "metadata": {},
     "output_type": "execute_result"
    }
   ],
   "source": [
    "dict1.items()"
   ]
  },
  {
   "cell_type": "code",
   "execution_count": 36,
   "id": "40ffa67c",
   "metadata": {},
   "outputs": [
    {
     "data": {
      "text/plain": [
       "dict_keys([1, 2, 3, 4])"
      ]
     },
     "execution_count": 36,
     "metadata": {},
     "output_type": "execute_result"
    }
   ],
   "source": [
    "dict1.keys()"
   ]
  },
  {
   "cell_type": "code",
   "execution_count": 37,
   "id": "08cd4327",
   "metadata": {},
   "outputs": [
    {
     "data": {
      "text/plain": [
       "dict_values(['s1', 's2', 's3', 's4'])"
      ]
     },
     "execution_count": 37,
     "metadata": {},
     "output_type": "execute_result"
    }
   ],
   "source": [
    "dict1.values()"
   ]
  },
  {
   "cell_type": "code",
   "execution_count": 38,
   "id": "af97d1b3",
   "metadata": {},
   "outputs": [
    {
     "data": {
      "text/plain": [
       "'s2'"
      ]
     },
     "execution_count": 38,
     "metadata": {},
     "output_type": "execute_result"
    }
   ],
   "source": [
    "dict1.pop(2)"
   ]
  },
  {
   "cell_type": "code",
   "execution_count": 39,
   "id": "d18087a8",
   "metadata": {},
   "outputs": [
    {
     "data": {
      "text/plain": [
       "{1: 's1', 3: 's3', 4: 's4'}"
      ]
     },
     "execution_count": 39,
     "metadata": {},
     "output_type": "execute_result"
    }
   ],
   "source": [
    "dict1"
   ]
  },
  {
   "cell_type": "code",
   "execution_count": 41,
   "id": "8a2f2f96",
   "metadata": {},
   "outputs": [],
   "source": [
    "dict2={1:'d1',2:'d2',3:'d3',4:'d4'}"
   ]
  },
  {
   "cell_type": "code",
   "execution_count": 42,
   "id": "20e90bc0",
   "metadata": {},
   "outputs": [
    {
     "data": {
      "text/plain": [
       "{1: 'd1', 2: 'd2', 3: 'd3', 4: 'd4'}"
      ]
     },
     "execution_count": 42,
     "metadata": {},
     "output_type": "execute_result"
    }
   ],
   "source": [
    "dict2"
   ]
  },
  {
   "cell_type": "code",
   "execution_count": 84,
   "id": "9e0904e0",
   "metadata": {},
   "outputs": [],
   "source": [
    "dict3=dict1.fromkeys(dict2)"
   ]
  },
  {
   "cell_type": "code",
   "execution_count": 85,
   "id": "4fa2489f",
   "metadata": {},
   "outputs": [
    {
     "data": {
      "text/plain": [
       "{1: 's1', 3: 's3', 2: 's2'}"
      ]
     },
     "execution_count": 85,
     "metadata": {},
     "output_type": "execute_result"
    }
   ],
   "source": [
    "dict1"
   ]
  },
  {
   "cell_type": "code",
   "execution_count": 86,
   "id": "8e3d2659",
   "metadata": {},
   "outputs": [
    {
     "data": {
      "text/plain": [
       "(2, 's2')"
      ]
     },
     "execution_count": 86,
     "metadata": {},
     "output_type": "execute_result"
    }
   ],
   "source": [
    "dict1.popitem()"
   ]
  },
  {
   "cell_type": "code",
   "execution_count": 88,
   "id": "66565d0e",
   "metadata": {},
   "outputs": [
    {
     "data": {
      "text/plain": [
       "{1: 's1', 3: 's3', 2: 's2'}"
      ]
     },
     "execution_count": 88,
     "metadata": {},
     "output_type": "execute_result"
    }
   ],
   "source": [
    "dict1.update({2:'s2'})\n",
    "dict1"
   ]
  },
  {
   "cell_type": "code",
   "execution_count": 89,
   "id": "87f852dd",
   "metadata": {},
   "outputs": [
    {
     "data": {
      "text/plain": [
       "{1: None, 2: None, 3: None, 4: None}"
      ]
     },
     "execution_count": 89,
     "metadata": {},
     "output_type": "execute_result"
    }
   ],
   "source": [
    "dict3"
   ]
  },
  {
   "cell_type": "code",
   "execution_count": 104,
   "id": "9f8f24e5",
   "metadata": {},
   "outputs": [
    {
     "data": {
      "text/plain": [
       "{1: 'g3', 2: None, 3: None, 4: None}"
      ]
     },
     "execution_count": 104,
     "metadata": {},
     "output_type": "execute_result"
    }
   ],
   "source": [
    "dict3[1]='g3'\n",
    "dict3"
   ]
  },
  {
   "cell_type": "code",
   "execution_count": 2,
   "id": "70b17056",
   "metadata": {},
   "outputs": [],
   "source": [
    "student_info={'st_id':[1,2,3,4],\n",
    "              'name:':['kavita','Rafy','anzil','ashwin'],\n",
    "              'marks':[60,80,70,90]}"
   ]
  },
  {
   "cell_type": "code",
   "execution_count": 3,
   "id": "7fb11327",
   "metadata": {},
   "outputs": [
    {
     "data": {
      "text/plain": [
       "{'st_id': [1, 2, 3, 4],\n",
       " 'name:': ['kavita', 'Rafy', 'anzil', 'ashwin'],\n",
       " 'marks': [60, 80, 70, 90]}"
      ]
     },
     "execution_count": 3,
     "metadata": {},
     "output_type": "execute_result"
    }
   ],
   "source": [
    "student_info"
   ]
  },
  {
   "cell_type": "code",
   "execution_count": 4,
   "id": "5d21c708",
   "metadata": {},
   "outputs": [
    {
     "data": {
      "text/plain": [
       "[60, 80, 70, 90]"
      ]
     },
     "execution_count": 4,
     "metadata": {},
     "output_type": "execute_result"
    }
   ],
   "source": [
    "student_info['marks']"
   ]
  },
  {
   "cell_type": "code",
   "execution_count": 5,
   "id": "89277a46",
   "metadata": {},
   "outputs": [
    {
     "data": {
      "text/plain": [
       "[1, 2, 3, 4]"
      ]
     },
     "execution_count": 5,
     "metadata": {},
     "output_type": "execute_result"
    }
   ],
   "source": [
    "student_info['st_id']"
   ]
  },
  {
   "cell_type": "code",
   "execution_count": 6,
   "id": "3c3a1888",
   "metadata": {},
   "outputs": [
    {
     "data": {
      "text/plain": [
       "['kavita', 'Rafy', 'anzil', 'ashwin']"
      ]
     },
     "execution_count": 6,
     "metadata": {},
     "output_type": "execute_result"
    }
   ],
   "source": [
    "student_info['name:']"
   ]
  },
  {
   "cell_type": "code",
   "execution_count": 10,
   "id": "466d4105",
   "metadata": {},
   "outputs": [
    {
     "data": {
      "text/plain": [
       "True"
      ]
     },
     "execution_count": 10,
     "metadata": {},
     "output_type": "execute_result"
    }
   ],
   "source": [
    "'anzil' in student_info ['name:']"
   ]
  },
  {
   "cell_type": "code",
   "execution_count": 11,
   "id": "4c225bd1",
   "metadata": {},
   "outputs": [
    {
     "data": {
      "text/plain": [
       "list"
      ]
     },
     "execution_count": 11,
     "metadata": {},
     "output_type": "execute_result"
    }
   ],
   "source": [
    "type(student_info['name:'])"
   ]
  },
  {
   "cell_type": "code",
   "execution_count": 13,
   "id": "8c14ec78",
   "metadata": {},
   "outputs": [
    {
     "data": {
      "text/plain": [
       "75.0"
      ]
     },
     "execution_count": 13,
     "metadata": {},
     "output_type": "execute_result"
    }
   ],
   "source": [
    "st_avg_marks=sum(student_info['marks'])/len(student_info['marks'])\n",
    "st_avg_marks"
   ]
  },
  {
   "cell_type": "code",
   "execution_count": 15,
   "id": "689ae76c",
   "metadata": {},
   "outputs": [],
   "source": [
    "student_info['name:'] = ['kavita', 'Rafy', 'anzil', 'ashwin','praju']"
   ]
  },
  {
   "cell_type": "code",
   "execution_count": 16,
   "id": "c79256e3",
   "metadata": {},
   "outputs": [
    {
     "data": {
      "text/plain": [
       "dict_keys(['st_id', 'name:', 'marks'])"
      ]
     },
     "execution_count": 16,
     "metadata": {},
     "output_type": "execute_result"
    }
   ],
   "source": [
    "student_info.keys()"
   ]
  },
  {
   "cell_type": "code",
   "execution_count": 17,
   "id": "d67dffcb",
   "metadata": {},
   "outputs": [
    {
     "data": {
      "text/plain": [
       "{'st_id': [1, 2, 3, 4],\n",
       " 'name:': ['kavita', 'Rafy', 'anzil', 'ashwin', 'praju'],\n",
       " 'marks': [60, 80, 70, 90]}"
      ]
     },
     "execution_count": 17,
     "metadata": {},
     "output_type": "execute_result"
    }
   ],
   "source": [
    "student_info"
   ]
  },
  {
   "cell_type": "code",
   "execution_count": null,
   "id": "81f33114",
   "metadata": {},
   "outputs": [],
   "source": []
  },
  {
   "cell_type": "code",
   "execution_count": null,
   "id": "53043119",
   "metadata": {},
   "outputs": [],
   "source": []
  },
  {
   "cell_type": "code",
   "execution_count": null,
   "id": "53e88ddd",
   "metadata": {},
   "outputs": [],
   "source": []
  },
  {
   "cell_type": "code",
   "execution_count": 1,
   "id": "c5bdd727",
   "metadata": {},
   "outputs": [],
   "source": [
    "student_details=[{'name':'sam',\n",
    "                 'age':25,\n",
    "                 'sub':['s1','s2','s3','s4','s5','s6'],\n",
    "                 'marks':[60,40,50,80,90]},\n",
    "                 {'name':'pam',\n",
    "                 'age':25,\n",
    "                 'sub':['s1','s2','s3','s4','s5','s6'],\n",
    "                 'marks':[60,40,50,80,90]},\n",
    "                 {'name':'anzil',\n",
    "                 'age':22,\n",
    "                 'sub':['s1','s2','s3','s4','s5','s6'],\n",
    "                 'marks':[60,90,40,80,90]},\n",
    "                 {'name':'Aswin',\n",
    "                 'age':24,\n",
    "                 'sub':['s1','s2','s3','s4','s5','s6'],\n",
    "                 'marks':[70,40,80,80,90]},\n",
    "                 {'name':'Rafi',\n",
    "                 'age':25,\n",
    "                 'sub':['s1','s2','s3','s4','s5','s6'],\n",
    "                 'marks':[70,40,80,80,90]},\n",
    "                 {'name':'kavita',\n",
    "                 'age':23,\n",
    "                 'sub':['s1','s2','s3','s4','s5','s6'],\n",
    "                 'marks':[60,50,50,90,40]},\n",
    "                 {'name':'xyz',\n",
    "                 'age':27,\n",
    "                 'sub':['s1','s2','s3','s4','s5','s6'],\n",
    "                 'marks':[60,40,50,80,90]},\n",
    "                 {'name':'rutuja',\n",
    "                 'age':21,\n",
    "                 'sub':['s1','s2','s3','s4','s5','s6'],\n",
    "                 'marks':[60,80,50,50,90]},\n",
    "                 {'name':'yz',\n",
    "                 'age':24,\n",
    "                 'sub':['s1','s2','s3','s4','s5','s6'],\n",
    "                 'marks':[60,40,50,80,90]},\n",
    "                 {'name':'ram',\n",
    "                 'age':25,\n",
    "                 'sub':['s1','s2','s3','s4','s5','s6'],\n",
    "                 'marks':[60,50,50,60,90]},\n",
    "                ]"
   ]
  },
  {
   "cell_type": "code",
   "execution_count": 2,
   "id": "54718f1b",
   "metadata": {},
   "outputs": [
    {
     "data": {
      "text/plain": [
       "list"
      ]
     },
     "execution_count": 2,
     "metadata": {},
     "output_type": "execute_result"
    }
   ],
   "source": [
    "type(student_details)"
   ]
  },
  {
   "cell_type": "code",
   "execution_count": 17,
   "id": "f4ab894a",
   "metadata": {},
   "outputs": [
    {
     "data": {
      "text/plain": [
       "64.0"
      ]
     },
     "execution_count": 17,
     "metadata": {},
     "output_type": "execute_result"
    }
   ],
   "source": [
    "st1_avg_marks=sum(student_details[0]['marks'])/len(student_details[0]['marks'])\n",
    "st1_avg_marks"
   ]
  },
  {
   "cell_type": "code",
   "execution_count": 134,
   "id": "caca92a2",
   "metadata": {},
   "outputs": [
    {
     "data": {
      "text/plain": [
       "('sam', [60, 40, 50, 80, 90])"
      ]
     },
     "execution_count": 134,
     "metadata": {},
     "output_type": "execute_result"
    }
   ],
   "source": [
    "student_details[0]['name'],student_details[0]['marks']\n",
    "#task 3: calculate the average the marks.\n",
    "    #average marks = sum(marks)/number of marks."
   ]
  },
  {
   "cell_type": "code",
   "execution_count": 135,
   "id": "0bda1024",
   "metadata": {},
   "outputs": [
    {
     "data": {
      "text/plain": [
       "('pam', [60, 40, 50, 80, 90])"
      ]
     },
     "execution_count": 135,
     "metadata": {},
     "output_type": "execute_result"
    }
   ],
   "source": [
    "student_details[1]['name'],student_details[1]['marks']"
   ]
  },
  {
   "cell_type": "code",
   "execution_count": 136,
   "id": "52cfec99",
   "metadata": {},
   "outputs": [
    {
     "data": {
      "text/plain": [
       "('anzil', [60, 90, 40, 80, 90])"
      ]
     },
     "execution_count": 136,
     "metadata": {},
     "output_type": "execute_result"
    }
   ],
   "source": [
    "student_details[2]['name'],student_details[2]['marks']"
   ]
  },
  {
   "cell_type": "code",
   "execution_count": 137,
   "id": "4348bfd5",
   "metadata": {},
   "outputs": [
    {
     "data": {
      "text/plain": [
       "('Aswin', [70, 40, 80, 80, 90], 24)"
      ]
     },
     "execution_count": 137,
     "metadata": {},
     "output_type": "execute_result"
    }
   ],
   "source": [
    "student_details[3]['name'],student_details[3]['marks'],student_details[3]['age']"
   ]
  },
  {
   "cell_type": "code",
   "execution_count": 139,
   "id": "435b1c4c",
   "metadata": {},
   "outputs": [
    {
     "data": {
      "text/plain": [
       "('Rafi', [70, 40, 80, 80, 90], 25)"
      ]
     },
     "execution_count": 139,
     "metadata": {},
     "output_type": "execute_result"
    }
   ],
   "source": [
    "student_details[4]['name'],student_details[4]['marks'],student_details[4]['age']\n"
   ]
  },
  {
   "cell_type": "code",
   "execution_count": 140,
   "id": "5982b969",
   "metadata": {},
   "outputs": [
    {
     "data": {
      "text/plain": [
       "('kavita', [60, 50, 50, 90, 40], 23)"
      ]
     },
     "execution_count": 140,
     "metadata": {},
     "output_type": "execute_result"
    }
   ],
   "source": [
    "student_details[5]['name'],student_details[5]['marks'],student_details[5]['age']\n"
   ]
  },
  {
   "cell_type": "code",
   "execution_count": 141,
   "id": "dc9ad027",
   "metadata": {},
   "outputs": [
    {
     "data": {
      "text/plain": [
       "('xyz', [60, 40, 50, 80, 90], 27)"
      ]
     },
     "execution_count": 141,
     "metadata": {},
     "output_type": "execute_result"
    }
   ],
   "source": [
    "student_details[6]['name'],student_details[6]['marks'],student_details[6]['age']\n"
   ]
  },
  {
   "cell_type": "code",
   "execution_count": 142,
   "id": "987003b7",
   "metadata": {},
   "outputs": [
    {
     "data": {
      "text/plain": [
       "('rutuja', [60, 80, 50, 50, 90], 21)"
      ]
     },
     "execution_count": 142,
     "metadata": {},
     "output_type": "execute_result"
    }
   ],
   "source": [
    "student_details[7]['name'],student_details[7]['marks'],student_details[7]['age']\n"
   ]
  },
  {
   "cell_type": "code",
   "execution_count": 143,
   "id": "d09792fe",
   "metadata": {},
   "outputs": [
    {
     "data": {
      "text/plain": [
       "('yz', [60, 40, 50, 80, 90], 24)"
      ]
     },
     "execution_count": 143,
     "metadata": {},
     "output_type": "execute_result"
    }
   ],
   "source": [
    "student_details[8]['name'],student_details[8]['marks'],student_details[8]['age']\n"
   ]
  },
  {
   "cell_type": "code",
   "execution_count": 146,
   "id": "342f32ed",
   "metadata": {},
   "outputs": [
    {
     "data": {
      "text/plain": [
       "('ram', [60, 50, 50, 60, 90], 25)"
      ]
     },
     "execution_count": 146,
     "metadata": {},
     "output_type": "execute_result"
    }
   ],
   "source": [
    "student_details[9]['name'],student_details[9]['marks'],student_details[9]['age']\n"
   ]
  },
  {
   "cell_type": "code",
   "execution_count": 47,
   "id": "6a609b3d",
   "metadata": {},
   "outputs": [
    {
     "data": {
      "text/plain": [
       "64.0"
      ]
     },
     "execution_count": 47,
     "metadata": {},
     "output_type": "execute_result"
    }
   ],
   "source": [
    "st1_avg_marks=sum(student_details[1]['marks'])/len(student_details[1]['marks'])\n",
    "st1_avg_marks"
   ]
  },
  {
   "cell_type": "code",
   "execution_count": 49,
   "id": "291b2919",
   "metadata": {},
   "outputs": [
    {
     "data": {
      "text/plain": [
       "72.0"
      ]
     },
     "execution_count": 49,
     "metadata": {},
     "output_type": "execute_result"
    }
   ],
   "source": [
    "st2_avg_marks=sum(student_details[2]['marks'])/len(student_details[2]['marks'])\n",
    "st2_avg_marks"
   ]
  },
  {
   "cell_type": "code",
   "execution_count": 50,
   "id": "2928f31a",
   "metadata": {},
   "outputs": [
    {
     "data": {
      "text/plain": [
       "72.0"
      ]
     },
     "execution_count": 50,
     "metadata": {},
     "output_type": "execute_result"
    }
   ],
   "source": [
    "st3_avg_marks=sum(student_details[3]['marks'])/len(student_details[3]['marks'])\n",
    "st3_avg_marks"
   ]
  },
  {
   "cell_type": "code",
   "execution_count": 46,
   "id": "3cabc331",
   "metadata": {},
   "outputs": [
    {
     "data": {
      "text/plain": [
       "72.0"
      ]
     },
     "execution_count": 46,
     "metadata": {},
     "output_type": "execute_result"
    }
   ],
   "source": [
    "st4_avg_marks=sum(student_details[4]['marks'])/len(student_details[4]['marks'])\n",
    "st4_avg_marks"
   ]
  },
  {
   "cell_type": "code",
   "execution_count": 45,
   "id": "cb4b7872",
   "metadata": {},
   "outputs": [
    {
     "data": {
      "text/plain": [
       "58.0"
      ]
     },
     "execution_count": 45,
     "metadata": {},
     "output_type": "execute_result"
    }
   ],
   "source": [
    "st5_avg_marks=sum(student_details[5]['marks'])/len(student_details[5]['marks'])\n",
    "st5_avg_marks\n"
   ]
  },
  {
   "cell_type": "code",
   "execution_count": 44,
   "id": "c0a7a3b7",
   "metadata": {},
   "outputs": [
    {
     "data": {
      "text/plain": [
       "64.0"
      ]
     },
     "execution_count": 44,
     "metadata": {},
     "output_type": "execute_result"
    }
   ],
   "source": [
    "st6_avg_marks=sum(student_details[6]['marks'])/len(student_details[6]['marks'])\n",
    "st6_avg_marks"
   ]
  },
  {
   "cell_type": "code",
   "execution_count": 43,
   "id": "e051e0c3",
   "metadata": {},
   "outputs": [
    {
     "data": {
      "text/plain": [
       "66.0"
      ]
     },
     "execution_count": 43,
     "metadata": {},
     "output_type": "execute_result"
    }
   ],
   "source": [
    "st7_avg_marks=sum(student_details[7]['marks'])/len(student_details[7]['marks'])\n",
    "st7_avg_marks"
   ]
  },
  {
   "cell_type": "code",
   "execution_count": 42,
   "id": "52d9a2b6",
   "metadata": {},
   "outputs": [
    {
     "data": {
      "text/plain": [
       "64.0"
      ]
     },
     "execution_count": 42,
     "metadata": {},
     "output_type": "execute_result"
    }
   ],
   "source": [
    "st8_avg_marks=sum(student_details[8]['marks'])/len(student_details[8]['marks'])\n",
    "st8_avg_marks"
   ]
  },
  {
   "cell_type": "code",
   "execution_count": 41,
   "id": "bffa8ffa",
   "metadata": {},
   "outputs": [
    {
     "data": {
      "text/plain": [
       "62.0"
      ]
     },
     "execution_count": 41,
     "metadata": {},
     "output_type": "execute_result"
    }
   ],
   "source": [
    "st9_avg_marks=sum(student_details[9]['marks'])/len(student_details[9]['marks'])\n",
    "st9_avg_marks"
   ]
  },
  {
   "cell_type": "markdown",
   "id": "480bc7ea",
   "metadata": {},
   "source": [
    "# Conditional Statments:\n",
    "IF,\n",
    "IF else,\n",
    "If...elif...else,\n",
    "ternary operator(value if true if condition else value is false)"
   ]
  },
  {
   "cell_type": "code",
   "execution_count": 142,
   "id": "ec27a8a4",
   "metadata": {},
   "outputs": [
    {
     "ename": "IndentationError",
     "evalue": "unexpected indent (2716689978.py, line 8)",
     "output_type": "error",
     "traceback": [
      "\u001b[1;36m  Cell \u001b[1;32mIn[142], line 8\u001b[1;36m\u001b[0m\n\u001b[1;33m    90+ -- A grade\u001b[0m\n\u001b[1;37m    ^\u001b[0m\n\u001b[1;31mIndentationError\u001b[0m\u001b[1;31m:\u001b[0m unexpected indent\n"
     ]
    }
   ],
   "source": [
    "#ask : \n",
    "#Q1: Check the users age is eligible for voting are not?\n",
    "#Q2: Give the fair price of given age of user eg: \n",
    "    #if age is 5 price wil be 10, \n",
    "    #if age is 6-15 price will be 15,\n",
    "    #greater than 15 will have 20 price.\n",
    "#Q3: Create a marksheet with grades of marks./n\n",
    "    90+ -- A grade\n",
    "    70+ -- B grade\n",
    "    50+ -- C grade\n",
    "    30+ -- D grade\n",
    "    >30 -- fail."
   ]
  },
  {
   "cell_type": "code",
   "execution_count": 4,
   "id": "3207f5b1",
   "metadata": {},
   "outputs": [
    {
     "name": "stdout",
     "output_type": "stream",
     "text": [
      "b is bigger than a\n"
     ]
    }
   ],
   "source": [
    "#if\n",
    "a=10\n",
    "b=20\n",
    "if b>a:\n",
    "    print('b is bigger than a')"
   ]
  },
  {
   "cell_type": "code",
   "execution_count": 21,
   "id": "88ab13b7",
   "metadata": {},
   "outputs": [
    {
     "data": {
      "text/plain": [
       "False"
      ]
     },
     "execution_count": 21,
     "metadata": {},
     "output_type": "execute_result"
    }
   ],
   "source": [
    "b<a"
   ]
  },
  {
   "cell_type": "code",
   "execution_count": 22,
   "id": "8a2ac9ed",
   "metadata": {},
   "outputs": [
    {
     "data": {
      "text/plain": [
       "False"
      ]
     },
     "execution_count": 22,
     "metadata": {},
     "output_type": "execute_result"
    }
   ],
   "source": [
    "b==a"
   ]
  },
  {
   "cell_type": "code",
   "execution_count": 23,
   "id": "31730a4c",
   "metadata": {},
   "outputs": [
    {
     "data": {
      "text/plain": [
       "True"
      ]
     },
     "execution_count": 23,
     "metadata": {},
     "output_type": "execute_result"
    }
   ],
   "source": [
    "b!=a"
   ]
  },
  {
   "cell_type": "code",
   "execution_count": 8,
   "id": "ed6b5f53",
   "metadata": {},
   "outputs": [
    {
     "data": {
      "text/plain": [
       "[60, 40, 50, 80, 90]"
      ]
     },
     "execution_count": 8,
     "metadata": {},
     "output_type": "execute_result"
    }
   ],
   "source": [
    "student_details[0]['marks']"
   ]
  },
  {
   "cell_type": "code",
   "execution_count": 34,
   "id": "b2e216fe",
   "metadata": {},
   "outputs": [
    {
     "name": "stdout",
     "output_type": "stream",
     "text": [
      "80 is present in my stundent marks list\n"
     ]
    }
   ],
   "source": [
    "#if the statement is true it gets print \n",
    "if 80 in student_details[0]['marks']:\n",
    "    print('80 is present in my stundent marks list')"
   ]
  },
  {
   "cell_type": "code",
   "execution_count": 36,
   "id": "b6e56f87",
   "metadata": {},
   "outputs": [],
   "source": [
    "#if the statement is false it it does not gets print you will get new line\n",
    "if 70 in student_details[0]['marks']:\n",
    "    print('80 is present in my stundent marks list')"
   ]
  },
  {
   "cell_type": "code",
   "execution_count": 55,
   "id": "9eadc86f",
   "metadata": {},
   "outputs": [
    {
     "name": "stdout",
     "output_type": "stream",
     "text": [
      "a grade\n"
     ]
    }
   ],
   "source": [
    "if st1_avg_marks >= 60:\n",
    "    print('a grade')\n",
    "   "
   ]
  },
  {
   "cell_type": "code",
   "execution_count": 4,
   "id": "b91a4f8f",
   "metadata": {},
   "outputs": [],
   "source": [
    "#===,!=,>=,<=,><\n",
    "#and,or,not"
   ]
  },
  {
   "cell_type": "markdown",
   "id": "2ea48d89",
   "metadata": {},
   "source": [
    "# if and else statement"
   ]
  },
  {
   "cell_type": "code",
   "execution_count": 8,
   "id": "a6491735",
   "metadata": {},
   "outputs": [
    {
     "name": "stdout",
     "output_type": "stream",
     "text": [
      "the above statement is false\n"
     ]
    }
   ],
   "source": [
    "if a!= 10:\n",
    "    a= a+10\n",
    "else:\n",
    "        print('the above statement is false')"
   ]
  },
  {
   "cell_type": "code",
   "execution_count": 11,
   "id": "9b1f0da1",
   "metadata": {},
   "outputs": [],
   "source": [
    "if a == 10:\n",
    "    a = a+10\n",
    "else:\n",
    "        print('the above statement is false')"
   ]
  },
  {
   "cell_type": "code",
   "execution_count": 12,
   "id": "99495876",
   "metadata": {},
   "outputs": [
    {
     "data": {
      "text/plain": [
       "20"
      ]
     },
     "execution_count": 12,
     "metadata": {},
     "output_type": "execute_result"
    }
   ],
   "source": [
    "a"
   ]
  },
  {
   "cell_type": "code",
   "execution_count": 14,
   "id": "2e1ca8e8",
   "metadata": {},
   "outputs": [
    {
     "data": {
      "text/plain": [
       "True"
      ]
     },
     "execution_count": 14,
     "metadata": {},
     "output_type": "execute_result"
    }
   ],
   "source": [
    "type(student_details[0]['marks']) == list"
   ]
  },
  {
   "cell_type": "code",
   "execution_count": 22,
   "id": "bd75bd01",
   "metadata": {},
   "outputs": [
    {
     "name": "stdout",
     "output_type": "stream",
     "text": [
      "the average marks of 1st student is 64.0\n"
     ]
    }
   ],
   "source": [
    "if type(student_details[0]['marks']) == list:\n",
    "    st1_avg_marks = sum(student_details[0]['marks'])/len(student_details[0]['marks'])\n",
    "    \n",
    "    print(f'the average marks of 1st student is {st1_avg_marks}')\n",
    "else:\n",
    "          print('the given data is is not th type of list')"
   ]
  },
  {
   "cell_type": "code",
   "execution_count": 23,
   "id": "8a79c575",
   "metadata": {},
   "outputs": [
    {
     "name": "stdout",
     "output_type": "stream",
     "text": [
      "the given data is is not th type of tuple\n"
     ]
    }
   ],
   "source": [
    "if type(student_details[0]['marks']) == tuple:\n",
    "    st1_avg_marks = sum(student_details[0]['marks'])/len(student_details[0]['marks'])\n",
    "    \n",
    "    print(f'the average marks of 1st student is {st1_avg_marks}')\n",
    "else:\n",
    "          print('the given data is is not th type of tuple')"
   ]
  },
  {
   "cell_type": "code",
   "execution_count": 39,
   "id": "93de6772",
   "metadata": {},
   "outputs": [],
   "source": [
    " #Q1: Check the users age is eligible for voting are not?\n",
    "  "
   ]
  },
  {
   "cell_type": "code",
   "execution_count": 31,
   "id": "e943f0a9",
   "metadata": {},
   "outputs": [],
   "source": [
    " A=18\n",
    "  "
   ]
  },
  {
   "cell_type": "code",
   "execution_count": 32,
   "id": "de590741",
   "metadata": {},
   "outputs": [
    {
     "data": {
      "text/plain": [
       "18"
      ]
     },
     "execution_count": 32,
     "metadata": {},
     "output_type": "execute_result"
    }
   ],
   "source": [
    "A"
   ]
  },
  {
   "cell_type": "code",
   "execution_count": 11,
   "id": "c23dfb49",
   "metadata": {},
   "outputs": [
    {
     "name": "stdout",
     "output_type": "stream",
     "text": [
      "boy is eligible for voting\n"
     ]
    }
   ],
   "source": [
    "if A == 18:\n",
    "   print('boy is eligible for voting')"
   ]
  },
  {
   "cell_type": "code",
   "execution_count": 12,
   "id": "b8e515d5",
   "metadata": {},
   "outputs": [],
   "source": [
    "if A != 18:\n",
    "    print('boy is not eligible for voting')"
   ]
  },
  {
   "cell_type": "code",
   "execution_count": 30,
   "id": "abbac2d3",
   "metadata": {},
   "outputs": [
    {
     "ename": "NameError",
     "evalue": "name 'A' is not defined",
     "output_type": "error",
     "traceback": [
      "\u001b[1;31m---------------------------------------------------------------------------\u001b[0m",
      "\u001b[1;31mNameError\u001b[0m                                 Traceback (most recent call last)",
      "Cell \u001b[1;32mIn[30], line 1\u001b[0m\n\u001b[1;32m----> 1\u001b[0m A\n",
      "\u001b[1;31mNameError\u001b[0m: name 'A' is not defined"
     ]
    }
   ],
   "source": [
    "A"
   ]
  },
  {
   "cell_type": "code",
   "execution_count": 14,
   "id": "1f2d30d1",
   "metadata": {},
   "outputs": [],
   "source": [
    "if A == 9:\n",
    "    print ('boy is eligible for voting ')"
   ]
  },
  {
   "cell_type": "code",
   "execution_count": 15,
   "id": "8c4cb0d1",
   "metadata": {},
   "outputs": [
    {
     "name": "stdout",
     "output_type": "stream",
     "text": [
      "the second statement is true\n"
     ]
    }
   ],
   "source": [
    "if a == 8:\n",
    "    print('1st statment is true')\n",
    "elif b == 20:\n",
    "    print('the second statement is true')\n",
    "elif a == 20:\n",
    "    print('a is equal to 10 only')\n",
    "else:\n",
    "    print('statement is false ')"
   ]
  },
  {
   "cell_type": "code",
   "execution_count": null,
   "id": "fc13c876",
   "metadata": {},
   "outputs": [],
   "source": [
    "#Q2: Give the fair price of given age of user eg: \n",
    "    #if age is 5 price wil be 10, \n",
    "    #if age is 6-15 price will be 15,\n",
    "    #greater than 15 will have 20 price."
   ]
  },
  {
   "cell_type": "code",
   "execution_count": 16,
   "id": "583de728",
   "metadata": {},
   "outputs": [
    {
     "name": "stdout",
     "output_type": "stream",
     "text": [
      "Enter your Age : 10\n",
      "prise is 15\n"
     ]
    }
   ],
   "source": [
    "age= int(input(\"Enter your Age : \"))\n",
    "\n",
    "if age>0 and age <= 5:\n",
    "    print(\"prise is 10\")\n",
    "elif age>5 and age<=15:\n",
    "    print(\"prise is 15\")\n",
    "elif age>15:\n",
    "    print(\"prise is 20\")\n",
    "else:\n",
    "    print(\"price not valid for this age \")"
   ]
  },
  {
   "cell_type": "code",
   "execution_count": null,
   "id": "d10cd49c",
   "metadata": {},
   "outputs": [],
   "source": [
    "#Q3: Create a marksheet with grades of marks./n\n",
    "    90+ -- A grade\n",
    "    70+ -- B grade\n",
    "    50+ -- C grade\n",
    "    30+ -- D grade\n",
    "    >30 -- fail."
   ]
  },
  {
   "cell_type": "code",
   "execution_count": 52,
   "id": "98d0c370",
   "metadata": {},
   "outputs": [
    {
     "name": "stdout",
     "output_type": "stream",
     "text": [
      "enter the number:5\n",
      "the given number is odd\n"
     ]
    }
   ],
   "source": [
    "k = int(input('enter the number:'))\n",
    "if k%2 == 0:\n",
    "   print('the given number is even')\n",
    "else:  \n",
    "    print('the given number is odd')"
   ]
  },
  {
   "cell_type": "code",
   "execution_count": 7,
   "id": "7d96b405",
   "metadata": {},
   "outputs": [
    {
     "name": "stdout",
     "output_type": "stream",
     "text": [
      "65.4\n",
      "c grade\n"
     ]
    }
   ],
   "source": [
    "marks=[90,45,78,24,90]\n",
    "avg=sum(marks)/len(marks)\n",
    "print(avg)\n",
    "if avg>=90:\n",
    "    print('a grade')\n",
    "elif avg<90 and avg >= 70:\n",
    "    print('b grade')\n",
    "elif avg<70 and avg >= 50:\n",
    "    print('c grade')\n",
    "elif avg<30 and avg >= 50:\n",
    "    print('c grade')\n",
    "else:\n",
    "    print(fail)"
   ]
  },
  {
   "cell_type": "code",
   "execution_count": 9,
   "id": "ebbc572a",
   "metadata": {},
   "outputs": [
    {
     "name": "stdout",
     "output_type": "stream",
     "text": [
      "enter the number 10\n"
     ]
    }
   ],
   "source": [
    "k=int(input('enter the number '))"
   ]
  },
  {
   "cell_type": "code",
   "execution_count": 11,
   "id": "15db392d",
   "metadata": {},
   "outputs": [
    {
     "name": "stdout",
     "output_type": "stream",
     "text": [
      "the given number is even\n"
     ]
    }
   ],
   "source": [
    "if k%2 == 0:\n",
    "    print('the given number is even')\n",
    "else:\n",
    "    print('the number is odd')"
   ]
  },
  {
   "cell_type": "code",
   "execution_count": 13,
   "id": "7edbbb47",
   "metadata": {},
   "outputs": [
    {
     "name": "stdout",
     "output_type": "stream",
     "text": [
      "enter the number 10,20,30,40,50\n"
     ]
    }
   ],
   "source": [
    "j= list(input('enter the number '))"
   ]
  },
  {
   "cell_type": "code",
   "execution_count": 16,
   "id": "91be4c34",
   "metadata": {},
   "outputs": [
    {
     "data": {
      "text/plain": [
       "list"
      ]
     },
     "execution_count": 16,
     "metadata": {},
     "output_type": "execute_result"
    }
   ],
   "source": [
    "type(j)"
   ]
  },
  {
   "cell_type": "code",
   "execution_count": 24,
   "id": "d7964f43",
   "metadata": {},
   "outputs": [
    {
     "name": "stdout",
     "output_type": "stream",
     "text": [
      "enter the age 18\n",
      "person is eligible for voting\n"
     ]
    }
   ],
   "source": [
    "age=int(input('enter the age '))#i want number of ages and in that i want check which eligble age for voting and which is not \n",
    " \n",
    "if age>=18:\n",
    "    print('person is eligible for voting')\n",
    "else:\n",
    "    print('person is not eligible for voting ')"
   ]
  },
  {
   "cell_type": "markdown",
   "id": "d9fb2f85",
   "metadata": {},
   "source": [
    "# ternory operator"
   ]
  },
  {
   "cell_type": "code",
   "execution_count": 37,
   "id": "c254cda0",
   "metadata": {},
   "outputs": [
    {
     "data": {
      "text/plain": [
       "(18, 20)"
      ]
     },
     "execution_count": 37,
     "metadata": {},
     "output_type": "execute_result"
    }
   ],
   "source": [
    "B=20\n",
    "\n",
    "A,B"
   ]
  },
  {
   "cell_type": "code",
   "execution_count": null,
   "id": "0a45231d",
   "metadata": {},
   "outputs": [],
   "source": [
    "price ="
   ]
  },
  {
   "cell_type": "code",
   "execution_count": 27,
   "id": "4dc1f64a",
   "metadata": {},
   "outputs": [
    {
     "name": "stdout",
     "output_type": "stream",
     "text": [
      "enter the 16\n"
     ]
    },
    {
     "data": {
      "text/plain": [
       "'the age is > 15'"
      ]
     },
     "execution_count": 27,
     "metadata": {},
     "output_type": "execute_result"
    }
   ],
   "source": [
    "#if we want to write in single line \n",
    "\n",
    "price2='the age is > 15' if int(input('enter the ')) > 15 else 20\n",
    "\n",
    "price2"
   ]
  },
  {
   "cell_type": "markdown",
   "id": "be488422",
   "metadata": {},
   "source": [
    "# looping Statement "
   ]
  },
  {
   "cell_type": "markdown",
   "id": "0b860486",
   "metadata": {},
   "source": [
    "For, while"
   ]
  },
  {
   "cell_type": "code",
   "execution_count": 39,
   "id": "b1b7cff0",
   "metadata": {},
   "outputs": [
    {
     "data": {
      "text/plain": [
       "[90, 45, 78, 24, 90]"
      ]
     },
     "execution_count": 39,
     "metadata": {},
     "output_type": "execute_result"
    }
   ],
   "source": [
    "marks"
   ]
  },
  {
   "cell_type": "code",
   "execution_count": 44,
   "id": "be3c3c1d",
   "metadata": {},
   "outputs": [
    {
     "data": {
      "text/plain": [
       "[720, 180, 156, 48, 180]"
      ]
     },
     "execution_count": 44,
     "metadata": {},
     "output_type": "execute_result"
    }
   ],
   "source": [
    "marks[0]=marks[0]*2 #this is long form\n",
    "marks[1]=marks[1]*2\n",
    "marks[2]=marks[2]*2\n",
    "marks[3]=marks[3]*2\n",
    "marks[4]=marks[4]*2\n",
    "marks"
   ]
  },
  {
   "cell_type": "code",
   "execution_count": 45,
   "id": "6b84c18c",
   "metadata": {},
   "outputs": [
    {
     "data": {
      "text/plain": [
       "range(0, 10)"
      ]
     },
     "execution_count": 45,
     "metadata": {},
     "output_type": "execute_result"
    }
   ],
   "source": [
    "range(10)\n",
    "    "
   ]
  },
  {
   "cell_type": "raw",
   "id": "26a5592f",
   "metadata": {},
   "source": [
    "[start, end, stop]"
   ]
  },
  {
   "cell_type": "code",
   "execution_count": 47,
   "id": "b8609c5c",
   "metadata": {},
   "outputs": [
    {
     "name": "stdout",
     "output_type": "stream",
     "text": [
      "0\n",
      "1\n",
      "2\n",
      "3\n",
      "4\n",
      "5\n",
      "6\n",
      "7\n",
      "8\n",
      "9\n"
     ]
    }
   ],
   "source": [
    "for i in range(10):\n",
    "    print(i)\n"
   ]
  },
  {
   "cell_type": "code",
   "execution_count": 48,
   "id": "74bdf261",
   "metadata": {},
   "outputs": [
    {
     "name": "stdout",
     "output_type": "stream",
     "text": [
      "1\n",
      "2\n",
      "3\n",
      "4\n",
      "5\n",
      "6\n",
      "7\n",
      "8\n",
      "9\n",
      "10\n"
     ]
    }
   ],
   "source": [
    "for i in range(10):\n",
    "    print(i+1)"
   ]
  },
  {
   "cell_type": "code",
   "execution_count": 52,
   "id": "d77b0347",
   "metadata": {},
   "outputs": [
    {
     "name": "stdout",
     "output_type": "stream",
     "text": [
      "0\n",
      "2\n",
      "4\n",
      "6\n",
      "8\n"
     ]
    }
   ],
   "source": [
    "for i in range(5): #2 ka table \n",
    "    print(i*2)"
   ]
  },
  {
   "cell_type": "code",
   "execution_count": 53,
   "id": "e986c349",
   "metadata": {},
   "outputs": [
    {
     "data": {
      "text/plain": [
       "4"
      ]
     },
     "execution_count": 53,
     "metadata": {},
     "output_type": "execute_result"
    }
   ],
   "source": [
    "i"
   ]
  },
  {
   "cell_type": "code",
   "execution_count": 55,
   "id": "4e565191",
   "metadata": {},
   "outputs": [
    {
     "name": "stdout",
     "output_type": "stream",
     "text": [
      "5\n",
      "6\n",
      "7\n",
      "8\n",
      "9\n",
      "10\n",
      "11\n",
      "12\n",
      "13\n",
      "14\n",
      "15\n",
      "16\n",
      "17\n",
      "18\n",
      "19\n"
     ]
    }
   ],
   "source": [
    "for i in range(5,20):\n",
    "  \n",
    "        print(i)"
   ]
  },
  {
   "cell_type": "code",
   "execution_count": 56,
   "id": "38318e9d",
   "metadata": {},
   "outputs": [
    {
     "name": "stdout",
     "output_type": "stream",
     "text": [
      "6\n"
     ]
    }
   ],
   "source": [
    "for i in range(5,20):\n",
    "    if i==6:\n",
    "        print(i)"
   ]
  },
  {
   "cell_type": "code",
   "execution_count": 58,
   "id": "175db37e",
   "metadata": {},
   "outputs": [
    {
     "name": "stdout",
     "output_type": "stream",
     "text": [
      "5\n"
     ]
    }
   ],
   "source": [
    "for i in range(5,20):\n",
    "    if i==6:\n",
    "        break\n",
    "    print(i)"
   ]
  },
  {
   "cell_type": "code",
   "execution_count": 62,
   "id": "af0256a9",
   "metadata": {},
   "outputs": [
    {
     "name": "stdout",
     "output_type": "stream",
     "text": [
      "5\n",
      "6\n",
      "8\n",
      "9\n",
      "10\n"
     ]
    }
   ],
   "source": [
    "for i in range(5,11):\n",
    "    if i==7:\n",
    "        continue\n",
    "    print(i)"
   ]
  },
  {
   "cell_type": "code",
   "execution_count": 63,
   "id": "f3eabb71",
   "metadata": {},
   "outputs": [
    {
     "name": "stdout",
     "output_type": "stream",
     "text": [
      "1\n",
      "2\n",
      "3\n",
      "4\n",
      "5\n",
      "6\n",
      "7\n",
      "8\n",
      "9\n",
      "10\n"
     ]
    }
   ],
   "source": [
    "for i in range(1,11):\n",
    "    if i== 5:\n",
    "        pass\n",
    "    print(i)"
   ]
  },
  {
   "cell_type": "code",
   "execution_count": 66,
   "id": "53228bed",
   "metadata": {},
   "outputs": [],
   "source": [
    "student_marks=[{'name':'sam',\n",
    "               'age':25,\n",
    "               'subject':['maths','science','cs','statistics','physics','bio'],\n",
    "               'marks':[60,70,80,90,70,60]\n",
    "              },\n",
    "              {'name':'fam',\n",
    "               'age':25,\n",
    "               'subject':['maths','science','cs','statistics','physics','bio'],\n",
    "               'marks':[60,70,80,80,70,60]\n",
    "              },\n",
    "              {'name':'kavita',\n",
    "               'age':25,\n",
    "               'subject':['maths','science','cs','statistics','physics','bio'],\n",
    "               'marks':[60,50,80,90,70,60]\n",
    "              }]\n"
   ]
  },
  {
   "cell_type": "code",
   "execution_count": 67,
   "id": "8c3cb70a",
   "metadata": {},
   "outputs": [
    {
     "data": {
      "text/plain": [
       "3"
      ]
     },
     "execution_count": 67,
     "metadata": {},
     "output_type": "execute_result"
    }
   ],
   "source": [
    "len(student_marks)"
   ]
  },
  {
   "cell_type": "code",
   "execution_count": 69,
   "id": "cb5fdb0d",
   "metadata": {},
   "outputs": [
    {
     "data": {
      "text/plain": [
       "71.67"
      ]
     },
     "execution_count": 69,
     "metadata": {},
     "output_type": "execute_result"
    }
   ],
   "source": [
    "avg= round(sum(student_marks[0]['marks'])/len(student_marks[0]['marks']),2)\n",
    "avg"
   ]
  },
  {
   "cell_type": "code",
   "execution_count": 72,
   "id": "5347c542",
   "metadata": {},
   "outputs": [
    {
     "name": "stdout",
     "output_type": "stream",
     "text": [
      "71.67\n",
      "70.0\n",
      "68.33\n"
     ]
    }
   ],
   "source": [
    "for i in range(len(student_marks)):\n",
    "    avg= round(sum(student_marks[i]['marks'])/len(student_marks[i]['marks']),2)\n",
    "    print(avg)"
   ]
  },
  {
   "cell_type": "code",
   "execution_count": 76,
   "id": "d956a77b",
   "metadata": {},
   "outputs": [
    {
     "name": "stdout",
     "output_type": "stream",
     "text": [
      "name sam avg 71.67\n",
      "name fam avg 70.0\n",
      "name kavita avg 68.33\n"
     ]
    }
   ],
   "source": [
    "for i in range(len(student_marks)):\n",
    "    avg= round(sum(student_marks[i]['marks'])/len(student_marks[i]['marks']),2)\n",
    "    print('name {} avg {}'.format(student_marks[i]['name'], avg))"
   ]
  },
  {
   "cell_type": "code",
   "execution_count": 86,
   "id": "e8a9314f",
   "metadata": {},
   "outputs": [
    {
     "name": "stdout",
     "output_type": "stream",
     "text": [
      "name sam avg 71.67\n",
      "b grade\n",
      "name fam avg 70.0\n",
      "b grade\n",
      "name kavita avg 68.33\n",
      "c grade\n"
     ]
    }
   ],
   "source": [
    "for i in range(len(student_marks)):\n",
    "    avg= round(sum(student_marks[i]['marks'])/len(student_marks[i]['marks']),2)\n",
    "    print('name {} avg {}'.format(student_marks[i]['name'], avg))\n",
    "    \n",
    "    if avg>=90:\n",
    "        print('a grade')\n",
    "    elif avg<90 and avg >= 70:\n",
    "        print('b grade')\n",
    "    elif avg<70 and avg >= 50:\n",
    "        print('c grade')\n",
    "    elif avg<30 and avg >= 50:\n",
    "        print('c grade')\n",
    "    else:\n",
    "        print(fail)\n",
    "  "
   ]
  },
  {
   "cell_type": "code",
   "execution_count": 87,
   "id": "67cb0518",
   "metadata": {},
   "outputs": [
    {
     "data": {
      "text/plain": [
       "71.66666666666667"
      ]
     },
     "execution_count": 87,
     "metadata": {},
     "output_type": "execute_result"
    }
   ],
   "source": [
    "import statistics\n",
    "statistics.mean(student_marks[0]['marks'])"
   ]
  },
  {
   "cell_type": "markdown",
   "id": "d347ebc6",
   "metadata": {},
   "source": [
    "# incremente of value +=(increment),-=(dicrement),*=(multiplication),/=(division)"
   ]
  },
  {
   "cell_type": "code",
   "execution_count": 88,
   "id": "d3e7e9e6",
   "metadata": {},
   "outputs": [
    {
     "name": "stdout",
     "output_type": "stream",
     "text": [
      "2\n",
      "3\n",
      "4\n",
      "5\n",
      "6\n"
     ]
    }
   ],
   "source": [
    "for i in range(1,6):\n",
    "    print(i+1)"
   ]
  },
  {
   "cell_type": "code",
   "execution_count": 89,
   "id": "9fe5a906",
   "metadata": {},
   "outputs": [
    {
     "name": "stdout",
     "output_type": "stream",
     "text": [
      "2\n",
      "3\n",
      "4\n",
      "5\n",
      "6\n"
     ]
    }
   ],
   "source": [
    "for i in range(1,6):\n",
    "    i+=1  #------> i=i+1\n",
    "    print(i)"
   ]
  },
  {
   "cell_type": "code",
   "execution_count": 94,
   "id": "90615130",
   "metadata": {},
   "outputs": [
    {
     "name": "stdout",
     "output_type": "stream",
     "text": [
      "1\n",
      "2\n",
      "3\n",
      "4\n",
      "5\n",
      "6\n",
      "7\n",
      "8\n",
      "9\n"
     ]
    }
   ],
   "source": [
    "#decrementatio\n",
    "for i in range(1,10):\n",
    "    i-=1\n",
    "    print(i+1)"
   ]
  },
  {
   "cell_type": "code",
   "execution_count": 1,
   "id": "dbc7ef47",
   "metadata": {},
   "outputs": [
    {
     "name": "stdout",
     "output_type": "stream",
     "text": [
      "2\n",
      "4\n",
      "6\n",
      "8\n",
      "10\n",
      "12\n",
      "14\n",
      "16\n",
      "18\n",
      "20\n"
     ]
    }
   ],
   "source": [
    "#multiply\n",
    "for i in range(1,11):\n",
    "    i*=2\n",
    "    print(i)"
   ]
  },
  {
   "cell_type": "code",
   "execution_count": 2,
   "id": "0d342db5",
   "metadata": {},
   "outputs": [
    {
     "name": "stdout",
     "output_type": "stream",
     "text": [
      "0.5\n",
      "1.0\n",
      "1.5\n",
      "2.0\n",
      "2.5\n",
      "3.0\n",
      "3.5\n",
      "4.0\n",
      "4.5\n"
     ]
    }
   ],
   "source": [
    "# division\n",
    "for i in range(1,10):\n",
    "    i/=2\n",
    "    print(i)"
   ]
  },
  {
   "cell_type": "code",
   "execution_count": 6,
   "id": "ed38a0cd",
   "metadata": {},
   "outputs": [
    {
     "name": "stdout",
     "output_type": "stream",
     "text": [
      "given number table : 5\n",
      "5\n",
      "10\n",
      "15\n",
      "20\n",
      "25\n",
      "30\n",
      "35\n",
      "40\n",
      "45\n",
      "50\n"
     ]
    }
   ],
   "source": [
    "n = int(input('given number table : '))\n",
    "for i in range (1,11):\n",
    "    i *= n\n",
    "    print(i)"
   ]
  },
  {
   "cell_type": "code",
   "execution_count": 10,
   "id": "52f1782d",
   "metadata": {},
   "outputs": [
    {
     "name": "stdout",
     "output_type": "stream",
     "text": [
      "15\n"
     ]
    }
   ],
   "source": [
    "#sum of integres\n",
    "sum1=[0,1,2,3,4,5,]\n",
    "sum2=0\n",
    "for k in sum1:\n",
    "    sum2 += k\n",
    "print(sum2)"
   ]
  },
  {
   "cell_type": "code",
   "execution_count": 11,
   "id": "fe0cb769",
   "metadata": {},
   "outputs": [
    {
     "name": "stdout",
     "output_type": "stream",
     "text": [
      "0\n",
      "1\n",
      "3\n",
      "6\n",
      "10\n",
      "15\n"
     ]
    }
   ],
   "source": [
    "#sum of integres\n",
    "sum1=[0,1,2,3,4,5,]\n",
    "sum2=0\n",
    "for k in sum1:\n",
    "    sum2 += k\n",
    "    print(sum2)"
   ]
  },
  {
   "cell_type": "code",
   "execution_count": 14,
   "id": "c40e4554",
   "metadata": {},
   "outputs": [
    {
     "name": "stdout",
     "output_type": "stream",
     "text": [
      "1\n",
      "2\n",
      "6\n",
      "24\n"
     ]
    }
   ],
   "source": [
    "sum1 = 1\n",
    "for k in range(1,5):\n",
    "    sum1 *= k\n",
    "    print(sum1)"
   ]
  },
  {
   "cell_type": "code",
   "execution_count": 17,
   "id": "860ebf3f",
   "metadata": {},
   "outputs": [
    {
     "name": "stdout",
     "output_type": "stream",
     "text": [
      "2\n",
      "8\n",
      "40\n",
      "240\n"
     ]
    }
   ],
   "source": [
    "#product of the values\n",
    "\n",
    "v=[2,4,5,6]\n",
    "u= 1\n",
    "for k in v:\n",
    "    u *= k\n",
    "    print(u)"
   ]
  },
  {
   "cell_type": "code",
   "execution_count": 22,
   "id": "31844dfb",
   "metadata": {},
   "outputs": [
    {
     "name": "stdout",
     "output_type": "stream",
     "text": [
      "* 0 1 * 0 1 * 0 1 * 0 1 * 0 1 "
     ]
    }
   ],
   "source": [
    "#nested for loop \n",
    "\n",
    "i = 5\n",
    "j = 2\n",
    "for k in range(5):\n",
    "    print('*',end =' ')\n",
    "    for l in range(2):\n",
    "        print(l,end=' ')"
   ]
  },
  {
   "cell_type": "code",
   "execution_count": 23,
   "id": "a4f5667a",
   "metadata": {},
   "outputs": [
    {
     "name": "stdout",
     "output_type": "stream",
     "text": [
      "* 0 \n",
      "1 \n",
      "* 0 \n",
      "1 \n",
      "* 0 \n",
      "1 \n",
      "* 0 \n",
      "1 \n",
      "* 0 \n",
      "1 \n"
     ]
    }
   ],
   "source": [
    "i = 5\n",
    "j = 2\n",
    "for k in range(5):\n",
    "    print('*',end =' ')\n",
    "    for l in range(2):\n",
    "        print(l,end=' ')\n",
    "        print()\n",
    "    "
   ]
  },
  {
   "cell_type": "code",
   "execution_count": 27,
   "id": "f3ff3da7",
   "metadata": {},
   "outputs": [
    {
     "name": "stdout",
     "output_type": "stream",
     "text": [
      "* 0 1 \n",
      "* 0 1 \n",
      "* 0 1 \n",
      "* 0 1 \n",
      "* 0 1 \n"
     ]
    }
   ],
   "source": [
    "i = 5\n",
    "j = 2\n",
    "for k in range(5):\n",
    "    print('*',end =' ')\n",
    "    for l in range(2):\n",
    "        print(l,end=' ')\n",
    "    print()"
   ]
  },
  {
   "cell_type": "code",
   "execution_count": 35,
   "id": "0c35f4f4",
   "metadata": {},
   "outputs": [
    {
     "name": "stdout",
     "output_type": "stream",
     "text": [
      "0 s1 is present in k list \n",
      "1 s1 is present in k list \n",
      "5 s1 is present in k list \n",
      "6 s1 is present in k list \n",
      "7 s1 is present in k list \n"
     ]
    }
   ],
   "source": [
    "k=[0,1,5,6,7]\n",
    "i=['s1','s2','s3','s4']\n",
    "m=0\n",
    "for j in k:\n",
    "    if 's1' in i:\n",
    "        print(j,'s1 is present in k list ')\n",
    "    else:\n",
    "        for l in k:\n",
    "            l+=1\n",
    "        print(l)"
   ]
  },
  {
   "cell_type": "code",
   "execution_count": 42,
   "id": "0b1cee55",
   "metadata": {},
   "outputs": [
    {
     "name": "stdout",
     "output_type": "stream",
     "text": [
      "0 s1 is present in k list \n",
      "1 s1 is present in k list \n",
      "5 s1 is present in k list \n",
      "6 s1 is present in k list \n",
      "7 s1 is present in k list \n"
     ]
    }
   ],
   "source": [
    "k=[0,1,5,6,7]\n",
    "i=['s1','s2','s3','s4']\n",
    "m=0\n",
    "for j in k:\n",
    "    if 's1' in i:\n",
    "        print(j,'s1 is present in k list ')\n",
    "    else:\n",
    "        for l in k:\n",
    "            l+=1\n",
    "            print(l)\n",
    "            for m in i:\n",
    "                print(f'{m} present in i variable')\n",
    "            \n",
    "         "
   ]
  },
  {
   "cell_type": "code",
   "execution_count": 43,
   "id": "2a956fca",
   "metadata": {},
   "outputs": [],
   "source": [
    "#task :calculate the descriptive statistics (mean,mode,median,var,std ,sk,kurtosis)\n",
    "#[40,43,19,17,18,53,17,19,16,17,12,18,70,80,60]"
   ]
  },
  {
   "cell_type": "code",
   "execution_count": 56,
   "id": "9612ee36",
   "metadata": {},
   "outputs": [
    {
     "name": "stdout",
     "output_type": "stream",
     "text": [
      "33.266666666666666\n",
      "19\n",
      "17\n",
      "513.9238095238095\n",
      "22.66988772631681\n",
      "0.8823954218676344\n",
      "-0.6938067197946265\n",
      "33.266666666666666\n",
      "19\n",
      "17\n",
      "513.9238095238095\n",
      "22.66988772631681\n",
      "0.8823954218676344\n",
      "-0.6938067197946265\n"
     ]
    }
   ],
   "source": [
    "import statistics as st \n",
    "from scipy.stats import skew, kurtosis\n",
    "l=[[40,43,19,17,18,53,17,19,16,17,12,18,70,80,60],[40,43,19,17,18,53,17,19,16,17,12,18,70,80,60]]\n",
    " \n",
    "for i in range(len(l)):\n",
    "    mean =st.mean(l[i])\n",
    "    median= st.median(l[i])\n",
    "    mode= st.mode(l[i])\n",
    "    var= st.variance(l[i])\n",
    "    std = st.stdev(l[i])\n",
    "    sk= skew(l[i])\n",
    "    kut=kurtosis(l[i])\n",
    "  \n",
    "    print(mean)\n",
    "    print(median)\n",
    "    print(mode)\n",
    "    print(var)\n",
    "    print(std)\n",
    "    print(sk)\n",
    "    print(kut)"
   ]
  },
  {
   "cell_type": "markdown",
   "id": "9561df37",
   "metadata": {},
   "source": [
    "# While loop\n",
    "init,\n",
    "condition,\n",
    "increment,\n",
    "decrement."
   ]
  },
  {
   "cell_type": "code",
   "execution_count": 58,
   "id": "3c29cc83",
   "metadata": {},
   "outputs": [
    {
     "name": "stdout",
     "output_type": "stream",
     "text": [
      "1\n",
      "2\n",
      "3\n",
      "4\n",
      "5\n",
      "6\n",
      "7\n",
      "8\n",
      "9\n",
      "10\n",
      "==========================\n"
     ]
    }
   ],
   "source": [
    "i=1\n",
    "while(i<=10):\n",
    "    print(i)\n",
    "    i=i+1\n",
    "print('==========================')"
   ]
  },
  {
   "cell_type": "code",
   "execution_count": 60,
   "id": "c791dc87",
   "metadata": {},
   "outputs": [
    {
     "name": "stdout",
     "output_type": "stream",
     "text": [
      "10\n",
      "9\n",
      "8\n",
      "7\n",
      "6\n",
      "5\n",
      "4\n",
      "3\n",
      "2\n",
      "1\n",
      "====================\n"
     ]
    }
   ],
   "source": [
    "i=10\n",
    "while(i>=1):\n",
    "    print(i)\n",
    "    i=i-1\n",
    "print('====================')"
   ]
  },
  {
   "cell_type": "code",
   "execution_count": 61,
   "id": "9f9997db",
   "metadata": {},
   "outputs": [
    {
     "name": "stdout",
     "output_type": "stream",
     "text": [
      "enter the number:6\n",
      "1\n",
      "value is from 3\n",
      "3\n",
      "value is from 5\n",
      "5\n",
      "value is from 7\n"
     ]
    }
   ],
   "source": [
    "#1st n natural number\n",
    "n=int(input('enter the number:'))\n",
    "i=1\n",
    "while(i<=n):\n",
    "    print(i)\n",
    "    i=i+2\n",
    "    print('value is from',i)"
   ]
  },
  {
   "cell_type": "code",
   "execution_count": 63,
   "id": "c4d52276",
   "metadata": {},
   "outputs": [
    {
     "name": "stdout",
     "output_type": "stream",
     "text": [
      "enter the number:10\n",
      "10\n",
      "9\n",
      "8\n",
      "7\n",
      "6\n",
      "5\n",
      "4\n",
      "3\n",
      "2\n",
      "1\n",
      "value 0\n"
     ]
    }
   ],
   "source": [
    "#to print 10-1\n",
    "n=int(input('enter the number:'))\n",
    "i=n\n",
    "while(i>=1):\n",
    "    print(i)\n",
    "    i=i-1\n",
    "print('value',i)"
   ]
  },
  {
   "cell_type": "code",
   "execution_count": 65,
   "id": "4596b0ce",
   "metadata": {},
   "outputs": [
    {
     "name": "stdout",
     "output_type": "stream",
     "text": [
      "sum= 21\n"
     ]
    }
   ],
   "source": [
    "#1st sum of n natural num\n",
    "n=6\n",
    "i=1\n",
    "sum=0\n",
    "while(i<=n):\n",
    "    sum=sum+i\n",
    "    i=i+1\n",
    "print('sum=',sum) #(1+2+3+4+5+6)=21 "
   ]
  },
  {
   "cell_type": "code",
   "execution_count": 67,
   "id": "bc2f0206",
   "metadata": {},
   "outputs": [
    {
     "name": "stdout",
     "output_type": "stream",
     "text": [
      "enter the number:5\n",
      "sum= 1\n",
      "sum= 3\n",
      "sum= 6\n",
      "sum= 10\n",
      "sum= 15\n"
     ]
    }
   ],
   "source": [
    "n=int(input('enter the number:'))\n",
    "i=1\n",
    "sum=0\n",
    "while(i<=n):\n",
    "    sum=sum+i\n",
    "    i=i+1\n",
    "    print('sum=',sum)"
   ]
  },
  {
   "cell_type": "code",
   "execution_count": 69,
   "id": "f2d56986",
   "metadata": {},
   "outputs": [
    {
     "name": "stdout",
     "output_type": "stream",
     "text": [
      "enter the number:4\n",
      "sum= 1\n",
      "sum= 5\n",
      "sum= 14\n",
      "sum= 30\n"
     ]
    }
   ],
   "source": [
    "#Multiplication# squatre of sum of n natural number  \n",
    "n=int(input('enter the number:'))\n",
    "i=1\n",
    "sum=0\n",
    "while(i<=n):\n",
    "    sum=sum+i*i\n",
    "    i=i+1\n",
    "    print('sum=',sum)"
   ]
  },
  {
   "cell_type": "code",
   "execution_count": 74,
   "id": "8e9a9268",
   "metadata": {},
   "outputs": [
    {
     "name": "stdout",
     "output_type": "stream",
     "text": [
      "enter the number:2\n",
      "sum= 1\n",
      "sum= 9\n"
     ]
    }
   ],
   "source": [
    "n=int(input('enter the number:'))\n",
    "i=1\n",
    "sum=0\n",
    "while(i<=n):\n",
    "    sum=sum+i*i*i\n",
    "    i=i+1\n",
    "    print('sum=',sum)"
   ]
  },
  {
   "cell_type": "code",
   "execution_count": 2,
   "id": "46f67bce",
   "metadata": {},
   "outputs": [
    {
     "name": "stdout",
     "output_type": "stream",
     "text": [
      "enter the number:4\n",
      "sum= 1\n",
      "sum= 9\n",
      "sum= 36\n",
      "sum= 100\n"
     ]
    }
   ],
   "source": [
    "#sum of cube roots\n",
    "n=int(input('enter the number:'))\n",
    "i=1\n",
    "sum=0\n",
    "while(i<=n):\n",
    "    sum=sum + i * i * i\n",
    "    i=i+1\n",
    "    print('sum=',sum)"
   ]
  },
  {
   "cell_type": "code",
   "execution_count": 3,
   "id": "1cab3e2a",
   "metadata": {},
   "outputs": [
    {
     "name": "stdout",
     "output_type": "stream",
     "text": [
      "enter the number : 3\n",
      "prod = 1\n",
      "prod = 2\n",
      "prod = 6\n"
     ]
    }
   ],
   "source": [
    "#product of n natural number \n",
    "n= int(input('enter the number : '))\n",
    "i=1\n",
    "prod=1\n",
    "while(i<=n):\n",
    "    prod=prod *i\n",
    "    i=i+1\n",
    "    print ('prod =',prod)\n"
   ]
  },
  {
   "cell_type": "code",
   "execution_count": 4,
   "id": "0cab239a",
   "metadata": {},
   "outputs": [
    {
     "name": "stdout",
     "output_type": "stream",
     "text": [
      "enter the number : 4\n",
      "prod = 1\n",
      "prod = 4\n",
      "prod = 36\n",
      "prod = 576\n"
     ]
    }
   ],
   "source": [
    "#product of square of n natural number \n",
    "n= int(input('enter the number : '))\n",
    "i=1\n",
    "prod=1\n",
    "while(i<=n):\n",
    "    prod=prod * (i*i)\n",
    "    i=i+1\n",
    "    print ('prod =',prod)"
   ]
  },
  {
   "cell_type": "code",
   "execution_count": 5,
   "id": "c39b9dee",
   "metadata": {},
   "outputs": [
    {
     "name": "stdout",
     "output_type": "stream",
     "text": [
      "enter the number : 4\n",
      "prod = 1\n",
      "prod = 8\n",
      "prod = 216\n",
      "prod = 13824\n"
     ]
    }
   ],
   "source": [
    "#product of cube of n natural number \n",
    "n= int(input('enter the number : '))\n",
    "i=1\n",
    "prod=1\n",
    "while(i<=n):\n",
    "    prod=prod * (i*i*i)\n",
    "    i=i+1\n",
    "    print ('prod =',prod)"
   ]
  },
  {
   "cell_type": "code",
   "execution_count": 8,
   "id": "2372bcd0",
   "metadata": {},
   "outputs": [
    {
     "name": "stdout",
     "output_type": "stream",
     "text": [
      "enter the number :20\n",
      "2\n",
      "4\n",
      "6\n",
      "8\n",
      "10\n",
      "12\n",
      "14\n",
      "16\n",
      "18\n",
      "20\n"
     ]
    }
   ],
   "source": [
    "#print even number\n",
    "n=int(input('enter the number :'))\n",
    "i=2\n",
    "while(i<=n):\n",
    "    print(i)\n",
    "    i=i+2"
   ]
  },
  {
   "cell_type": "code",
   "execution_count": 10,
   "id": "bc1f5ed4",
   "metadata": {},
   "outputs": [
    {
     "name": "stdout",
     "output_type": "stream",
     "text": [
      "enter the number :10\n",
      "sum= 1\n",
      "sum= 4\n",
      "sum= 9\n",
      "sum= 16\n",
      "sum= 25\n"
     ]
    }
   ],
   "source": [
    "#print sum of  even number\n",
    "n=int(input('enter the number :'))\n",
    "i=1\n",
    "sum=0\n",
    "while(i<=n):\n",
    "    sum=sum+i\n",
    "    \n",
    "    i=i+2\n",
    "    print('sum=',sum)"
   ]
  },
  {
   "cell_type": "markdown",
   "id": "61b14c71",
   "metadata": {},
   "source": [
    "# "
   ]
  },
  {
   "cell_type": "code",
   "execution_count": 2,
   "id": "93bccac5",
   "metadata": {},
   "outputs": [
    {
     "name": "stdout",
     "output_type": "stream",
     "text": [
      "6\n",
      "15\n",
      "23\n",
      "27\n",
      "29\n",
      "sum of digit  29\n"
     ]
    }
   ],
   "source": [
    "#sum of digits of givren number \n",
    "i=24896\n",
    "sum=0\n",
    "while(i>0):\n",
    "    sum=sum+i%10\n",
    "    print(sum)\n",
    "    i=i//10\n",
    "\n",
    "print ('sum of digit ',sum)\n",
    " "
   ]
  },
  {
   "cell_type": "code",
   "execution_count": 5,
   "id": "06c9c183",
   "metadata": {},
   "outputs": [
    {
     "name": "stdout",
     "output_type": "stream",
     "text": [
      "6\n",
      "prod of digit  6\n",
      "54\n",
      "prod of digit  54\n",
      "432\n",
      "prod of digit  432\n",
      "1728\n",
      "prod of digit  1728\n",
      "3456\n",
      "prod of digit  3456\n"
     ]
    }
   ],
   "source": [
    "#product of digits of givren number \n",
    "i=24896\n",
    "prod=1\n",
    "while(i>0):\n",
    "    prod=prod*(i%10)\n",
    "    print(prod)\n",
    "    i=i//10\n",
    "\n",
    "    print ('prod of digit ',prod)"
   ]
  },
  {
   "cell_type": "code",
   "execution_count": 7,
   "id": "86409425",
   "metadata": {},
   "outputs": [
    {
     "name": "stdout",
     "output_type": "stream",
     "text": [
      "square digits  64\n",
      "square digits  80\n",
      "square digits  84\n"
     ]
    }
   ],
   "source": [
    "#sum of sqiuare of digits\n",
    "i=248\n",
    "sum=0\n",
    "while(i>0):\n",
    "    sum = sum + (i%10) * (i%10)\n",
    "    i= i//10\n",
    "    print('square digits ',sum)"
   ]
  },
  {
   "cell_type": "code",
   "execution_count": 9,
   "id": "1eae2408",
   "metadata": {},
   "outputs": [
    {
     "name": "stdout",
     "output_type": "stream",
     "text": [
      "cube digits  512\n",
      "cube digits  576\n",
      "cube digits  584\n"
     ]
    }
   ],
   "source": [
    "#sum of cube of digits\n",
    "i=248\n",
    "sum=0\n",
    "while(i>0):\n",
    "    sum = sum + (i%10) * (i%10) * (i%10)\n",
    "    i= i//10\n",
    "    print('cube digits ',sum)"
   ]
  },
  {
   "cell_type": "code",
   "execution_count": 11,
   "id": "d3a1f21c",
   "metadata": {},
   "outputs": [
    {
     "name": "stdout",
     "output_type": "stream",
     "text": [
      "ent the numbers :153\n",
      "number is armstrong \n",
      "sum of digits =  153 the given number is 153\n"
     ]
    }
   ],
   "source": [
    "#armstrong number \n",
    "i=int (input('ent the numbers :'))\n",
    "j=i\n",
    "sum=0\n",
    "while(i>0):\n",
    "    sum = sum +(i%10)*(i%10)*(i%10)\n",
    "    i=i//10\n",
    "    \n",
    "if j==sum:\n",
    "    print('number is armstrong ')\n",
    "else:\n",
    "    print('number is not armstrong ')\n",
    "print ('sum of digits = ',sum, 'the given number is',j)\n",
    "    "
   ]
  },
  {
   "cell_type": "code",
   "execution_count": 15,
   "id": "5788819f",
   "metadata": {},
   "outputs": [
    {
     "name": "stdout",
     "output_type": "stream",
     "text": [
      "8\n",
      "84\n",
      "842\n"
     ]
    }
   ],
   "source": [
    "#print the reverse of the number \n",
    "i=248\n",
    "rev =0\n",
    "while(i>0):\n",
    "    rev=(rev*10)+(i%10)\n",
    "    print(rev)\n",
    "    i=i//10\n",
    "    "
   ]
  },
  {
   "cell_type": "code",
   "execution_count": 18,
   "id": "3a0bc32b",
   "metadata": {},
   "outputs": [
    {
     "name": "stdout",
     "output_type": "stream",
     "text": [
      "123\n",
      "not palidrome\n",
      "the given number is 123,after reversing it become321\n"
     ]
    }
   ],
   "source": [
    "#print the check the pelidrome number \n",
    "i= int(input())\n",
    "x=i\n",
    "pel=0\n",
    "while(i>0):\n",
    "    pel=(pel*10) +(i%10)\n",
    "    i=i//10\n",
    "if x==pel:\n",
    "    print('given number is palidrome')\n",
    "else:\n",
    "    print('not palidrome')\n",
    "print(f'the given number is {x},after reversing it become{pel}')"
   ]
  },
  {
   "cell_type": "code",
   "execution_count": 23,
   "id": "c95d5f5c",
   "metadata": {},
   "outputs": [
    {
     "name": "stdout",
     "output_type": "stream",
     "text": [
      "2\n",
      "3\n",
      "4\n",
      "5\n"
     ]
    }
   ],
   "source": [
    "#nested for loop\n",
    "\n",
    "i=1\n",
    "while i<= 1:\n",
    "    j=1\n",
    "    while j<5:\n",
    "        j=j+1\n",
    "        print(j)\n",
    "    i=i+1"
   ]
  },
  {
   "cell_type": "code",
   "execution_count": 24,
   "id": "071b2fb0",
   "metadata": {},
   "outputs": [
    {
     "name": "stdout",
     "output_type": "stream",
     "text": [
      "2\n",
      "3\n",
      "4\n",
      "5\n",
      "2\n",
      "3\n",
      "4\n",
      "5\n"
     ]
    }
   ],
   "source": [
    "i=1\n",
    "while i<= 2:\n",
    "    j=1\n",
    "    while j<5:\n",
    "        j=j+1\n",
    "        print(j)\n",
    "    i=i+1"
   ]
  },
  {
   "cell_type": "code",
   "execution_count": 2,
   "id": "2c6fd317",
   "metadata": {},
   "outputs": [
    {
     "name": "stdout",
     "output_type": "stream",
     "text": [
      "* \n",
      "* * \n",
      "* * * \n",
      "* * * * \n",
      "* * * * * \n"
     ]
    }
   ],
   "source": [
    "#patter format\n",
    "i=1\n",
    "while i<= 5:\n",
    "    j=1\n",
    "    while j<=i:\n",
    "        print('*',end  =' ')\n",
    "        j=j+1\n",
    "    print()\n",
    "    i=i+1"
   ]
  },
  {
   "cell_type": "code",
   "execution_count": 3,
   "id": "9d72a62e",
   "metadata": {},
   "outputs": [
    {
     "name": "stdout",
     "output_type": "stream",
     "text": [
      "1 \n",
      "2 2 \n",
      "3 3 3 \n",
      "4 4 4 4 \n",
      "5 5 5 5 5 \n"
     ]
    }
   ],
   "source": [
    "i=1\n",
    "while i<= 5:\n",
    "    j=1\n",
    "    while j<=i:\n",
    "        print(i,end  =' ')\n",
    "        j=j+1\n",
    "    print()\n",
    "    i=i+1"
   ]
  },
  {
   "cell_type": "code",
   "execution_count": 4,
   "id": "51f6d172",
   "metadata": {},
   "outputs": [
    {
     "name": "stdout",
     "output_type": "stream",
     "text": [
      "1 \n",
      "1 2 \n",
      "1 2 3 \n",
      "1 2 3 4 \n",
      "1 2 3 4 5 \n"
     ]
    }
   ],
   "source": [
    "i=1\n",
    "while i<= 5:\n",
    "    j=1\n",
    "    while j<=i:\n",
    "        print(j,end  =' ')\n",
    "        j=j+1\n",
    "    print()\n",
    "    i=i+1"
   ]
  },
  {
   "cell_type": "code",
   "execution_count": 5,
   "id": "8be8cd37",
   "metadata": {},
   "outputs": [
    {
     "name": "stdout",
     "output_type": "stream",
     "text": [
      "8 \n",
      "8 8 \n",
      "8 8 8 \n",
      "8 8 8 8 \n",
      "8 8 8 8 8 \n"
     ]
    }
   ],
   "source": [
    "i=1\n",
    "while i<= 5:\n",
    "    j=1\n",
    "    while j<=i:\n",
    "        print('8',end  =' ')\n",
    "        j=j+1\n",
    "    print()\n",
    "    i=i+1"
   ]
  },
  {
   "cell_type": "code",
   "execution_count": 3,
   "id": "5a546b32",
   "metadata": {},
   "outputs": [
    {
     "name": "stdout",
     "output_type": "stream",
     "text": [
      "    * \n",
      "   * * \n",
      "  * * * \n",
      " * * * * \n",
      "* * * * * \n"
     ]
    }
   ],
   "source": [
    "#triangle pattern\n",
    "#reverse patter \n",
    "i=1\n",
    "while i<= 5:\n",
    "    j=1\n",
    "    while j<=5-i:\n",
    "        print('',end =' ')\n",
    "        j=j+1\n",
    "    l = 1\n",
    "    while l<=i:\n",
    "        print('*',end=' ')\n",
    "        l=l+1\n",
    "    while l<=i:\n",
    "        print(l+1,end=' ')\n",
    "        l=l+1\n",
    "    print()\n",
    "    i=i+1\n",
    "        \n",
    "    \n",
    "    "
   ]
  },
  {
   "cell_type": "code",
   "execution_count": 4,
   "id": "31030062",
   "metadata": {},
   "outputs": [
    {
     "name": "stdout",
     "output_type": "stream",
     "text": [
      "    8 \n",
      "   8 8 \n",
      "  8 8 8 \n",
      " 8 8 8 8 \n",
      "8 8 8 8 8 \n"
     ]
    }
   ],
   "source": [
    "#middle pattern\n",
    "i=1\n",
    "while i<=5:\n",
    "    j=1\n",
    "    while j<=5-i:\n",
    "        print('',end =' ')\n",
    "        j=j+1\n",
    "    k=1\n",
    "    while k<=i:\n",
    "        print(8,end =' ')\n",
    "        k=k+1\n",
    "    print()\n",
    "    i=i+1"
   ]
  },
  {
   "cell_type": "code",
   "execution_count": 2,
   "id": "e9e46ff9",
   "metadata": {},
   "outputs": [
    {
     "name": "stdout",
     "output_type": "stream",
     "text": [
      "    1 \n",
      "   1 2 \n",
      "  1 2 3 \n",
      " 1 2 3 4 \n",
      "1 2 3 4 5 \n"
     ]
    }
   ],
   "source": [
    "i=1\n",
    "while i<=5:\n",
    "    j=1\n",
    "    while j<=5-i:\n",
    "        print('',end =' ')\n",
    "        j=j+1\n",
    "    k=1\n",
    "    while k<=i:\n",
    "        print(k,end =' ')\n",
    "        k=k+1\n",
    "    print()\n",
    "    i=i+1"
   ]
  },
  {
   "cell_type": "code",
   "execution_count": 5,
   "id": "8acc6ed6",
   "metadata": {},
   "outputs": [],
   "source": [
    "#NEEED To complete 2 class more "
   ]
  },
  {
   "cell_type": "code",
   "execution_count": 1,
   "id": "037772b3",
   "metadata": {},
   "outputs": [
    {
     "name": "stdout",
     "output_type": "stream",
     "text": [
      "\n",
      "Help on NoneType object:\n",
      "\n",
      "class NoneType(object)\n",
      " |  Methods defined here:\n",
      " |  \n",
      " |  __bool__(self, /)\n",
      " |      True if self else False\n",
      " |  \n",
      " |  __repr__(self, /)\n",
      " |      Return repr(self).\n",
      " |  \n",
      " |  ----------------------------------------------------------------------\n",
      " |  Static methods defined here:\n",
      " |  \n",
      " |  __new__(*args, **kwargs) from builtins.type\n",
      " |      Create and return a new object.  See help(type) for accurate signature.\n",
      "\n"
     ]
    }
   ],
   "source": [
    "help(print())"
   ]
  },
  {
   "cell_type": "code",
   "execution_count": 2,
   "id": "abca8f5a",
   "metadata": {},
   "outputs": [
    {
     "name": "stdout",
     "output_type": "stream",
     "text": [
      "Help on built-in function print in module builtins:\n",
      "\n",
      "print(*args, sep=' ', end='\\n', file=None, flush=False)\n",
      "    Prints the values to a stream, or to sys.stdout by default.\n",
      "    \n",
      "    sep\n",
      "      string inserted between values, default a space.\n",
      "    end\n",
      "      string appended after the last value, default a newline.\n",
      "    file\n",
      "      a file-like object (stream); defaults to the current sys.stdout.\n",
      "    flush\n",
      "      whether to forcibly flush the stream.\n",
      "\n"
     ]
    }
   ],
   "source": [
    "help(print)"
   ]
  },
  {
   "cell_type": "code",
   "execution_count": 3,
   "id": "59ca160e",
   "metadata": {},
   "outputs": [
    {
     "name": "stdout",
     "output_type": "stream",
     "text": [
      "Help on method raw_input in module ipykernel.kernelbase:\n",
      "\n",
      "raw_input(prompt='') method of ipykernel.ipkernel.IPythonKernel instance\n",
      "    Forward raw_input to frontends\n",
      "    \n",
      "    Raises\n",
      "    ------\n",
      "    StdinNotImplementedError if active frontend doesn't support stdin.\n",
      "\n"
     ]
    }
   ],
   "source": [
    "help(input)"
   ]
  },
  {
   "cell_type": "code",
   "execution_count": 4,
   "id": "e3dbbe50",
   "metadata": {},
   "outputs": [],
   "source": [
    "def name():\n",
    "    print('hi')"
   ]
  },
  {
   "cell_type": "code",
   "execution_count": 5,
   "id": "06b347a9",
   "metadata": {},
   "outputs": [
    {
     "name": "stdout",
     "output_type": "stream",
     "text": [
      "hi\n"
     ]
    }
   ],
   "source": [
    "name()"
   ]
  },
  {
   "cell_type": "code",
   "execution_count": null,
   "id": "bdaf3379",
   "metadata": {},
   "outputs": [],
   "source": [
    "#function\n",
    "\n",
    "Defining a python function\n",
    "\n",
    "def greet():\n",
    "    \"\"\"display a greeting to users \"\"\"\n",
    "    print(hi)\n",
    "1) function defination\n",
    "\n",
    "A function  definition start with the def keyword and the name of the function\n",
    "\n",
    "2)function body\n",
    "All the indented lines that follow the function definition make up the function's body  \n",
    "\n",
    "calling a function\n"
   ]
  },
  {
   "cell_type": "code",
   "execution_count": 6,
   "id": "9f756430",
   "metadata": {},
   "outputs": [
    {
     "name": "stdout",
     "output_type": "stream",
     "text": [
      "Help on built-in function sum in module builtins:\n",
      "\n",
      "sum(iterable, /, start=0)\n",
      "    Return the sum of a 'start' value (default: 0) plus an iterable of numbers\n",
      "    \n",
      "    When the iterable is empty, return the start value.\n",
      "    This function is intended specifically for use with numeric values and may\n",
      "    reject non-numeric types.\n",
      "\n"
     ]
    }
   ],
   "source": [
    "help(sum)"
   ]
  },
  {
   "cell_type": "code",
   "execution_count": 7,
   "id": "f767b437",
   "metadata": {},
   "outputs": [],
   "source": [
    "def add(a,b):\n",
    "    c = a+b\n",
    "    return c"
   ]
  },
  {
   "cell_type": "code",
   "execution_count": 8,
   "id": "5fcfeea1",
   "metadata": {},
   "outputs": [
    {
     "data": {
      "text/plain": [
       "8"
      ]
     },
     "execution_count": 8,
     "metadata": {},
     "output_type": "execute_result"
    }
   ],
   "source": [
    "add(2,6)"
   ]
  },
  {
   "cell_type": "code",
   "execution_count": 9,
   "id": "93a327a6",
   "metadata": {},
   "outputs": [
    {
     "data": {
      "text/plain": [
       "'rk'"
      ]
     },
     "execution_count": 9,
     "metadata": {},
     "output_type": "execute_result"
    }
   ],
   "source": [
    "add('r','k')"
   ]
  },
  {
   "cell_type": "code",
   "execution_count": 16,
   "id": "cb98b383",
   "metadata": {},
   "outputs": [],
   "source": [
    "def percentage_marks(*avg,perc =100):\n",
    "    avg = sum(*avg)/len(*avg)*perc\n",
    "    return avg"
   ]
  },
  {
   "cell_type": "code",
   "execution_count": 18,
   "id": "4a88ab7f",
   "metadata": {},
   "outputs": [
    {
     "data": {
      "text/plain": [
       "2500.0"
      ]
     },
     "execution_count": 18,
     "metadata": {},
     "output_type": "execute_result"
    }
   ],
   "source": [
    "percentage_marks([20,30])"
   ]
  },
  {
   "cell_type": "code",
   "execution_count": 22,
   "id": "99eef70c",
   "metadata": {},
   "outputs": [],
   "source": [
    "def percentage_marks(avg, perc =100):\n",
    "    avg = (avg//10)*perc\n",
    "    return perc"
   ]
  },
  {
   "cell_type": "code",
   "execution_count": 23,
   "id": "d2bcb487",
   "metadata": {},
   "outputs": [
    {
     "data": {
      "text/plain": [
       "10"
      ]
     },
     "execution_count": 23,
     "metadata": {},
     "output_type": "execute_result"
    }
   ],
   "source": [
    "percentage_marks(256,10)"
   ]
  },
  {
   "cell_type": "code",
   "execution_count": 27,
   "id": "342c157f",
   "metadata": {},
   "outputs": [],
   "source": [
    "def greet(name):\n",
    "    \"\"\"display a greeting to user \"\"\"\n",
    "    print(f\"hi {name}\")"
   ]
  },
  {
   "cell_type": "code",
   "execution_count": 28,
   "id": "d6c69fc3",
   "metadata": {},
   "outputs": [
    {
     "name": "stdout",
     "output_type": "stream",
     "text": [
      "hi kavita\n"
     ]
    }
   ],
   "source": [
    "greet(name ='kavita')"
   ]
  },
  {
   "cell_type": "code",
   "execution_count": 31,
   "id": "696b58df",
   "metadata": {},
   "outputs": [
    {
     "data": {
      "text/plain": [
       "'hi 10'"
      ]
     },
     "execution_count": 31,
     "metadata": {},
     "output_type": "execute_result"
    }
   ],
   "source": [
    "name =10 \n",
    "f\"hi {name}\""
   ]
  },
  {
   "cell_type": "code",
   "execution_count": 32,
   "id": "5c948698",
   "metadata": {},
   "outputs": [],
   "source": [
    "def sum(a,b,c,d):\n",
    "    return a+b+c+d"
   ]
  },
  {
   "cell_type": "code",
   "execution_count": 33,
   "id": "50abc870",
   "metadata": {},
   "outputs": [
    {
     "data": {
      "text/plain": [
       "69"
      ]
     },
     "execution_count": 33,
     "metadata": {},
     "output_type": "execute_result"
    }
   ],
   "source": [
    "sum(10,30,15,14)"
   ]
  },
  {
   "cell_type": "code",
   "execution_count": 34,
   "id": "55769831",
   "metadata": {},
   "outputs": [],
   "source": [
    "def sum(a,b,c,d=10):\n",
    "    return a+b+c+d"
   ]
  },
  {
   "cell_type": "code",
   "execution_count": 35,
   "id": "b47c07d2",
   "metadata": {},
   "outputs": [
    {
     "data": {
      "text/plain": [
       "65"
      ]
     },
     "execution_count": 35,
     "metadata": {},
     "output_type": "execute_result"
    }
   ],
   "source": [
    "sum(10,30,15)"
   ]
  },
  {
   "cell_type": "code",
   "execution_count": null,
   "id": "45aa008d",
   "metadata": {},
   "outputs": [],
   "source": [
    "#1)create a function to calculate Area of triangle\n",
    "#2)create the function for curcumference of circle\n",
    "#3)create the function to calculatre angle of triangle \n",
    "\n"
   ]
  },
  {
   "cell_type": "code",
   "execution_count": 38,
   "id": "17e5a68d",
   "metadata": {},
   "outputs": [],
   "source": [
    "#1)create a function to calculate Area of triangle\n",
    "def sum(h,b):\n",
    "    return b*h/2"
   ]
  },
  {
   "cell_type": "code",
   "execution_count": 39,
   "id": "051c1442",
   "metadata": {},
   "outputs": [
    {
     "data": {
      "text/plain": [
       "3.0"
      ]
     },
     "execution_count": 39,
     "metadata": {},
     "output_type": "execute_result"
    }
   ],
   "source": [
    "sum(3,2)"
   ]
  },
  {
   "cell_type": "code",
   "execution_count": 40,
   "id": "7e2d778d",
   "metadata": {},
   "outputs": [],
   "source": [
    "#2)create the function for curcumference of circle\n",
    "def sum(r,PI=3.1415):\n",
    "    return 2*PI*r"
   ]
  },
  {
   "cell_type": "code",
   "execution_count": 41,
   "id": "8b1abc3a",
   "metadata": {},
   "outputs": [
    {
     "data": {
      "text/plain": [
       "25.132"
      ]
     },
     "execution_count": 41,
     "metadata": {},
     "output_type": "execute_result"
    }
   ],
   "source": [
    "sum(4)"
   ]
  },
  {
   "cell_type": "code",
   "execution_count": 42,
   "id": "cc18f3f3",
   "metadata": {},
   "outputs": [],
   "source": [
    "#3)create the function to calculatre angle of triangle \n",
    "def sum(a,b,c=180):\n",
    "    return c-(a+b)"
   ]
  },
  {
   "cell_type": "code",
   "execution_count": 43,
   "id": "1c1a9223",
   "metadata": {},
   "outputs": [
    {
     "data": {
      "text/plain": [
       "150"
      ]
     },
     "execution_count": 43,
     "metadata": {},
     "output_type": "execute_result"
    }
   ],
   "source": [
    "sum(10,20)"
   ]
  },
  {
   "cell_type": "code",
   "execution_count": 46,
   "id": "9e297ddd",
   "metadata": {},
   "outputs": [
    {
     "ename": "SyntaxError",
     "evalue": "invalid syntax (1137269743.py, line 1)",
     "output_type": "error",
     "traceback": [
      "\u001b[1;36m  Cell \u001b[1;32mIn[46], line 1\u001b[1;36m\u001b[0m\n\u001b[1;33m    Python def parameter in function\u001b[0m\n\u001b[1;37m           ^\u001b[0m\n\u001b[1;31mSyntaxError\u001b[0m\u001b[1;31m:\u001b[0m invalid syntax\n"
     ]
    }
   ],
   "source": [
    "Python def parameter in function\n",
    "\n",
    "def function_name(param1,param2=value2,param3=value3,......):\n",
    "    when you define a function you can specify a default value for each paramater\n",
    "def greet(name,messahe='hi'):\n",
    "    return f\"{message}{name}\""
   ]
  },
  {
   "cell_type": "code",
   "execution_count": 47,
   "id": "d1c386cb",
   "metadata": {},
   "outputs": [
    {
     "name": "stdout",
     "output_type": "stream",
     "text": [
      "Help on function add in module __main__:\n",
      "\n",
      "add(a, b)\n",
      "    return the sum of two argument\n",
      "\n"
     ]
    }
   ],
   "source": [
    "#docstring\n",
    "#help(print)\n",
    "\n",
    "def add (a,b):\n",
    "    \"return the sum of two argument\"\n",
    "    return a+b\n",
    "help(add)"
   ]
  },
  {
   "cell_type": "code",
   "execution_count": null,
   "id": "6432d901",
   "metadata": {},
   "outputs": [],
   "source": [
    "#for recreating \n",
    "parameters,arguments,keywors_arguments,default_parameters,docs string.\n"
   ]
  },
  {
   "cell_type": "markdown",
   "id": "088dea4b",
   "metadata": {},
   "source": [
    "lambda expression"
   ]
  },
  {
   "cell_type": "code",
   "execution_count": 48,
   "id": "4e092f7d",
   "metadata": {},
   "outputs": [
    {
     "name": "stdout",
     "output_type": "stream",
     "text": [
      "225\n",
      "144\n"
     ]
    }
   ],
   "source": [
    "x=lambda K: K**2\n",
    "print(x(15))\n",
    "print(x(12))"
   ]
  },
  {
   "cell_type": "code",
   "execution_count": 49,
   "id": "cc75b6f2",
   "metadata": {},
   "outputs": [],
   "source": [
    "area_triangle = lambda b,h: 1/2*(b*h)"
   ]
  },
  {
   "cell_type": "code",
   "execution_count": 50,
   "id": "4655ec23",
   "metadata": {},
   "outputs": [
    {
     "data": {
      "text/plain": [
       "1525.0"
      ]
     },
     "execution_count": 50,
     "metadata": {},
     "output_type": "execute_result"
    }
   ],
   "source": [
    "area_triangle(50,61)"
   ]
  },
  {
   "cell_type": "code",
   "execution_count": 51,
   "id": "c85185b7",
   "metadata": {},
   "outputs": [
    {
     "data": {
      "text/plain": [
       "20"
      ]
     },
     "execution_count": 51,
     "metadata": {},
     "output_type": "execute_result"
    }
   ],
   "source": [
    "def time(n):\n",
    "    return lambda x: x* n\n",
    "t=time(5)#we calculte 5 time 4  here \n",
    "t(4)"
   ]
  },
  {
   "cell_type": "code",
   "execution_count": 52,
   "id": "48e4673b",
   "metadata": {},
   "outputs": [],
   "source": [
    "n=4\n",
    "t= lambda x: x*n\n"
   ]
  },
  {
   "cell_type": "code",
   "execution_count": 53,
   "id": "f47b0bfc",
   "metadata": {},
   "outputs": [
    {
     "data": {
      "text/plain": [
       "20"
      ]
     },
     "execution_count": 53,
     "metadata": {},
     "output_type": "execute_result"
    }
   ],
   "source": [
    "t(5)"
   ]
  },
  {
   "cell_type": "code",
   "execution_count": null,
   "id": "2411b115",
   "metadata": {},
   "outputs": [],
   "source": [
    "#create a funtion which gives the value for 1-10 eg:num(10)\n",
    "#create a function for BMI calculation \n",
    "#create a function to calculate mean,medain ,mode\n",
    "#create a function to calculate revenue\n",
    "#create a function for calculator."
   ]
  },
  {
   "cell_type": "code",
   "execution_count": 59,
   "id": "e18bbee4",
   "metadata": {},
   "outputs": [],
   "source": [
    "#create a funtion which gives the value for 1-10 eg:num(10)\n",
    "\n",
    "def value():\n",
    "    for i in range(1,11):\n",
    "        print(i)"
   ]
  },
  {
   "cell_type": "code",
   "execution_count": 60,
   "id": "ec6fdb58",
   "metadata": {},
   "outputs": [
    {
     "name": "stdout",
     "output_type": "stream",
     "text": [
      "1\n",
      "2\n",
      "3\n",
      "4\n",
      "5\n",
      "6\n",
      "7\n",
      "8\n",
      "9\n",
      "10\n"
     ]
    }
   ],
   "source": [
    "value()"
   ]
  },
  {
   "cell_type": "code",
   "execution_count": 57,
   "id": "59d795d4",
   "metadata": {},
   "outputs": [],
   "source": [
    "#create a function for BMI calculation \n",
    "\n",
    "def BMI(w,h):\n",
    "    return ((w/(h*h)*10000))"
   ]
  },
  {
   "cell_type": "code",
   "execution_count": 58,
   "id": "58852e71",
   "metadata": {},
   "outputs": [
    {
     "data": {
      "text/plain": [
       "90"
      ]
     },
     "execution_count": 58,
     "metadata": {},
     "output_type": "execute_result"
    }
   ],
   "source": [
    "sum(50,40)"
   ]
  },
  {
   "cell_type": "code",
   "execution_count": 61,
   "id": "f0d178e6",
   "metadata": {},
   "outputs": [],
   "source": [
    "def revenue(sales,avg_price):\n",
    "    rev = sales * avg_price\n",
    "    print(rev)\n"
   ]
  },
  {
   "cell_type": "code",
   "execution_count": 62,
   "id": "bb4f0326",
   "metadata": {},
   "outputs": [
    {
     "name": "stdout",
     "output_type": "stream",
     "text": [
      "5000\n"
     ]
    }
   ],
   "source": [
    "revenue(200,25)"
   ]
  },
  {
   "cell_type": "code",
   "execution_count": 64,
   "id": "e43a6268",
   "metadata": {},
   "outputs": [
    {
     "name": "stdout",
     "output_type": "stream",
     "text": [
      "5.5\n"
     ]
    }
   ],
   "source": [
    "import statistics as st\n",
    "def my_mean(sample):\n",
    "    mean = st.mean(sample)\n",
    "    print(mean)\n",
    "my_mean([1,3,5,7,8,9])"
   ]
  },
  {
   "cell_type": "code",
   "execution_count": 66,
   "id": "7f354dcb",
   "metadata": {},
   "outputs": [
    {
     "name": "stdout",
     "output_type": "stream",
     "text": [
      "1\n"
     ]
    }
   ],
   "source": [
    "import statistics as st\n",
    "def my_mean(sample):\n",
    "    mode = st.mode(sample)\n",
    "    print(mode)\n",
    "my_mean([1,3,5,7,8,9])"
   ]
  },
  {
   "cell_type": "code",
   "execution_count": 67,
   "id": "03be1584",
   "metadata": {},
   "outputs": [
    {
     "name": "stdout",
     "output_type": "stream",
     "text": [
      "6.0\n"
     ]
    }
   ],
   "source": [
    "import statistics as st\n",
    "def my_mean(sample):\n",
    "    median = st.median(sample)\n",
    "    print(median)\n",
    "my_mean([1,3,5,7,8,9])"
   ]
  },
  {
   "cell_type": "markdown",
   "id": "c8d0e823",
   "metadata": {},
   "source": [
    "# python recursive function"
   ]
  },
  {
   "cell_type": "code",
   "execution_count": 68,
   "id": "7d9b5cc0",
   "metadata": {},
   "outputs": [],
   "source": [
    "#using condition\n",
    "def count_down(start):\n",
    "    \"\"\" count down from a number\"\"\"\n",
    "    print(start)\n",
    "    next =start-1\n",
    "    if next>0:\n",
    "        count_down(next)"
   ]
  },
  {
   "cell_type": "code",
   "execution_count": 69,
   "id": "28676bd2",
   "metadata": {},
   "outputs": [
    {
     "name": "stdout",
     "output_type": "stream",
     "text": [
      "5\n",
      "4\n",
      "3\n",
      "2\n",
      "1\n"
     ]
    }
   ],
   "source": [
    "count_down(5)"
   ]
  },
  {
   "cell_type": "code",
   "execution_count": 73,
   "id": "1f3ffa70",
   "metadata": {},
   "outputs": [
    {
     "name": "stdout",
     "output_type": "stream",
     "text": [
      "55\n"
     ]
    }
   ],
   "source": [
    "#using loop\n",
    "def sum(n):\n",
    "    total =0\n",
    "    for index in range(n+1):\n",
    "        total += index\n",
    "    return total\n",
    "result=sum(10)\n",
    "print(result)"
   ]
  },
  {
   "cell_type": "markdown",
   "id": "2fdc4aeb",
   "metadata": {},
   "source": [
    "# FILE INPUT/otput in python"
   ]
  },
  {
   "cell_type": "raw",
   "id": "c922d77d",
   "metadata": {},
   "source": [
    "Python Read Text file \n",
    "1)open() function\n",
    "\n",
    "open(path_to_files,mode)"
   ]
  },
  {
   "cell_type": "code",
   "execution_count": 52,
   "id": "8b7873af",
   "metadata": {},
   "outputs": [
    {
     "data": {
      "text/plain": [
       "<_io.TextIOWrapper name='C:\\\\Users\\\\Nandini Sharma\\\\Desktop\\\\python_info.txt' mode='r' encoding='cp1252'>"
      ]
     },
     "execution_count": 52,
     "metadata": {},
     "output_type": "execute_result"
    }
   ],
   "source": [
    "open(r\"C:\\Users\\Nandini Sharma\\Desktop\\python_info.txt\",mode='r')"
   ]
  },
  {
   "cell_type": "code",
   "execution_count": 53,
   "id": "7ff6cedf",
   "metadata": {},
   "outputs": [],
   "source": [
    "file = open(r\"C:\\Users\\Nandini Sharma\\Desktop\\python_info.txt\",mode='r')\n"
   ]
  },
  {
   "cell_type": "code",
   "execution_count": 55,
   "id": "82e1ff69",
   "metadata": {},
   "outputs": [
    {
     "data": {
      "text/plain": [
       "']\\n\\nData science also integrates domain knowledge from the underlying application domain (e.g., natural sciences, information technology, and medicine).[3] Data science is multifaceted and can be described as a science, a research paradigm, a research method, a discipline, a workflow, and a profession.[4]\\n\\nData science is a \"concept to unify statistics, data analysis, informatics, and their related methods\" to \"understand and analyze actual phenomena\" with data.[5] It uses techniques and theories drawn from many fields within the context of mathematics, statistics, computer science, information science, and domain knowledge.[6] However, data science is different from computer science and information science. Turing Award winner Jim Gray imagined data science as a \"fourth paradigm\" of science (empirical, theoretical, computational, and now data-driven) and asserted that \"everything about science is changing because of the impact of information technology\" and the data deluge.'"
      ]
     },
     "execution_count": 55,
     "metadata": {},
     "output_type": "execute_result"
    }
   ],
   "source": [
    "file.read()"
   ]
  },
  {
   "cell_type": "code",
   "execution_count": 64,
   "id": "c5c58071",
   "metadata": {},
   "outputs": [
    {
     "data": {
      "text/plain": [
       "'Data scien'"
      ]
     },
     "execution_count": 64,
     "metadata": {},
     "output_type": "execute_result"
    }
   ],
   "source": [
    "file = open(r\"C:\\Users\\Nandini Sharma\\Desktop\\python_info.txt\",mode='r')\n",
    "file.read(10)"
   ]
  },
  {
   "cell_type": "code",
   "execution_count": 65,
   "id": "f052022c",
   "metadata": {},
   "outputs": [
    {
     "data": {
      "text/plain": [
       "'Data science is an interdisciplinary academic fiel'"
      ]
     },
     "execution_count": 65,
     "metadata": {},
     "output_type": "execute_result"
    }
   ],
   "source": [
    "file = open(r\"C:\\Users\\Nandini Sharma\\Desktop\\python_info.txt\",mode='r')\n",
    "file.read(50)"
   ]
  },
  {
   "cell_type": "code",
   "execution_count": 67,
   "id": "bacdd482",
   "metadata": {},
   "outputs": [
    {
     "name": "stdout",
     "output_type": "stream",
     "text": [
      "Data scien\n"
     ]
    }
   ],
   "source": [
    "file = open(r\"C:\\Users\\Nandini Sharma\\Desktop\\python_info.txt\",mode='r')\n",
    "print(file.read(10))\n",
    "file.close()"
   ]
  },
  {
   "cell_type": "code",
   "execution_count": 69,
   "id": "792a6228",
   "metadata": {},
   "outputs": [
    {
     "name": "stdout",
     "output_type": "stream",
     "text": [
      "Data science is an interdisciplinary academic field[1] that uses statistics, scientific computing, scientific methods, processes, algorithms and systems to extract or extrapolate knowledge and insights from noisy, structured, and unstructured data.[2]\n",
      "\n"
     ]
    }
   ],
   "source": [
    "file = open(r\"C:\\Users\\Nandini Sharma\\Desktop\\python_info.txt\",mode='r')\n",
    "print(file.readline())\n",
    "file.close()"
   ]
  },
  {
   "cell_type": "code",
   "execution_count": 75,
   "id": "03e970b0",
   "metadata": {},
   "outputs": [],
   "source": [
    "file = open(r\"C:\\Users\\Nandini Sharma\\Desktop\\python_info.txt\",mode='r')\n",
    "list_index = file.readlines()\n",
    "#file.close()"
   ]
  },
  {
   "cell_type": "code",
   "execution_count": 76,
   "id": "646229cc",
   "metadata": {},
   "outputs": [
    {
     "data": {
      "text/plain": [
       "'\\n'"
      ]
     },
     "execution_count": 76,
     "metadata": {},
     "output_type": "execute_result"
    }
   ],
   "source": [
    "list_index[3]"
   ]
  },
  {
   "cell_type": "code",
   "execution_count": null,
   "id": "af4cf170",
   "metadata": {},
   "outputs": [],
   "source": []
  },
  {
   "cell_type": "code",
   "execution_count": null,
   "id": "d47031dc",
   "metadata": {},
   "outputs": [],
   "source": []
  },
  {
   "cell_type": "code",
   "execution_count": null,
   "id": "c9bc6ce3",
   "metadata": {},
   "outputs": [],
   "source": []
  },
  {
   "cell_type": "code",
   "execution_count": null,
   "id": "766f5bea",
   "metadata": {},
   "outputs": [],
   "source": []
  },
  {
   "cell_type": "code",
   "execution_count": null,
   "id": "68ad8521",
   "metadata": {},
   "outputs": [],
   "source": []
  },
  {
   "cell_type": "code",
   "execution_count": null,
   "id": "e7d9ebd9",
   "metadata": {},
   "outputs": [],
   "source": []
  },
  {
   "cell_type": "code",
   "execution_count": null,
   "id": "24dd23d1",
   "metadata": {},
   "outputs": [],
   "source": []
  },
  {
   "cell_type": "code",
   "execution_count": null,
   "id": "96f5bebd",
   "metadata": {},
   "outputs": [],
   "source": []
  },
  {
   "cell_type": "code",
   "execution_count": null,
   "id": "f3af25c4",
   "metadata": {},
   "outputs": [],
   "source": []
  },
  {
   "cell_type": "code",
   "execution_count": null,
   "id": "babf0972",
   "metadata": {},
   "outputs": [],
   "source": []
  },
  {
   "cell_type": "code",
   "execution_count": null,
   "id": "3cf72aeb",
   "metadata": {},
   "outputs": [],
   "source": []
  },
  {
   "cell_type": "code",
   "execution_count": null,
   "id": "f6ee28d5",
   "metadata": {},
   "outputs": [],
   "source": []
  },
  {
   "cell_type": "code",
   "execution_count": 14,
   "id": "b4ed281e",
   "metadata": {},
   "outputs": [
    {
     "name": "stdout",
     "output_type": "stream",
     "text": [
      "['Age', '19', '35', '26', '27', '19', '27', '27', '32', '25', '35', '26', '26', '20', '32', '18', '29', '47', '45', '46', '48', '45', '47', '48', '45', '46', '47', '49', '47', '29', '31', '31', '27', '21', '28', '27', '35', '33', '30', '26', '27', '27', '33', '35', '30', '28', '23', '25', '27', '30', '31', '24', '18', '29', '35', '27', '24', '23', '28', '22', '32', '27', '25', '23', '32', '59', '24', '24', '23', '22', '31', '25', '24', '20', '33', '32', '34', '18', '22', '28', '26', '30', '39', '20', '35', '30', '31', '24', '28', '26', '35', '22', '30', '26', '29', '29', '35', '35', '28', '35', '28', '27', '28', '32', '33', '19', '21', '26', '27', '26', '38', '39', '37', '38', '37', '42', '40', '35', '36', '40', '41', '36', '37', '40', '35', '41', '39', '42', '26', '30', '26', '31', '33', '30', '21', '28', '23', '20', '30', '28', '19', '19', '18', '35', '30', '34', '24', '27', '41', '29', '20', '26', '41', '31', '36', '40', '31', '46', '29', '26', '32', '32', '25', '37', '35', '33', '18', '22', '35', '29', '29', '21', '34', '26', '34', '34', '23', '35', '25', '24', '31', '26', '31', '32', '33', '33', '31', '20', '33', '35', '28', '24', '19', '29', '19', '28', '34', '30', '20', '26', '35', '35', '49', '39', '41', '58', '47', '55', '52', '40', '46', '48', '52', '59', '35', '47', '60', '49', '40', '46', '59', '41', '35', '37', '60', '35', '37', '36', '56', '40', '42', '35', '39', '40', '49', '38', '46', '40', '37', '46', '53', '42', '38', '50', '56', '41', '51', '35', '57', '41', '35', '44', '37', '48', '37', '50', '52', '41', '40', '58', '45', '35', '36', '55', '35', '48', '42', '40', '37', '47', '40', '43', '59', '60', '39', '57', '57', '38', '49', '52', '50', '59', '35', '37', '52', '48', '37', '37', '48', '41', '37', '39', '49', '55', '37', '35', '36', '42', '43', '45', '46', '58', '48', '37', '37', '40', '42', '51', '47', '36', '38', '42', '39', '38', '49', '39', '39', '54', '35', '45', '36', '52', '53', '41', '48', '48', '41', '41', '42', '36', '47', '38', '48', '42', '40', '57', '36', '58', '35', '38', '39', '53', '35', '38', '47', '47', '41', '53', '54', '39', '38', '38', '37', '42', '37', '36', '60', '54', '41', '40', '42', '43', '53', '47', '42', '42', '59', '58', '46', '38', '54', '60', '60', '39', '59', '37', '46', '46', '42', '41', '58', '42', '48', '44', '49', '57', '56', '49', '39', '47', '48', '48', '47', '45', '60', '39', '46', '51', '50', '36', '49']\n"
     ]
    }
   ],
   "source": [
    "#f=open('path/to/csv_file')\n",
    "\n",
    "import csv\n",
    "f=open(r\"C:\\Users\\Nandini Sharma\\Desktop\\data science\\User_Data.csv\",encoding='UTF8')\n",
    "csv_reader=csv.reader(f)\n",
    "\n",
    "sale_price = []\n",
    "for line in csv_reader:\n",
    "    \n",
    "    sale_price.append(line[2])\n",
    "print(sale_price)"
   ]
  },
  {
   "cell_type": "code",
   "execution_count": 13,
   "id": "427e6000",
   "metadata": {},
   "outputs": [
    {
     "name": "stdout",
     "output_type": "stream",
     "text": [
      "['User ID', 'Gender', 'Age', 'EstimatedSalary', 'Purchased']\n",
      "['15624510', 'Male', '19', '19000', '0']\n",
      "['15810944', 'Male', '35', '20000', '0']\n",
      "['15668575', 'Female', '26', '43000', '0']\n",
      "['15603246', 'Female', '27', '57000', '0']\n",
      "['15804002', 'Male', '19', '76000', '0']\n",
      "['15728773', 'Male', '27', '58000', '0']\n",
      "['15598044', 'Female', '27', '84000', '0']\n",
      "['15694829', 'Female', '32', '150000', '1']\n",
      "['15600575', 'Male', '25', '33000', '0']\n",
      "['15727311', 'Female', '35', '65000', '0']\n",
      "['15570769', 'Female', '26', '80000', '0']\n",
      "['15606274', 'Female', '26', '52000', '0']\n",
      "['15746139', 'Male', '20', '86000', '0']\n",
      "['15704987', 'Male', '32', '18000', '0']\n",
      "['15628972', 'Male', '18', '82000', '0']\n",
      "['15697686', 'Male', '29', '80000', '0']\n",
      "['15733883', 'Male', '47', '25000', '1']\n",
      "['15617482', 'Male', '45', '26000', '1']\n",
      "['15704583', 'Male', '46', '28000', '1']\n",
      "['15621083', 'Female', '48', '29000', '1']\n",
      "['15649487', 'Male', '45', '22000', '1']\n",
      "['15736760', 'Female', '47', '49000', '1']\n",
      "['15714658', 'Male', '48', '41000', '1']\n",
      "['15599081', 'Female', '45', '22000', '1']\n",
      "['15705113', 'Male', '46', '23000', '1']\n",
      "['15631159', 'Male', '47', '20000', '1']\n",
      "['15792818', 'Male', '49', '28000', '1']\n",
      "['15633531', 'Female', '47', '30000', '1']\n",
      "['15744529', 'Male', '29', '43000', '0']\n",
      "['15669656', 'Male', '31', '18000', '0']\n",
      "['15581198', 'Male', '31', '74000', '0']\n",
      "['15729054', 'Female', '27', '137000', '1']\n",
      "['15573452', 'Female', '21', '16000', '0']\n",
      "['15776733', 'Female', '28', '44000', '0']\n",
      "['15724858', 'Male', '27', '90000', '0']\n",
      "['15713144', 'Male', '35', '27000', '0']\n",
      "['15690188', 'Female', '33', '28000', '0']\n",
      "['15689425', 'Male', '30', '49000', '0']\n",
      "['15671766', 'Female', '26', '72000', '0']\n",
      "['15782806', 'Female', '27', '31000', '0']\n",
      "['15764419', 'Female', '27', '17000', '0']\n",
      "['15591915', 'Female', '33', '51000', '0']\n",
      "['15772798', 'Male', '35', '108000', '0']\n",
      "['15792008', 'Male', '30', '15000', '0']\n",
      "['15715541', 'Female', '28', '84000', '0']\n",
      "['15639277', 'Male', '23', '20000', '0']\n",
      "['15798850', 'Male', '25', '79000', '0']\n",
      "['15776348', 'Female', '27', '54000', '0']\n",
      "['15727696', 'Male', '30', '135000', '1']\n",
      "['15793813', 'Female', '31', '89000', '0']\n",
      "['15694395', 'Female', '24', '32000', '0']\n",
      "['15764195', 'Female', '18', '44000', '0']\n",
      "['15744919', 'Female', '29', '83000', '0']\n",
      "['15671655', 'Female', '35', '23000', '0']\n",
      "['15654901', 'Female', '27', '58000', '0']\n",
      "['15649136', 'Female', '24', '55000', '0']\n",
      "['15775562', 'Female', '23', '48000', '0']\n",
      "['15807481', 'Male', '28', '79000', '0']\n",
      "['15642885', 'Male', '22', '18000', '0']\n",
      "['15789109', 'Female', '32', '117000', '0']\n",
      "['15814004', 'Male', '27', '20000', '0']\n",
      "['15673619', 'Male', '25', '87000', '0']\n",
      "['15595135', 'Female', '23', '66000', '0']\n",
      "['15583681', 'Male', '32', '120000', '1']\n",
      "['15605000', 'Female', '59', '83000', '0']\n",
      "['15718071', 'Male', '24', '58000', '0']\n",
      "['15679760', 'Male', '24', '19000', '0']\n",
      "['15654574', 'Female', '23', '82000', '0']\n",
      "['15577178', 'Female', '22', '63000', '0']\n",
      "['15595324', 'Female', '31', '68000', '0']\n",
      "['15756932', 'Male', '25', '80000', '0']\n",
      "['15726358', 'Female', '24', '27000', '0']\n",
      "['15595228', 'Female', '20', '23000', '0']\n",
      "['15782530', 'Female', '33', '113000', '0']\n",
      "['15592877', 'Male', '32', '18000', '0']\n",
      "['15651983', 'Male', '34', '112000', '1']\n",
      "['15746737', 'Male', '18', '52000', '0']\n",
      "['15774179', 'Female', '22', '27000', '0']\n",
      "['15667265', 'Female', '28', '87000', '0']\n",
      "['15655123', 'Female', '26', '17000', '0']\n",
      "['15595917', 'Male', '30', '80000', '0']\n",
      "['15668385', 'Male', '39', '42000', '0']\n",
      "['15709476', 'Male', '20', '49000', '0']\n",
      "['15711218', 'Male', '35', '88000', '0']\n",
      "['15798659', 'Female', '30', '62000', '0']\n",
      "['15663939', 'Female', '31', '118000', '1']\n",
      "['15694946', 'Male', '24', '55000', '0']\n",
      "['15631912', 'Female', '28', '85000', '0']\n",
      "['15768816', 'Male', '26', '81000', '0']\n",
      "['15682268', 'Male', '35', '50000', '0']\n",
      "['15684801', 'Male', '22', '81000', '0']\n",
      "['15636428', 'Female', '30', '116000', '0']\n",
      "['15809823', 'Male', '26', '15000', '0']\n",
      "['15699284', 'Female', '29', '28000', '0']\n",
      "['15786993', 'Female', '29', '83000', '0']\n",
      "['15709441', 'Female', '35', '44000', '0']\n",
      "['15710257', 'Female', '35', '25000', '0']\n",
      "['15582492', 'Male', '28', '123000', '1']\n",
      "['15575694', 'Male', '35', '73000', '0']\n",
      "['15756820', 'Female', '28', '37000', '0']\n",
      "['15766289', 'Male', '27', '88000', '0']\n",
      "['15593014', 'Male', '28', '59000', '0']\n",
      "['15584545', 'Female', '32', '86000', '0']\n",
      "['15675949', 'Female', '33', '149000', '1']\n",
      "['15672091', 'Female', '19', '21000', '0']\n",
      "['15801658', 'Male', '21', '72000', '0']\n",
      "['15706185', 'Female', '26', '35000', '0']\n",
      "['15789863', 'Male', '27', '89000', '0']\n",
      "['15720943', 'Male', '26', '86000', '0']\n",
      "['15697997', 'Female', '38', '80000', '0']\n",
      "['15665416', 'Female', '39', '71000', '0']\n",
      "['15660200', 'Female', '37', '71000', '0']\n",
      "['15619653', 'Male', '38', '61000', '0']\n",
      "['15773447', 'Male', '37', '55000', '0']\n",
      "['15739160', 'Male', '42', '80000', '0']\n",
      "['15689237', 'Male', '40', '57000', '0']\n",
      "['15679297', 'Male', '35', '75000', '0']\n",
      "['15591433', 'Male', '36', '52000', '0']\n",
      "['15642725', 'Male', '40', '59000', '0']\n",
      "['15701962', 'Male', '41', '59000', '0']\n",
      "['15811613', 'Female', '36', '75000', '0']\n",
      "['15741049', 'Male', '37', '72000', '0']\n",
      "['15724423', 'Female', '40', '75000', '0']\n",
      "['15574305', 'Male', '35', '53000', '0']\n",
      "['15678168', 'Female', '41', '51000', '0']\n",
      "['15697020', 'Female', '39', '61000', '0']\n",
      "['15610801', 'Male', '42', '65000', '0']\n",
      "['15745232', 'Male', '26', '32000', '0']\n",
      "['15722758', 'Male', '30', '17000', '0']\n",
      "['15792102', 'Female', '26', '84000', '0']\n",
      "['15675185', 'Male', '31', '58000', '0']\n",
      "['15801247', 'Male', '33', '31000', '0']\n",
      "['15725660', 'Male', '30', '87000', '0']\n",
      "['15638963', 'Female', '21', '68000', '0']\n",
      "['15800061', 'Female', '28', '55000', '0']\n",
      "['15578006', 'Male', '23', '63000', '0']\n",
      "['15668504', 'Female', '20', '82000', '0']\n",
      "['15687491', 'Male', '30', '107000', '1']\n",
      "['15610403', 'Female', '28', '59000', '0']\n",
      "['15741094', 'Male', '19', '25000', '0']\n",
      "['15807909', 'Male', '19', '85000', '0']\n",
      "['15666141', 'Female', '18', '68000', '0']\n",
      "['15617134', 'Male', '35', '59000', '0']\n",
      "['15783029', 'Male', '30', '89000', '0']\n",
      "['15622833', 'Female', '34', '25000', '0']\n",
      "['15746422', 'Female', '24', '89000', '0']\n",
      "['15750839', 'Female', '27', '96000', '1']\n",
      "['15749130', 'Female', '41', '30000', '0']\n",
      "['15779862', 'Male', '29', '61000', '0']\n",
      "['15767871', 'Male', '20', '74000', '0']\n",
      "['15679651', 'Female', '26', '15000', '0']\n",
      "['15576219', 'Male', '41', '45000', '0']\n",
      "['15699247', 'Male', '31', '76000', '0']\n",
      "['15619087', 'Female', '36', '50000', '0']\n",
      "['15605327', 'Male', '40', '47000', '0']\n",
      "['15610140', 'Female', '31', '15000', '0']\n",
      "['15791174', 'Male', '46', '59000', '0']\n",
      "['15602373', 'Male', '29', '75000', '0']\n",
      "['15762605', 'Male', '26', '30000', '0']\n",
      "['15598840', 'Female', '32', '135000', '1']\n",
      "['15744279', 'Male', '32', '100000', '1']\n",
      "['15670619', 'Male', '25', '90000', '0']\n",
      "['15599533', 'Female', '37', '33000', '0']\n",
      "['15757837', 'Male', '35', '38000', '0']\n",
      "['15697574', 'Female', '33', '69000', '0']\n",
      "['15578738', 'Female', '18', '86000', '0']\n",
      "['15762228', 'Female', '22', '55000', '0']\n",
      "['15614827', 'Female', '35', '71000', '0']\n",
      "['15789815', 'Male', '29', '148000', '1']\n",
      "['15579781', 'Female', '29', '47000', '0']\n",
      "['15587013', 'Male', '21', '88000', '0']\n",
      "['15570932', 'Male', '34', '115000', '0']\n",
      "['15794661', 'Female', '26', '118000', '0']\n",
      "['15581654', 'Female', '34', '43000', '0']\n",
      "['15644296', 'Female', '34', '72000', '0']\n",
      "['15614420', 'Female', '23', '28000', '0']\n",
      "['15609653', 'Female', '35', '47000', '0']\n",
      "['15594577', 'Male', '25', '22000', '0']\n",
      "['15584114', 'Male', '24', '23000', '0']\n",
      "['15673367', 'Female', '31', '34000', '0']\n",
      "['15685576', 'Male', '26', '16000', '0']\n",
      "['15774727', 'Female', '31', '71000', '0']\n",
      "['15694288', 'Female', '32', '117000', '1']\n",
      "['15603319', 'Male', '33', '43000', '0']\n",
      "['15759066', 'Female', '33', '60000', '0']\n",
      "['15814816', 'Male', '31', '66000', '0']\n",
      "['15724402', 'Female', '20', '82000', '0']\n",
      "['15571059', 'Female', '33', '41000', '0']\n",
      "['15674206', 'Male', '35', '72000', '0']\n",
      "['15715160', 'Male', '28', '32000', '0']\n",
      "['15730448', 'Male', '24', '84000', '0']\n",
      "['15662067', 'Female', '19', '26000', '0']\n",
      "['15779581', 'Male', '29', '43000', '0']\n",
      "['15662901', 'Male', '19', '70000', '0']\n",
      "['15689751', 'Male', '28', '89000', '0']\n",
      "['15667742', 'Male', '34', '43000', '0']\n",
      "['15738448', 'Female', '30', '79000', '0']\n",
      "['15680243', 'Female', '20', '36000', '0']\n",
      "['15745083', 'Male', '26', '80000', '0']\n",
      "['15708228', 'Male', '35', '22000', '0']\n",
      "['15628523', 'Male', '35', '39000', '0']\n",
      "['15708196', 'Male', '49', '74000', '0']\n",
      "['15735549', 'Female', '39', '134000', '1']\n",
      "['15809347', 'Female', '41', '71000', '0']\n",
      "['15660866', 'Female', '58', '101000', '1']\n",
      "['15766609', 'Female', '47', '47000', '0']\n",
      "['15654230', 'Female', '55', '130000', '1']\n",
      "['15794566', 'Female', '52', '114000', '0']\n",
      "['15800890', 'Female', '40', '142000', '1']\n",
      "['15697424', 'Female', '46', '22000', '0']\n",
      "['15724536', 'Female', '48', '96000', '1']\n",
      "['15735878', 'Male', '52', '150000', '1']\n",
      "['15707596', 'Female', '59', '42000', '0']\n",
      "['15657163', 'Male', '35', '58000', '0']\n",
      "['15622478', 'Male', '47', '43000', '0']\n",
      "['15779529', 'Female', '60', '108000', '1']\n",
      "['15636023', 'Male', '49', '65000', '0']\n",
      "['15582066', 'Male', '40', '78000', '0']\n",
      "['15666675', 'Female', '46', '96000', '0']\n",
      "['15732987', 'Male', '59', '143000', '1']\n",
      "['15789432', 'Female', '41', '80000', '0']\n",
      "['15663161', 'Male', '35', '91000', '1']\n",
      "['15694879', 'Male', '37', '144000', '1']\n",
      "['15593715', 'Male', '60', '102000', '1']\n",
      "['15575002', 'Female', '35', '60000', '0']\n",
      "['15622171', 'Male', '37', '53000', '0']\n",
      "['15795224', 'Female', '36', '126000', '1']\n",
      "['15685346', 'Male', '56', '133000', '1']\n",
      "['15691808', 'Female', '40', '72000', '0']\n",
      "['15721007', 'Female', '42', '80000', '1']\n",
      "['15794253', 'Female', '35', '147000', '1']\n",
      "['15694453', 'Male', '39', '42000', '0']\n",
      "['15813113', 'Male', '40', '107000', '1']\n",
      "['15614187', 'Male', '49', '86000', '1']\n",
      "['15619407', 'Female', '38', '112000', '0']\n",
      "['15646227', 'Male', '46', '79000', '1']\n",
      "['15660541', 'Male', '40', '57000', '0']\n",
      "['15753874', 'Female', '37', '80000', '0']\n",
      "['15617877', 'Female', '46', '82000', '0']\n",
      "['15772073', 'Female', '53', '143000', '1']\n",
      "['15701537', 'Male', '42', '149000', '1']\n",
      "['15736228', 'Male', '38', '59000', '0']\n",
      "['15780572', 'Female', '50', '88000', '1']\n",
      "['15769596', 'Female', '56', '104000', '1']\n",
      "['15586996', 'Female', '41', '72000', '0']\n",
      "['15722061', 'Female', '51', '146000', '1']\n",
      "['15638003', 'Female', '35', '50000', '0']\n",
      "['15775590', 'Female', '57', '122000', '1']\n",
      "['15730688', 'Male', '41', '52000', '0']\n",
      "['15753102', 'Female', '35', '97000', '1']\n",
      "['15810075', 'Female', '44', '39000', '0']\n",
      "['15723373', 'Male', '37', '52000', '0']\n",
      "['15795298', 'Female', '48', '134000', '1']\n",
      "['15584320', 'Female', '37', '146000', '1']\n",
      "['15724161', 'Female', '50', '44000', '0']\n",
      "['15750056', 'Female', '52', '90000', '1']\n",
      "['15609637', 'Female', '41', '72000', '0']\n",
      "['15794493', 'Male', '40', '57000', '0']\n",
      "['15569641', 'Female', '58', '95000', '1']\n",
      "['15815236', 'Female', '45', '131000', '1']\n",
      "['15811177', 'Female', '35', '77000', '0']\n",
      "['15680587', 'Male', '36', '144000', '1']\n",
      "['15672821', 'Female', '55', '125000', '1']\n",
      "['15767681', 'Female', '35', '72000', '0']\n",
      "['15600379', 'Male', '48', '90000', '1']\n",
      "['15801336', 'Female', '42', '108000', '1']\n",
      "['15721592', 'Male', '40', '75000', '0']\n",
      "['15581282', 'Male', '37', '74000', '0']\n",
      "['15746203', 'Female', '47', '144000', '1']\n",
      "['15583137', 'Male', '40', '61000', '0']\n",
      "['15680752', 'Female', '43', '133000', '0']\n",
      "['15688172', 'Female', '59', '76000', '1']\n",
      "['15791373', 'Male', '60', '42000', '1']\n",
      "['15589449', 'Male', '39', '106000', '1']\n",
      "['15692819', 'Female', '57', '26000', '1']\n",
      "['15727467', 'Male', '57', '74000', '1']\n",
      "['15734312', 'Male', '38', '71000', '0']\n",
      "['15764604', 'Male', '49', '88000', '1']\n",
      "['15613014', 'Female', '52', '38000', '1']\n",
      "['15759684', 'Female', '50', '36000', '1']\n",
      "['15609669', 'Female', '59', '88000', '1']\n",
      "['15685536', 'Male', '35', '61000', '0']\n",
      "['15750447', 'Male', '37', '70000', '1']\n",
      "['15663249', 'Female', '52', '21000', '1']\n",
      "['15638646', 'Male', '48', '141000', '0']\n",
      "['15734161', 'Female', '37', '93000', '1']\n",
      "['15631070', 'Female', '37', '62000', '0']\n",
      "['15761950', 'Female', '48', '138000', '1']\n",
      "['15649668', 'Male', '41', '79000', '0']\n",
      "['15713912', 'Female', '37', '78000', '1']\n",
      "['15586757', 'Male', '39', '134000', '1']\n",
      "['15596522', 'Male', '49', '89000', '1']\n",
      "['15625395', 'Male', '55', '39000', '1']\n",
      "['15760570', 'Male', '37', '77000', '0']\n",
      "['15566689', 'Female', '35', '57000', '0']\n",
      "['15725794', 'Female', '36', '63000', '0']\n",
      "['15673539', 'Male', '42', '73000', '1']\n",
      "['15705298', 'Female', '43', '112000', '1']\n",
      "['15675791', 'Male', '45', '79000', '0']\n",
      "['15747043', 'Male', '46', '117000', '1']\n",
      "['15736397', 'Female', '58', '38000', '1']\n",
      "['15678201', 'Male', '48', '74000', '1']\n",
      "['15720745', 'Female', '37', '137000', '1']\n",
      "['15637593', 'Male', '37', '79000', '1']\n",
      "['15598070', 'Female', '40', '60000', '0']\n",
      "['15787550', 'Male', '42', '54000', '0']\n",
      "['15603942', 'Female', '51', '134000', '0']\n",
      "['15733973', 'Female', '47', '113000', '1']\n",
      "['15596761', 'Male', '36', '125000', '1']\n",
      "['15652400', 'Female', '38', '50000', '0']\n",
      "['15717893', 'Female', '42', '70000', '0']\n",
      "['15622585', 'Male', '39', '96000', '1']\n",
      "['15733964', 'Female', '38', '50000', '0']\n",
      "['15753861', 'Female', '49', '141000', '1']\n",
      "['15747097', 'Female', '39', '79000', '0']\n",
      "['15594762', 'Female', '39', '75000', '1']\n",
      "['15667417', 'Female', '54', '104000', '1']\n",
      "['15684861', 'Male', '35', '55000', '0']\n",
      "['15742204', 'Male', '45', '32000', '1']\n",
      "['15623502', 'Male', '36', '60000', '0']\n",
      "['15774872', 'Female', '52', '138000', '1']\n",
      "['15611191', 'Female', '53', '82000', '1']\n",
      "['15674331', 'Male', '41', '52000', '0']\n",
      "['15619465', 'Female', '48', '30000', '1']\n",
      "['15575247', 'Female', '48', '131000', '1']\n",
      "['15695679', 'Female', '41', '60000', '0']\n",
      "['15713463', 'Male', '41', '72000', '0']\n",
      "['15785170', 'Female', '42', '75000', '0']\n",
      "['15796351', 'Male', '36', '118000', '1']\n",
      "['15639576', 'Female', '47', '107000', '1']\n",
      "['15693264', 'Male', '38', '51000', '0']\n",
      "['15589715', 'Female', '48', '119000', '1']\n",
      "['15769902', 'Male', '42', '65000', '0']\n",
      "['15587177', 'Male', '40', '65000', '0']\n",
      "['15814553', 'Male', '57', '60000', '1']\n",
      "['15601550', 'Female', '36', '54000', '0']\n",
      "['15664907', 'Male', '58', '144000', '1']\n",
      "['15612465', 'Male', '35', '79000', '0']\n",
      "['15810800', 'Female', '38', '55000', '0']\n",
      "['15665760', 'Male', '39', '122000', '1']\n",
      "['15588080', 'Female', '53', '104000', '1']\n",
      "['15776844', 'Male', '35', '75000', '0']\n",
      "['15717560', 'Female', '38', '65000', '0']\n",
      "['15629739', 'Female', '47', '51000', '1']\n",
      "['15729908', 'Male', '47', '105000', '1']\n",
      "['15716781', 'Female', '41', '63000', '0']\n",
      "['15646936', 'Male', '53', '72000', '1']\n",
      "['15768151', 'Female', '54', '108000', '1']\n",
      "['15579212', 'Male', '39', '77000', '0']\n",
      "['15721835', 'Male', '38', '61000', '0']\n",
      "['15800515', 'Female', '38', '113000', '1']\n",
      "['15591279', 'Male', '37', '75000', '0']\n",
      "['15587419', 'Female', '42', '90000', '1']\n",
      "['15750335', 'Female', '37', '57000', '0']\n",
      "['15699619', 'Male', '36', '99000', '1']\n",
      "['15606472', 'Male', '60', '34000', '1']\n",
      "['15778368', 'Male', '54', '70000', '1']\n",
      "['15671387', 'Female', '41', '72000', '0']\n",
      "['15573926', 'Male', '40', '71000', '1']\n",
      "['15709183', 'Male', '42', '54000', '0']\n",
      "['15577514', 'Male', '43', '129000', '1']\n",
      "['15778830', 'Female', '53', '34000', '1']\n",
      "['15768072', 'Female', '47', '50000', '1']\n",
      "['15768293', 'Female', '42', '79000', '0']\n",
      "['15654456', 'Male', '42', '104000', '1']\n",
      "['15807525', 'Female', '59', '29000', '1']\n",
      "['15574372', 'Female', '58', '47000', '1']\n",
      "['15671249', 'Male', '46', '88000', '1']\n",
      "['15779744', 'Male', '38', '71000', '0']\n",
      "['15624755', 'Female', '54', '26000', '1']\n",
      "['15611430', 'Female', '60', '46000', '1']\n",
      "['15774744', 'Male', '60', '83000', '1']\n",
      "['15629885', 'Female', '39', '73000', '0']\n",
      "['15708791', 'Male', '59', '130000', '1']\n",
      "['15793890', 'Female', '37', '80000', '0']\n",
      "['15646091', 'Female', '46', '32000', '1']\n",
      "['15596984', 'Female', '46', '74000', '0']\n",
      "['15800215', 'Female', '42', '53000', '0']\n",
      "['15577806', 'Male', '41', '87000', '1']\n",
      "['15749381', 'Female', '58', '23000', '1']\n",
      "['15683758', 'Male', '42', '64000', '0']\n",
      "['15670615', 'Male', '48', '33000', '1']\n",
      "['15715622', 'Female', '44', '139000', '1']\n",
      "['15707634', 'Male', '49', '28000', '1']\n",
      "['15806901', 'Female', '57', '33000', '1']\n",
      "['15775335', 'Male', '56', '60000', '1']\n",
      "['15724150', 'Female', '49', '39000', '1']\n",
      "['15627220', 'Male', '39', '71000', '0']\n",
      "['15672330', 'Male', '47', '34000', '1']\n",
      "['15668521', 'Female', '48', '35000', '1']\n",
      "['15807837', 'Male', '48', '33000', '1']\n",
      "['15592570', 'Male', '47', '23000', '1']\n",
      "['15748589', 'Female', '45', '45000', '1']\n",
      "['15635893', 'Male', '60', '42000', '1']\n",
      "['15757632', 'Female', '39', '59000', '0']\n",
      "['15691863', 'Female', '46', '41000', '1']\n",
      "['15706071', 'Male', '51', '23000', '1']\n",
      "['15654296', 'Female', '50', '20000', '1']\n",
      "['15755018', 'Male', '36', '33000', '0']\n",
      "['15594041', 'Female', '49', '36000', '1']\n"
     ]
    }
   ],
   "source": [
    "import csv\n",
    "f=open(r\"C:\\Users\\Nandini Sharma\\Desktop\\data science\\User_Data.csv\",encoding='UTF8')\n",
    "csv_reader=csv.reader(f)\n",
    "\n",
    "sale_price = []\n",
    "for line in csv_reader:\n",
    "    print(line)"
   ]
  },
  {
   "cell_type": "code",
   "execution_count": 15,
   "id": "9b914b3e",
   "metadata": {},
   "outputs": [
    {
     "name": "stdout",
     "output_type": "stream",
     "text": [
      "Age\n",
      "19\n",
      "35\n",
      "26\n",
      "27\n",
      "19\n",
      "27\n",
      "27\n",
      "32\n",
      "25\n",
      "35\n",
      "26\n",
      "26\n",
      "20\n",
      "32\n",
      "18\n",
      "29\n",
      "47\n",
      "45\n",
      "46\n",
      "48\n",
      "45\n",
      "47\n",
      "48\n",
      "45\n",
      "46\n",
      "47\n",
      "49\n",
      "47\n",
      "29\n",
      "31\n",
      "31\n",
      "27\n",
      "21\n",
      "28\n",
      "27\n",
      "35\n",
      "33\n",
      "30\n",
      "26\n",
      "27\n",
      "27\n",
      "33\n",
      "35\n",
      "30\n",
      "28\n",
      "23\n",
      "25\n",
      "27\n",
      "30\n",
      "31\n",
      "24\n",
      "18\n",
      "29\n",
      "35\n",
      "27\n",
      "24\n",
      "23\n",
      "28\n",
      "22\n",
      "32\n",
      "27\n",
      "25\n",
      "23\n",
      "32\n",
      "59\n",
      "24\n",
      "24\n",
      "23\n",
      "22\n",
      "31\n",
      "25\n",
      "24\n",
      "20\n",
      "33\n",
      "32\n",
      "34\n",
      "18\n",
      "22\n",
      "28\n",
      "26\n",
      "30\n",
      "39\n",
      "20\n",
      "35\n",
      "30\n",
      "31\n",
      "24\n",
      "28\n",
      "26\n",
      "35\n",
      "22\n",
      "30\n",
      "26\n",
      "29\n",
      "29\n",
      "35\n",
      "35\n",
      "28\n",
      "35\n",
      "28\n",
      "27\n",
      "28\n",
      "32\n",
      "33\n",
      "19\n",
      "21\n",
      "26\n",
      "27\n",
      "26\n",
      "38\n",
      "39\n",
      "37\n",
      "38\n",
      "37\n",
      "42\n",
      "40\n",
      "35\n",
      "36\n",
      "40\n",
      "41\n",
      "36\n",
      "37\n",
      "40\n",
      "35\n",
      "41\n",
      "39\n",
      "42\n",
      "26\n",
      "30\n",
      "26\n",
      "31\n",
      "33\n",
      "30\n",
      "21\n",
      "28\n",
      "23\n",
      "20\n",
      "30\n",
      "28\n",
      "19\n",
      "19\n",
      "18\n",
      "35\n",
      "30\n",
      "34\n",
      "24\n",
      "27\n",
      "41\n",
      "29\n",
      "20\n",
      "26\n",
      "41\n",
      "31\n",
      "36\n",
      "40\n",
      "31\n",
      "46\n",
      "29\n",
      "26\n",
      "32\n",
      "32\n",
      "25\n",
      "37\n",
      "35\n",
      "33\n",
      "18\n",
      "22\n",
      "35\n",
      "29\n",
      "29\n",
      "21\n",
      "34\n",
      "26\n",
      "34\n",
      "34\n",
      "23\n",
      "35\n",
      "25\n",
      "24\n",
      "31\n",
      "26\n",
      "31\n",
      "32\n",
      "33\n",
      "33\n",
      "31\n",
      "20\n",
      "33\n",
      "35\n",
      "28\n",
      "24\n",
      "19\n",
      "29\n",
      "19\n",
      "28\n",
      "34\n",
      "30\n",
      "20\n",
      "26\n",
      "35\n",
      "35\n",
      "49\n",
      "39\n",
      "41\n",
      "58\n",
      "47\n",
      "55\n",
      "52\n",
      "40\n",
      "46\n",
      "48\n",
      "52\n",
      "59\n",
      "35\n",
      "47\n",
      "60\n",
      "49\n",
      "40\n",
      "46\n",
      "59\n",
      "41\n",
      "35\n",
      "37\n",
      "60\n",
      "35\n",
      "37\n",
      "36\n",
      "56\n",
      "40\n",
      "42\n",
      "35\n",
      "39\n",
      "40\n",
      "49\n",
      "38\n",
      "46\n",
      "40\n",
      "37\n",
      "46\n",
      "53\n",
      "42\n",
      "38\n",
      "50\n",
      "56\n",
      "41\n",
      "51\n",
      "35\n",
      "57\n",
      "41\n",
      "35\n",
      "44\n",
      "37\n",
      "48\n",
      "37\n",
      "50\n",
      "52\n",
      "41\n",
      "40\n",
      "58\n",
      "45\n",
      "35\n",
      "36\n",
      "55\n",
      "35\n",
      "48\n",
      "42\n",
      "40\n",
      "37\n",
      "47\n",
      "40\n",
      "43\n",
      "59\n",
      "60\n",
      "39\n",
      "57\n",
      "57\n",
      "38\n",
      "49\n",
      "52\n",
      "50\n",
      "59\n",
      "35\n",
      "37\n",
      "52\n",
      "48\n",
      "37\n",
      "37\n",
      "48\n",
      "41\n",
      "37\n",
      "39\n",
      "49\n",
      "55\n",
      "37\n",
      "35\n",
      "36\n",
      "42\n",
      "43\n",
      "45\n",
      "46\n",
      "58\n",
      "48\n",
      "37\n",
      "37\n",
      "40\n",
      "42\n",
      "51\n",
      "47\n",
      "36\n",
      "38\n",
      "42\n",
      "39\n",
      "38\n",
      "49\n",
      "39\n",
      "39\n",
      "54\n",
      "35\n",
      "45\n",
      "36\n",
      "52\n",
      "53\n",
      "41\n",
      "48\n",
      "48\n",
      "41\n",
      "41\n",
      "42\n",
      "36\n",
      "47\n",
      "38\n",
      "48\n",
      "42\n",
      "40\n",
      "57\n",
      "36\n",
      "58\n",
      "35\n",
      "38\n",
      "39\n",
      "53\n",
      "35\n",
      "38\n",
      "47\n",
      "47\n",
      "41\n",
      "53\n",
      "54\n",
      "39\n",
      "38\n",
      "38\n",
      "37\n",
      "42\n",
      "37\n",
      "36\n",
      "60\n",
      "54\n",
      "41\n",
      "40\n",
      "42\n",
      "43\n",
      "53\n",
      "47\n",
      "42\n",
      "42\n",
      "59\n",
      "58\n",
      "46\n",
      "38\n",
      "54\n",
      "60\n",
      "60\n",
      "39\n",
      "59\n",
      "37\n",
      "46\n",
      "46\n",
      "42\n",
      "41\n",
      "58\n",
      "42\n",
      "48\n",
      "44\n",
      "49\n",
      "57\n",
      "56\n",
      "49\n",
      "39\n",
      "47\n",
      "48\n",
      "48\n",
      "47\n",
      "45\n",
      "60\n",
      "39\n",
      "46\n",
      "51\n",
      "50\n",
      "36\n",
      "49\n"
     ]
    }
   ],
   "source": [
    "#for extracting age,name or any column \n",
    "import csv\n",
    "f=open(r\"C:\\Users\\Nandini Sharma\\Desktop\\data science\\User_Data.csv\",encoding='UTF8')\n",
    "csv_reader=csv.reader(f)\n",
    "\n",
    "sale_price = []\n",
    "for line in csv_reader:\n",
    "    print(line[2])"
   ]
  },
  {
   "cell_type": "code",
   "execution_count": 19,
   "id": "46ef4bc6",
   "metadata": {},
   "outputs": [
    {
     "name": "stdout",
     "output_type": "stream",
     "text": [
      "['Age', '19', '35', '26', '27', '19', '27', '27', '32', '25', '35', '26', '26', '20', '32', '18', '29', '47', '45', '46', '48', '45', '47', '48', '45', '46', '47', '49', '47', '29', '31', '31', '27', '21', '28', '27', '35', '33', '30', '26', '27', '27', '33', '35', '30', '28', '23', '25', '27', '30', '31', '24', '18', '29', '35', '27', '24', '23', '28', '22', '32', '27', '25', '23', '32', '59', '24', '24', '23', '22', '31', '25', '24', '20', '33', '32', '34', '18', '22', '28', '26', '30', '39', '20', '35', '30', '31', '24', '28', '26', '35', '22', '30', '26', '29', '29', '35', '35', '28', '35', '28', '27', '28', '32', '33', '19', '21', '26', '27', '26', '38', '39', '37', '38', '37', '42', '40', '35', '36', '40', '41', '36', '37', '40', '35', '41', '39', '42', '26', '30', '26', '31', '33', '30', '21', '28', '23', '20', '30', '28', '19', '19', '18', '35', '30', '34', '24', '27', '41', '29', '20', '26', '41', '31', '36', '40', '31', '46', '29', '26', '32', '32', '25', '37', '35', '33', '18', '22', '35', '29', '29', '21', '34', '26', '34', '34', '23', '35', '25', '24', '31', '26', '31', '32', '33', '33', '31', '20', '33', '35', '28', '24', '19', '29', '19', '28', '34', '30', '20', '26', '35', '35', '49', '39', '41', '58', '47', '55', '52', '40', '46', '48', '52', '59', '35', '47', '60', '49', '40', '46', '59', '41', '35', '37', '60', '35', '37', '36', '56', '40', '42', '35', '39', '40', '49', '38', '46', '40', '37', '46', '53', '42', '38', '50', '56', '41', '51', '35', '57', '41', '35', '44', '37', '48', '37', '50', '52', '41', '40', '58', '45', '35', '36', '55', '35', '48', '42', '40', '37', '47', '40', '43', '59', '60', '39', '57', '57', '38', '49', '52', '50', '59', '35', '37', '52', '48', '37', '37', '48', '41', '37', '39', '49', '55', '37', '35', '36', '42', '43', '45', '46', '58', '48', '37', '37', '40', '42', '51', '47', '36', '38', '42', '39', '38', '49', '39', '39', '54', '35', '45', '36', '52', '53', '41', '48', '48', '41', '41', '42', '36', '47', '38', '48', '42', '40', '57', '36', '58', '35', '38', '39', '53', '35', '38', '47', '47', '41', '53', '54', '39', '38', '38', '37', '42', '37', '36', '60', '54', '41', '40', '42', '43', '53', '47', '42', '42', '59', '58', '46', '38', '54', '60', '60', '39', '59', '37', '46', '46', '42', '41', '58', '42', '48', '44', '49', '57', '56', '49', '39', '47', '48', '48', '47', '45', '60', '39', '46', '51', '50', '36', '49']\n"
     ]
    }
   ],
   "source": [
    "#for extracting age,name or any column \n",
    "import csv\n",
    "from statistics import mean\n",
    "f=open(r\"C:\\Users\\Nandini Sharma\\Desktop\\data science\\User_Data.csv\",encoding='UTF8')\n",
    "csv_reader=csv.reader(f)\n",
    "age = []\n",
    "sale_price = []\n",
    "for line in csv_reader:\n",
    "    age.append(line[2])\n",
    "print(age)"
   ]
  },
  {
   "cell_type": "code",
   "execution_count": 23,
   "id": "46b8a24c",
   "metadata": {},
   "outputs": [
    {
     "name": "stdout",
     "output_type": "stream",
     "text": [
      "19\n",
      "35\n",
      "26\n",
      "27\n",
      "19\n",
      "27\n",
      "27\n",
      "32\n",
      "25\n",
      "35\n",
      "26\n",
      "26\n",
      "20\n",
      "32\n",
      "18\n",
      "29\n",
      "47\n",
      "45\n",
      "46\n",
      "48\n",
      "45\n",
      "47\n",
      "48\n",
      "45\n",
      "46\n",
      "47\n",
      "49\n",
      "47\n",
      "29\n",
      "31\n",
      "31\n",
      "27\n",
      "21\n",
      "28\n",
      "27\n",
      "35\n",
      "33\n",
      "30\n",
      "26\n",
      "27\n",
      "27\n",
      "33\n",
      "35\n",
      "30\n",
      "28\n",
      "23\n",
      "25\n",
      "27\n",
      "30\n",
      "31\n",
      "24\n",
      "18\n",
      "29\n",
      "35\n",
      "27\n",
      "24\n",
      "23\n",
      "28\n",
      "22\n",
      "32\n",
      "27\n",
      "25\n",
      "23\n",
      "32\n",
      "59\n",
      "24\n",
      "24\n",
      "23\n",
      "22\n",
      "31\n",
      "25\n",
      "24\n",
      "20\n",
      "33\n",
      "32\n",
      "34\n",
      "18\n",
      "22\n",
      "28\n",
      "26\n",
      "30\n",
      "39\n",
      "20\n",
      "35\n",
      "30\n",
      "31\n",
      "24\n",
      "28\n",
      "26\n",
      "35\n",
      "22\n",
      "30\n",
      "26\n",
      "29\n",
      "29\n",
      "35\n",
      "35\n",
      "28\n",
      "35\n",
      "28\n",
      "27\n",
      "28\n",
      "32\n",
      "33\n",
      "19\n",
      "21\n",
      "26\n",
      "27\n",
      "26\n",
      "38\n",
      "39\n",
      "37\n",
      "38\n",
      "37\n",
      "42\n",
      "40\n",
      "35\n",
      "36\n",
      "40\n",
      "41\n",
      "36\n",
      "37\n",
      "40\n",
      "35\n",
      "41\n",
      "39\n",
      "42\n",
      "26\n",
      "30\n",
      "26\n",
      "31\n",
      "33\n",
      "30\n",
      "21\n",
      "28\n",
      "23\n",
      "20\n",
      "30\n",
      "28\n",
      "19\n",
      "19\n",
      "18\n",
      "35\n",
      "30\n",
      "34\n",
      "24\n",
      "27\n",
      "41\n",
      "29\n",
      "20\n",
      "26\n",
      "41\n",
      "31\n",
      "36\n",
      "40\n",
      "31\n",
      "46\n",
      "29\n",
      "26\n",
      "32\n",
      "32\n",
      "25\n",
      "37\n",
      "35\n",
      "33\n",
      "18\n",
      "22\n",
      "35\n",
      "29\n",
      "29\n",
      "21\n",
      "34\n",
      "26\n",
      "34\n",
      "34\n",
      "23\n",
      "35\n",
      "25\n",
      "24\n",
      "31\n",
      "26\n",
      "31\n",
      "32\n",
      "33\n",
      "33\n",
      "31\n",
      "20\n",
      "33\n",
      "35\n",
      "28\n",
      "24\n",
      "19\n",
      "29\n",
      "19\n",
      "28\n",
      "34\n",
      "30\n",
      "20\n",
      "26\n",
      "35\n",
      "35\n",
      "49\n",
      "39\n",
      "41\n",
      "58\n",
      "47\n",
      "55\n",
      "52\n",
      "40\n",
      "46\n",
      "48\n",
      "52\n",
      "59\n",
      "35\n",
      "47\n",
      "60\n",
      "49\n",
      "40\n",
      "46\n",
      "59\n",
      "41\n",
      "35\n",
      "37\n",
      "60\n",
      "35\n",
      "37\n",
      "36\n",
      "56\n",
      "40\n",
      "42\n",
      "35\n",
      "39\n",
      "40\n",
      "49\n",
      "38\n",
      "46\n",
      "40\n",
      "37\n",
      "46\n",
      "53\n",
      "42\n",
      "38\n",
      "50\n",
      "56\n",
      "41\n",
      "51\n",
      "35\n",
      "57\n",
      "41\n",
      "35\n",
      "44\n",
      "37\n",
      "48\n",
      "37\n",
      "50\n",
      "52\n",
      "41\n",
      "40\n",
      "58\n",
      "45\n",
      "35\n",
      "36\n",
      "55\n",
      "35\n",
      "48\n",
      "42\n",
      "40\n",
      "37\n",
      "47\n",
      "40\n",
      "43\n",
      "59\n",
      "60\n",
      "39\n",
      "57\n",
      "57\n",
      "38\n",
      "49\n",
      "52\n",
      "50\n",
      "59\n",
      "35\n",
      "37\n",
      "52\n",
      "48\n",
      "37\n",
      "37\n",
      "48\n",
      "41\n",
      "37\n",
      "39\n",
      "49\n",
      "55\n",
      "37\n",
      "35\n",
      "36\n",
      "42\n",
      "43\n",
      "45\n",
      "46\n",
      "58\n",
      "48\n",
      "37\n",
      "37\n",
      "40\n",
      "42\n",
      "51\n",
      "47\n",
      "36\n",
      "38\n",
      "42\n",
      "39\n",
      "38\n",
      "49\n",
      "39\n",
      "39\n",
      "54\n",
      "35\n",
      "45\n",
      "36\n",
      "52\n",
      "53\n",
      "41\n",
      "48\n",
      "48\n",
      "41\n",
      "41\n",
      "42\n",
      "36\n",
      "47\n",
      "38\n",
      "48\n",
      "42\n",
      "40\n",
      "57\n",
      "36\n",
      "58\n",
      "35\n",
      "38\n",
      "39\n",
      "53\n",
      "35\n",
      "38\n",
      "47\n",
      "47\n",
      "41\n",
      "53\n",
      "54\n",
      "39\n",
      "38\n",
      "38\n",
      "37\n",
      "42\n",
      "37\n",
      "36\n",
      "60\n",
      "54\n",
      "41\n",
      "40\n",
      "42\n",
      "43\n",
      "53\n",
      "47\n",
      "42\n",
      "42\n",
      "59\n",
      "58\n",
      "46\n",
      "38\n",
      "54\n",
      "60\n",
      "60\n",
      "39\n",
      "59\n",
      "37\n",
      "46\n",
      "46\n",
      "42\n",
      "41\n",
      "58\n",
      "42\n",
      "48\n",
      "44\n",
      "49\n",
      "57\n",
      "56\n",
      "49\n",
      "39\n",
      "47\n",
      "48\n",
      "48\n",
      "47\n",
      "45\n",
      "60\n",
      "39\n",
      "46\n",
      "51\n",
      "50\n",
      "36\n",
      "49\n"
     ]
    }
   ],
   "source": [
    "for i in age[1:]:\n",
    "    print(i)\n"
   ]
  },
  {
   "cell_type": "code",
   "execution_count": 24,
   "id": "07b4f54c",
   "metadata": {},
   "outputs": [
    {
     "name": "stdout",
     "output_type": "stream",
     "text": [
      "19\n",
      "35\n",
      "26\n",
      "27\n",
      "19\n",
      "27\n",
      "27\n",
      "32\n",
      "25\n",
      "35\n",
      "26\n",
      "26\n",
      "20\n",
      "32\n",
      "18\n",
      "29\n",
      "47\n",
      "45\n",
      "46\n",
      "48\n",
      "45\n",
      "47\n",
      "48\n",
      "45\n",
      "46\n",
      "47\n",
      "49\n",
      "47\n",
      "29\n",
      "31\n",
      "31\n",
      "27\n",
      "21\n",
      "28\n",
      "27\n",
      "35\n",
      "33\n",
      "30\n",
      "26\n",
      "27\n",
      "27\n",
      "33\n",
      "35\n",
      "30\n",
      "28\n",
      "23\n",
      "25\n",
      "27\n",
      "30\n",
      "31\n",
      "24\n",
      "18\n",
      "29\n",
      "35\n",
      "27\n",
      "24\n",
      "23\n",
      "28\n",
      "22\n",
      "32\n",
      "27\n",
      "25\n",
      "23\n",
      "32\n",
      "59\n",
      "24\n",
      "24\n",
      "23\n",
      "22\n",
      "31\n",
      "25\n",
      "24\n",
      "20\n",
      "33\n",
      "32\n",
      "34\n",
      "18\n",
      "22\n",
      "28\n",
      "26\n",
      "30\n",
      "39\n",
      "20\n",
      "35\n",
      "30\n",
      "31\n",
      "24\n",
      "28\n",
      "26\n",
      "35\n",
      "22\n",
      "30\n",
      "26\n",
      "29\n",
      "29\n",
      "35\n",
      "35\n",
      "28\n",
      "35\n",
      "28\n",
      "27\n",
      "28\n",
      "32\n",
      "33\n",
      "19\n",
      "21\n",
      "26\n",
      "27\n",
      "26\n",
      "38\n",
      "39\n",
      "37\n",
      "38\n",
      "37\n",
      "42\n",
      "40\n",
      "35\n",
      "36\n",
      "40\n",
      "41\n",
      "36\n",
      "37\n",
      "40\n",
      "35\n",
      "41\n",
      "39\n",
      "42\n",
      "26\n",
      "30\n",
      "26\n",
      "31\n",
      "33\n",
      "30\n",
      "21\n",
      "28\n",
      "23\n",
      "20\n",
      "30\n",
      "28\n",
      "19\n",
      "19\n",
      "18\n",
      "35\n",
      "30\n",
      "34\n",
      "24\n",
      "27\n",
      "41\n",
      "29\n",
      "20\n",
      "26\n",
      "41\n",
      "31\n",
      "36\n",
      "40\n",
      "31\n",
      "46\n",
      "29\n",
      "26\n",
      "32\n",
      "32\n",
      "25\n",
      "37\n",
      "35\n",
      "33\n",
      "18\n",
      "22\n",
      "35\n",
      "29\n",
      "29\n",
      "21\n",
      "34\n",
      "26\n",
      "34\n",
      "34\n",
      "23\n",
      "35\n",
      "25\n",
      "24\n",
      "31\n",
      "26\n",
      "31\n",
      "32\n",
      "33\n",
      "33\n",
      "31\n",
      "20\n",
      "33\n",
      "35\n",
      "28\n",
      "24\n",
      "19\n",
      "29\n",
      "19\n",
      "28\n",
      "34\n",
      "30\n",
      "20\n",
      "26\n",
      "35\n",
      "35\n",
      "49\n",
      "39\n",
      "41\n",
      "58\n",
      "47\n",
      "55\n",
      "52\n",
      "40\n",
      "46\n",
      "48\n",
      "52\n",
      "59\n",
      "35\n",
      "47\n",
      "60\n",
      "49\n",
      "40\n",
      "46\n",
      "59\n",
      "41\n",
      "35\n",
      "37\n",
      "60\n",
      "35\n",
      "37\n",
      "36\n",
      "56\n",
      "40\n",
      "42\n",
      "35\n",
      "39\n",
      "40\n",
      "49\n",
      "38\n",
      "46\n",
      "40\n",
      "37\n",
      "46\n",
      "53\n",
      "42\n",
      "38\n",
      "50\n",
      "56\n",
      "41\n",
      "51\n",
      "35\n",
      "57\n",
      "41\n",
      "35\n",
      "44\n",
      "37\n",
      "48\n",
      "37\n",
      "50\n",
      "52\n",
      "41\n",
      "40\n",
      "58\n",
      "45\n",
      "35\n",
      "36\n",
      "55\n",
      "35\n",
      "48\n",
      "42\n",
      "40\n",
      "37\n",
      "47\n",
      "40\n",
      "43\n",
      "59\n",
      "60\n",
      "39\n",
      "57\n",
      "57\n",
      "38\n",
      "49\n",
      "52\n",
      "50\n",
      "59\n",
      "35\n",
      "37\n",
      "52\n",
      "48\n",
      "37\n",
      "37\n",
      "48\n",
      "41\n",
      "37\n",
      "39\n",
      "49\n",
      "55\n",
      "37\n",
      "35\n",
      "36\n",
      "42\n",
      "43\n",
      "45\n",
      "46\n",
      "58\n",
      "48\n",
      "37\n",
      "37\n",
      "40\n",
      "42\n",
      "51\n",
      "47\n",
      "36\n",
      "38\n",
      "42\n",
      "39\n",
      "38\n",
      "49\n",
      "39\n",
      "39\n",
      "54\n",
      "35\n",
      "45\n",
      "36\n",
      "52\n",
      "53\n",
      "41\n",
      "48\n",
      "48\n",
      "41\n",
      "41\n",
      "42\n",
      "36\n",
      "47\n",
      "38\n",
      "48\n",
      "42\n",
      "40\n",
      "57\n",
      "36\n",
      "58\n",
      "35\n",
      "38\n",
      "39\n",
      "53\n",
      "35\n",
      "38\n",
      "47\n",
      "47\n",
      "41\n",
      "53\n",
      "54\n",
      "39\n",
      "38\n",
      "38\n",
      "37\n",
      "42\n",
      "37\n",
      "36\n",
      "60\n",
      "54\n",
      "41\n",
      "40\n",
      "42\n",
      "43\n",
      "53\n",
      "47\n",
      "42\n",
      "42\n",
      "59\n",
      "58\n",
      "46\n",
      "38\n",
      "54\n",
      "60\n",
      "60\n",
      "39\n",
      "59\n",
      "37\n",
      "46\n",
      "46\n",
      "42\n",
      "41\n",
      "58\n",
      "42\n",
      "48\n",
      "44\n",
      "49\n",
      "57\n",
      "56\n",
      "49\n",
      "39\n",
      "47\n",
      "48\n",
      "48\n",
      "47\n",
      "45\n",
      "60\n",
      "39\n",
      "46\n",
      "51\n",
      "50\n",
      "36\n",
      "49\n"
     ]
    }
   ],
   "source": [
    "for i in age[1:]:\n",
    "    print(int(i))\n"
   ]
  },
  {
   "cell_type": "code",
   "execution_count": 7,
   "id": "b0082c8b",
   "metadata": {},
   "outputs": [
    {
     "name": "stdout",
     "output_type": "stream",
     "text": [
      "the average age of users is 37.70175438596491\n"
     ]
    }
   ],
   "source": [
    "import csv\n",
    "from statistics import mean\n",
    "f=open(r\"C:\\Users\\Nandini Sharma\\Desktop\\data science\\User_Data.csv\",encoding='UTF8')\n",
    "csv_reader=csv.reader(f)\n",
    "\n",
    "age = []\n",
    "for line in csv_reader:\n",
    "    age.append(line[2])\n",
    "int_age=[]\n",
    "for i in age[2:]:\n",
    "    int_age.append(int(i))\n",
    "print(f'the average age of users is {sum(int_age)/len(int_age)}')"
   ]
  },
  {
   "cell_type": "code",
   "execution_count": null,
   "id": "4848e87e",
   "metadata": {},
   "outputs": [],
   "source": [
    "import csv\n",
    "from statistics import mean\n",
    "f=open(r\"C:\\Users\\Nandini Sharma\\Desktop\\data science\\User_Data.csv\",encoding='UTF8')\n",
    "csv_reader=csv.reader(f)\n",
    "\n",
    "m = []\n",
    "f = []\n",
    "for line in csv_reader:\n",
    "    "
   ]
  },
  {
   "cell_type": "code",
   "execution_count": 33,
   "id": "43cb50e5",
   "metadata": {},
   "outputs": [
    {
     "name": "stdout",
     "output_type": "stream",
     "text": [
      "the average age of users is 69994.97487437187\n"
     ]
    }
   ],
   "source": [
    "import csv\n",
    "from statistics import mean\n",
    "f=open(r\"C:\\Users\\Nandini Sharma\\Desktop\\data science\\User_Data.csv\",encoding='UTF8')\n",
    "csv_reader=csv.reader(f)\n",
    "\n",
    "expectedsalary = []\n",
    "for line in csv_reader:\n",
    "    expectedsalary.append(line[3])\n",
    "    \n",
    "expected_salary=[]\n",
    "for i in expectedsalary[3:]:\n",
    "    expected_salary.append(int(i))\n",
    "print(f'the average age of users is {sum(expected_salary)/len(expected_salary)}')"
   ]
  },
  {
   "cell_type": "code",
   "execution_count": 63,
   "id": "fb9ca04a",
   "metadata": {},
   "outputs": [
    {
     "name": "stdout",
     "output_type": "stream",
     "text": [
      "average male salary is 67642.86\n",
      "average female salary is 71759.8\n"
     ]
    }
   ],
   "source": [
    "import csv\n",
    "import statistics\n",
    " \n",
    "f=open(r\"C:\\Users\\Nandini Sharma\\Desktop\\data science\\User_Data.csv\",encoding='UTF8')\n",
    "csv_reader=csv.reader(f)\n",
    "\n",
    "m_salary =[]\n",
    "f_salary =[]\n",
    "\n",
    "for gender in csv_reader:\n",
    "    if gender[1] == 'Male':\n",
    "        m_salary.append(int(gender[3]))\n",
    "        \n",
    "#print('-------------------------------------------------')\n",
    "\n",
    "    elif gender[1] =='Female':\n",
    "        f_salary.append(int(gender[3]))\n",
    "# print(m_salary)\n",
    "        \n",
    "print(f'average male salary is {round(statistics.mean(m_salary),2)}')\n",
    "print(f'average female salary is {round(statistics.mean(f_salary),2)}')"
   ]
  },
  {
   "cell_type": "code",
   "execution_count": 28,
   "id": "f87eb90b",
   "metadata": {},
   "outputs": [
    {
     "name": "stdout",
     "output_type": "stream",
     "text": [
      "['User ID', 'Gender', 'Age', 'EstimatedSalary', 'Purchased']\n",
      "['15624510', 'Male', '19', '19000', '0']\n",
      "['15810944', 'Male', '35', '20000', '0']\n",
      "['15668575', 'Female', '26', '43000', '0']\n",
      "['15603246', 'Female', '27', '57000', '0']\n",
      "['15804002', 'Male', '19', '76000', '0']\n",
      "['15728773', 'Male', '27', '58000', '0']\n",
      "['15598044', 'Female', '27', '84000', '0']\n",
      "['15694829', 'Female', '32', '150000', '1']\n",
      "['15600575', 'Male', '25', '33000', '0']\n",
      "['15727311', 'Female', '35', '65000', '0']\n",
      "['15570769', 'Female', '26', '80000', '0']\n",
      "['15606274', 'Female', '26', '52000', '0']\n",
      "['15746139', 'Male', '20', '86000', '0']\n",
      "['15704987', 'Male', '32', '18000', '0']\n",
      "['15628972', 'Male', '18', '82000', '0']\n",
      "['15697686', 'Male', '29', '80000', '0']\n",
      "['15733883', 'Male', '47', '25000', '1']\n",
      "['15617482', 'Male', '45', '26000', '1']\n",
      "['15704583', 'Male', '46', '28000', '1']\n",
      "['15621083', 'Female', '48', '29000', '1']\n",
      "['15649487', 'Male', '45', '22000', '1']\n",
      "['15736760', 'Female', '47', '49000', '1']\n",
      "['15714658', 'Male', '48', '41000', '1']\n",
      "['15599081', 'Female', '45', '22000', '1']\n",
      "['15705113', 'Male', '46', '23000', '1']\n",
      "['15631159', 'Male', '47', '20000', '1']\n",
      "['15792818', 'Male', '49', '28000', '1']\n",
      "['15633531', 'Female', '47', '30000', '1']\n",
      "['15744529', 'Male', '29', '43000', '0']\n",
      "['15669656', 'Male', '31', '18000', '0']\n",
      "['15581198', 'Male', '31', '74000', '0']\n",
      "['15729054', 'Female', '27', '137000', '1']\n",
      "['15573452', 'Female', '21', '16000', '0']\n",
      "['15776733', 'Female', '28', '44000', '0']\n",
      "['15724858', 'Male', '27', '90000', '0']\n",
      "['15713144', 'Male', '35', '27000', '0']\n",
      "['15690188', 'Female', '33', '28000', '0']\n",
      "['15689425', 'Male', '30', '49000', '0']\n",
      "['15671766', 'Female', '26', '72000', '0']\n",
      "['15782806', 'Female', '27', '31000', '0']\n",
      "['15764419', 'Female', '27', '17000', '0']\n",
      "['15591915', 'Female', '33', '51000', '0']\n",
      "['15772798', 'Male', '35', '108000', '0']\n",
      "['15792008', 'Male', '30', '15000', '0']\n",
      "['15715541', 'Female', '28', '84000', '0']\n",
      "['15639277', 'Male', '23', '20000', '0']\n",
      "['15798850', 'Male', '25', '79000', '0']\n",
      "['15776348', 'Female', '27', '54000', '0']\n",
      "['15727696', 'Male', '30', '135000', '1']\n",
      "['15793813', 'Female', '31', '89000', '0']\n",
      "['15694395', 'Female', '24', '32000', '0']\n",
      "['15764195', 'Female', '18', '44000', '0']\n",
      "['15744919', 'Female', '29', '83000', '0']\n",
      "['15671655', 'Female', '35', '23000', '0']\n",
      "['15654901', 'Female', '27', '58000', '0']\n",
      "['15649136', 'Female', '24', '55000', '0']\n",
      "['15775562', 'Female', '23', '48000', '0']\n",
      "['15807481', 'Male', '28', '79000', '0']\n",
      "['15642885', 'Male', '22', '18000', '0']\n",
      "['15789109', 'Female', '32', '117000', '0']\n",
      "['15814004', 'Male', '27', '20000', '0']\n",
      "['15673619', 'Male', '25', '87000', '0']\n",
      "['15595135', 'Female', '23', '66000', '0']\n",
      "['15583681', 'Male', '32', '120000', '1']\n",
      "['15605000', 'Female', '59', '83000', '0']\n",
      "['15718071', 'Male', '24', '58000', '0']\n",
      "['15679760', 'Male', '24', '19000', '0']\n",
      "['15654574', 'Female', '23', '82000', '0']\n",
      "['15577178', 'Female', '22', '63000', '0']\n",
      "['15595324', 'Female', '31', '68000', '0']\n",
      "['15756932', 'Male', '25', '80000', '0']\n",
      "['15726358', 'Female', '24', '27000', '0']\n",
      "['15595228', 'Female', '20', '23000', '0']\n",
      "['15782530', 'Female', '33', '113000', '0']\n",
      "['15592877', 'Male', '32', '18000', '0']\n",
      "['15651983', 'Male', '34', '112000', '1']\n",
      "['15746737', 'Male', '18', '52000', '0']\n",
      "['15774179', 'Female', '22', '27000', '0']\n",
      "['15667265', 'Female', '28', '87000', '0']\n",
      "['15655123', 'Female', '26', '17000', '0']\n",
      "['15595917', 'Male', '30', '80000', '0']\n",
      "['15668385', 'Male', '39', '42000', '0']\n",
      "['15709476', 'Male', '20', '49000', '0']\n",
      "['15711218', 'Male', '35', '88000', '0']\n",
      "['15798659', 'Female', '30', '62000', '0']\n",
      "['15663939', 'Female', '31', '118000', '1']\n",
      "['15694946', 'Male', '24', '55000', '0']\n",
      "['15631912', 'Female', '28', '85000', '0']\n",
      "['15768816', 'Male', '26', '81000', '0']\n",
      "['15682268', 'Male', '35', '50000', '0']\n",
      "['15684801', 'Male', '22', '81000', '0']\n",
      "['15636428', 'Female', '30', '116000', '0']\n",
      "['15809823', 'Male', '26', '15000', '0']\n",
      "['15699284', 'Female', '29', '28000', '0']\n",
      "['15786993', 'Female', '29', '83000', '0']\n",
      "['15709441', 'Female', '35', '44000', '0']\n",
      "['15710257', 'Female', '35', '25000', '0']\n",
      "['15582492', 'Male', '28', '123000', '1']\n",
      "['15575694', 'Male', '35', '73000', '0']\n",
      "['15756820', 'Female', '28', '37000', '0']\n",
      "['15766289', 'Male', '27', '88000', '0']\n",
      "['15593014', 'Male', '28', '59000', '0']\n",
      "['15584545', 'Female', '32', '86000', '0']\n",
      "['15675949', 'Female', '33', '149000', '1']\n",
      "['15672091', 'Female', '19', '21000', '0']\n",
      "['15801658', 'Male', '21', '72000', '0']\n",
      "['15706185', 'Female', '26', '35000', '0']\n",
      "['15789863', 'Male', '27', '89000', '0']\n",
      "['15720943', 'Male', '26', '86000', '0']\n",
      "['15697997', 'Female', '38', '80000', '0']\n",
      "['15665416', 'Female', '39', '71000', '0']\n",
      "['15660200', 'Female', '37', '71000', '0']\n",
      "['15619653', 'Male', '38', '61000', '0']\n",
      "['15773447', 'Male', '37', '55000', '0']\n",
      "['15739160', 'Male', '42', '80000', '0']\n",
      "['15689237', 'Male', '40', '57000', '0']\n",
      "['15679297', 'Male', '35', '75000', '0']\n",
      "['15591433', 'Male', '36', '52000', '0']\n",
      "['15642725', 'Male', '40', '59000', '0']\n",
      "['15701962', 'Male', '41', '59000', '0']\n",
      "['15811613', 'Female', '36', '75000', '0']\n",
      "['15741049', 'Male', '37', '72000', '0']\n",
      "['15724423', 'Female', '40', '75000', '0']\n",
      "['15574305', 'Male', '35', '53000', '0']\n",
      "['15678168', 'Female', '41', '51000', '0']\n",
      "['15697020', 'Female', '39', '61000', '0']\n",
      "['15610801', 'Male', '42', '65000', '0']\n",
      "['15745232', 'Male', '26', '32000', '0']\n",
      "['15722758', 'Male', '30', '17000', '0']\n",
      "['15792102', 'Female', '26', '84000', '0']\n",
      "['15675185', 'Male', '31', '58000', '0']\n",
      "['15801247', 'Male', '33', '31000', '0']\n",
      "['15725660', 'Male', '30', '87000', '0']\n",
      "['15638963', 'Female', '21', '68000', '0']\n",
      "['15800061', 'Female', '28', '55000', '0']\n",
      "['15578006', 'Male', '23', '63000', '0']\n",
      "['15668504', 'Female', '20', '82000', '0']\n",
      "['15687491', 'Male', '30', '107000', '1']\n",
      "['15610403', 'Female', '28', '59000', '0']\n",
      "['15741094', 'Male', '19', '25000', '0']\n",
      "['15807909', 'Male', '19', '85000', '0']\n",
      "['15666141', 'Female', '18', '68000', '0']\n",
      "['15617134', 'Male', '35', '59000', '0']\n",
      "['15783029', 'Male', '30', '89000', '0']\n",
      "['15622833', 'Female', '34', '25000', '0']\n",
      "['15746422', 'Female', '24', '89000', '0']\n",
      "['15750839', 'Female', '27', '96000', '1']\n",
      "['15749130', 'Female', '41', '30000', '0']\n",
      "['15779862', 'Male', '29', '61000', '0']\n",
      "['15767871', 'Male', '20', '74000', '0']\n",
      "['15679651', 'Female', '26', '15000', '0']\n",
      "['15576219', 'Male', '41', '45000', '0']\n",
      "['15699247', 'Male', '31', '76000', '0']\n",
      "['15619087', 'Female', '36', '50000', '0']\n",
      "['15605327', 'Male', '40', '47000', '0']\n",
      "['15610140', 'Female', '31', '15000', '0']\n",
      "['15791174', 'Male', '46', '59000', '0']\n",
      "['15602373', 'Male', '29', '75000', '0']\n",
      "['15762605', 'Male', '26', '30000', '0']\n",
      "['15598840', 'Female', '32', '135000', '1']\n",
      "['15744279', 'Male', '32', '100000', '1']\n",
      "['15670619', 'Male', '25', '90000', '0']\n",
      "['15599533', 'Female', '37', '33000', '0']\n",
      "['15757837', 'Male', '35', '38000', '0']\n",
      "['15697574', 'Female', '33', '69000', '0']\n",
      "['15578738', 'Female', '18', '86000', '0']\n",
      "['15762228', 'Female', '22', '55000', '0']\n",
      "['15614827', 'Female', '35', '71000', '0']\n",
      "['15789815', 'Male', '29', '148000', '1']\n",
      "['15579781', 'Female', '29', '47000', '0']\n",
      "['15587013', 'Male', '21', '88000', '0']\n",
      "['15570932', 'Male', '34', '115000', '0']\n",
      "['15794661', 'Female', '26', '118000', '0']\n",
      "['15581654', 'Female', '34', '43000', '0']\n",
      "['15644296', 'Female', '34', '72000', '0']\n",
      "['15614420', 'Female', '23', '28000', '0']\n",
      "['15609653', 'Female', '35', '47000', '0']\n",
      "['15594577', 'Male', '25', '22000', '0']\n",
      "['15584114', 'Male', '24', '23000', '0']\n",
      "['15673367', 'Female', '31', '34000', '0']\n",
      "['15685576', 'Male', '26', '16000', '0']\n",
      "['15774727', 'Female', '31', '71000', '0']\n",
      "['15694288', 'Female', '32', '117000', '1']\n",
      "['15603319', 'Male', '33', '43000', '0']\n",
      "['15759066', 'Female', '33', '60000', '0']\n",
      "['15814816', 'Male', '31', '66000', '0']\n",
      "['15724402', 'Female', '20', '82000', '0']\n",
      "['15571059', 'Female', '33', '41000', '0']\n",
      "['15674206', 'Male', '35', '72000', '0']\n",
      "['15715160', 'Male', '28', '32000', '0']\n",
      "['15730448', 'Male', '24', '84000', '0']\n",
      "['15662067', 'Female', '19', '26000', '0']\n",
      "['15779581', 'Male', '29', '43000', '0']\n",
      "['15662901', 'Male', '19', '70000', '0']\n",
      "['15689751', 'Male', '28', '89000', '0']\n",
      "['15667742', 'Male', '34', '43000', '0']\n",
      "['15738448', 'Female', '30', '79000', '0']\n",
      "['15680243', 'Female', '20', '36000', '0']\n",
      "['15745083', 'Male', '26', '80000', '0']\n",
      "['15708228', 'Male', '35', '22000', '0']\n",
      "['15628523', 'Male', '35', '39000', '0']\n",
      "['15708196', 'Male', '49', '74000', '0']\n",
      "['15735549', 'Female', '39', '134000', '1']\n",
      "['15809347', 'Female', '41', '71000', '0']\n",
      "['15660866', 'Female', '58', '101000', '1']\n",
      "['15766609', 'Female', '47', '47000', '0']\n",
      "['15654230', 'Female', '55', '130000', '1']\n",
      "['15794566', 'Female', '52', '114000', '0']\n",
      "['15800890', 'Female', '40', '142000', '1']\n",
      "['15697424', 'Female', '46', '22000', '0']\n",
      "['15724536', 'Female', '48', '96000', '1']\n",
      "['15735878', 'Male', '52', '150000', '1']\n",
      "['15707596', 'Female', '59', '42000', '0']\n",
      "['15657163', 'Male', '35', '58000', '0']\n",
      "['15622478', 'Male', '47', '43000', '0']\n",
      "['15779529', 'Female', '60', '108000', '1']\n",
      "['15636023', 'Male', '49', '65000', '0']\n",
      "['15582066', 'Male', '40', '78000', '0']\n",
      "['15666675', 'Female', '46', '96000', '0']\n",
      "['15732987', 'Male', '59', '143000', '1']\n",
      "['15789432', 'Female', '41', '80000', '0']\n",
      "['15663161', 'Male', '35', '91000', '1']\n",
      "['15694879', 'Male', '37', '144000', '1']\n",
      "['15593715', 'Male', '60', '102000', '1']\n",
      "['15575002', 'Female', '35', '60000', '0']\n",
      "['15622171', 'Male', '37', '53000', '0']\n",
      "['15795224', 'Female', '36', '126000', '1']\n",
      "['15685346', 'Male', '56', '133000', '1']\n",
      "['15691808', 'Female', '40', '72000', '0']\n",
      "['15721007', 'Female', '42', '80000', '1']\n",
      "['15794253', 'Female', '35', '147000', '1']\n",
      "['15694453', 'Male', '39', '42000', '0']\n",
      "['15813113', 'Male', '40', '107000', '1']\n",
      "['15614187', 'Male', '49', '86000', '1']\n",
      "['15619407', 'Female', '38', '112000', '0']\n",
      "['15646227', 'Male', '46', '79000', '1']\n",
      "['15660541', 'Male', '40', '57000', '0']\n",
      "['15753874', 'Female', '37', '80000', '0']\n",
      "['15617877', 'Female', '46', '82000', '0']\n",
      "['15772073', 'Female', '53', '143000', '1']\n",
      "['15701537', 'Male', '42', '149000', '1']\n",
      "['15736228', 'Male', '38', '59000', '0']\n",
      "['15780572', 'Female', '50', '88000', '1']\n",
      "['15769596', 'Female', '56', '104000', '1']\n",
      "['15586996', 'Female', '41', '72000', '0']\n",
      "['15722061', 'Female', '51', '146000', '1']\n",
      "['15638003', 'Female', '35', '50000', '0']\n",
      "['15775590', 'Female', '57', '122000', '1']\n",
      "['15730688', 'Male', '41', '52000', '0']\n",
      "['15753102', 'Female', '35', '97000', '1']\n",
      "['15810075', 'Female', '44', '39000', '0']\n",
      "['15723373', 'Male', '37', '52000', '0']\n",
      "['15795298', 'Female', '48', '134000', '1']\n",
      "['15584320', 'Female', '37', '146000', '1']\n",
      "['15724161', 'Female', '50', '44000', '0']\n",
      "['15750056', 'Female', '52', '90000', '1']\n",
      "['15609637', 'Female', '41', '72000', '0']\n",
      "['15794493', 'Male', '40', '57000', '0']\n",
      "['15569641', 'Female', '58', '95000', '1']\n",
      "['15815236', 'Female', '45', '131000', '1']\n",
      "['15811177', 'Female', '35', '77000', '0']\n",
      "['15680587', 'Male', '36', '144000', '1']\n",
      "['15672821', 'Female', '55', '125000', '1']\n",
      "['15767681', 'Female', '35', '72000', '0']\n",
      "['15600379', 'Male', '48', '90000', '1']\n",
      "['15801336', 'Female', '42', '108000', '1']\n",
      "['15721592', 'Male', '40', '75000', '0']\n",
      "['15581282', 'Male', '37', '74000', '0']\n",
      "['15746203', 'Female', '47', '144000', '1']\n",
      "['15583137', 'Male', '40', '61000', '0']\n",
      "['15680752', 'Female', '43', '133000', '0']\n",
      "['15688172', 'Female', '59', '76000', '1']\n",
      "['15791373', 'Male', '60', '42000', '1']\n",
      "['15589449', 'Male', '39', '106000', '1']\n",
      "['15692819', 'Female', '57', '26000', '1']\n",
      "['15727467', 'Male', '57', '74000', '1']\n",
      "['15734312', 'Male', '38', '71000', '0']\n",
      "['15764604', 'Male', '49', '88000', '1']\n",
      "['15613014', 'Female', '52', '38000', '1']\n",
      "['15759684', 'Female', '50', '36000', '1']\n",
      "['15609669', 'Female', '59', '88000', '1']\n",
      "['15685536', 'Male', '35', '61000', '0']\n",
      "['15750447', 'Male', '37', '70000', '1']\n",
      "['15663249', 'Female', '52', '21000', '1']\n",
      "['15638646', 'Male', '48', '141000', '0']\n",
      "['15734161', 'Female', '37', '93000', '1']\n",
      "['15631070', 'Female', '37', '62000', '0']\n",
      "['15761950', 'Female', '48', '138000', '1']\n",
      "['15649668', 'Male', '41', '79000', '0']\n",
      "['15713912', 'Female', '37', '78000', '1']\n",
      "['15586757', 'Male', '39', '134000', '1']\n",
      "['15596522', 'Male', '49', '89000', '1']\n",
      "['15625395', 'Male', '55', '39000', '1']\n",
      "['15760570', 'Male', '37', '77000', '0']\n",
      "['15566689', 'Female', '35', '57000', '0']\n",
      "['15725794', 'Female', '36', '63000', '0']\n",
      "['15673539', 'Male', '42', '73000', '1']\n",
      "['15705298', 'Female', '43', '112000', '1']\n",
      "['15675791', 'Male', '45', '79000', '0']\n",
      "['15747043', 'Male', '46', '117000', '1']\n",
      "['15736397', 'Female', '58', '38000', '1']\n",
      "['15678201', 'Male', '48', '74000', '1']\n",
      "['15720745', 'Female', '37', '137000', '1']\n",
      "['15637593', 'Male', '37', '79000', '1']\n",
      "['15598070', 'Female', '40', '60000', '0']\n",
      "['15787550', 'Male', '42', '54000', '0']\n",
      "['15603942', 'Female', '51', '134000', '0']\n",
      "['15733973', 'Female', '47', '113000', '1']\n",
      "['15596761', 'Male', '36', '125000', '1']\n",
      "['15652400', 'Female', '38', '50000', '0']\n",
      "['15717893', 'Female', '42', '70000', '0']\n",
      "['15622585', 'Male', '39', '96000', '1']\n",
      "['15733964', 'Female', '38', '50000', '0']\n",
      "['15753861', 'Female', '49', '141000', '1']\n",
      "['15747097', 'Female', '39', '79000', '0']\n",
      "['15594762', 'Female', '39', '75000', '1']\n",
      "['15667417', 'Female', '54', '104000', '1']\n",
      "['15684861', 'Male', '35', '55000', '0']\n",
      "['15742204', 'Male', '45', '32000', '1']\n",
      "['15623502', 'Male', '36', '60000', '0']\n",
      "['15774872', 'Female', '52', '138000', '1']\n",
      "['15611191', 'Female', '53', '82000', '1']\n",
      "['15674331', 'Male', '41', '52000', '0']\n",
      "['15619465', 'Female', '48', '30000', '1']\n",
      "['15575247', 'Female', '48', '131000', '1']\n",
      "['15695679', 'Female', '41', '60000', '0']\n",
      "['15713463', 'Male', '41', '72000', '0']\n",
      "['15785170', 'Female', '42', '75000', '0']\n",
      "['15796351', 'Male', '36', '118000', '1']\n",
      "['15639576', 'Female', '47', '107000', '1']\n",
      "['15693264', 'Male', '38', '51000', '0']\n",
      "['15589715', 'Female', '48', '119000', '1']\n",
      "['15769902', 'Male', '42', '65000', '0']\n",
      "['15587177', 'Male', '40', '65000', '0']\n",
      "['15814553', 'Male', '57', '60000', '1']\n",
      "['15601550', 'Female', '36', '54000', '0']\n",
      "['15664907', 'Male', '58', '144000', '1']\n",
      "['15612465', 'Male', '35', '79000', '0']\n",
      "['15810800', 'Female', '38', '55000', '0']\n",
      "['15665760', 'Male', '39', '122000', '1']\n",
      "['15588080', 'Female', '53', '104000', '1']\n",
      "['15776844', 'Male', '35', '75000', '0']\n",
      "['15717560', 'Female', '38', '65000', '0']\n",
      "['15629739', 'Female', '47', '51000', '1']\n",
      "['15729908', 'Male', '47', '105000', '1']\n",
      "['15716781', 'Female', '41', '63000', '0']\n",
      "['15646936', 'Male', '53', '72000', '1']\n",
      "['15768151', 'Female', '54', '108000', '1']\n",
      "['15579212', 'Male', '39', '77000', '0']\n",
      "['15721835', 'Male', '38', '61000', '0']\n",
      "['15800515', 'Female', '38', '113000', '1']\n",
      "['15591279', 'Male', '37', '75000', '0']\n",
      "['15587419', 'Female', '42', '90000', '1']\n",
      "['15750335', 'Female', '37', '57000', '0']\n",
      "['15699619', 'Male', '36', '99000', '1']\n",
      "['15606472', 'Male', '60', '34000', '1']\n",
      "['15778368', 'Male', '54', '70000', '1']\n",
      "['15671387', 'Female', '41', '72000', '0']\n",
      "['15573926', 'Male', '40', '71000', '1']\n",
      "['15709183', 'Male', '42', '54000', '0']\n",
      "['15577514', 'Male', '43', '129000', '1']\n",
      "['15778830', 'Female', '53', '34000', '1']\n",
      "['15768072', 'Female', '47', '50000', '1']\n",
      "['15768293', 'Female', '42', '79000', '0']\n",
      "['15654456', 'Male', '42', '104000', '1']\n",
      "['15807525', 'Female', '59', '29000', '1']\n",
      "['15574372', 'Female', '58', '47000', '1']\n",
      "['15671249', 'Male', '46', '88000', '1']\n",
      "['15779744', 'Male', '38', '71000', '0']\n",
      "['15624755', 'Female', '54', '26000', '1']\n",
      "['15611430', 'Female', '60', '46000', '1']\n",
      "['15774744', 'Male', '60', '83000', '1']\n",
      "['15629885', 'Female', '39', '73000', '0']\n",
      "['15708791', 'Male', '59', '130000', '1']\n",
      "['15793890', 'Female', '37', '80000', '0']\n",
      "['15646091', 'Female', '46', '32000', '1']\n",
      "['15596984', 'Female', '46', '74000', '0']\n",
      "['15800215', 'Female', '42', '53000', '0']\n",
      "['15577806', 'Male', '41', '87000', '1']\n",
      "['15749381', 'Female', '58', '23000', '1']\n",
      "['15683758', 'Male', '42', '64000', '0']\n",
      "['15670615', 'Male', '48', '33000', '1']\n",
      "['15715622', 'Female', '44', '139000', '1']\n",
      "['15707634', 'Male', '49', '28000', '1']\n",
      "['15806901', 'Female', '57', '33000', '1']\n",
      "['15775335', 'Male', '56', '60000', '1']\n",
      "['15724150', 'Female', '49', '39000', '1']\n",
      "['15627220', 'Male', '39', '71000', '0']\n",
      "['15672330', 'Male', '47', '34000', '1']\n",
      "['15668521', 'Female', '48', '35000', '1']\n",
      "['15807837', 'Male', '48', '33000', '1']\n",
      "['15592570', 'Male', '47', '23000', '1']\n",
      "['15748589', 'Female', '45', '45000', '1']\n",
      "['15635893', 'Male', '60', '42000', '1']\n",
      "['15757632', 'Female', '39', '59000', '0']\n",
      "['15691863', 'Female', '46', '41000', '1']\n",
      "['15706071', 'Male', '51', '23000', '1']\n",
      "['15654296', 'Female', '50', '20000', '1']\n",
      "['15755018', 'Male', '36', '33000', '0']\n",
      "['15594041', 'Female', '49', '36000', '1']\n"
     ]
    }
   ],
   "source": [
    "import csv\n",
    "\n",
    "with open(r\"C:\\Users\\Nandini Sharma\\Desktop\\data science\\User_Data.csv\") as f:\n",
    "    csv_reader =csv.reader(f)\n",
    "    for line in csv_reader:\n",
    "        print(line)"
   ]
  },
  {
   "cell_type": "code",
   "execution_count": 29,
   "id": "8565ba81",
   "metadata": {},
   "outputs": [
    {
     "name": "stdout",
     "output_type": "stream",
     "text": [
      "User ID\n",
      "15624510\n",
      "15810944\n",
      "15668575\n",
      "15603246\n",
      "15804002\n",
      "15728773\n",
      "15598044\n",
      "15694829\n",
      "15600575\n",
      "15727311\n",
      "15570769\n",
      "15606274\n",
      "15746139\n",
      "15704987\n",
      "15628972\n",
      "15697686\n",
      "15733883\n",
      "15617482\n",
      "15704583\n",
      "15621083\n",
      "15649487\n",
      "15736760\n",
      "15714658\n",
      "15599081\n",
      "15705113\n",
      "15631159\n",
      "15792818\n",
      "15633531\n",
      "15744529\n",
      "15669656\n",
      "15581198\n",
      "15729054\n",
      "15573452\n",
      "15776733\n",
      "15724858\n",
      "15713144\n",
      "15690188\n",
      "15689425\n",
      "15671766\n",
      "15782806\n",
      "15764419\n",
      "15591915\n",
      "15772798\n",
      "15792008\n",
      "15715541\n",
      "15639277\n",
      "15798850\n",
      "15776348\n",
      "15727696\n",
      "15793813\n",
      "15694395\n",
      "15764195\n",
      "15744919\n",
      "15671655\n",
      "15654901\n",
      "15649136\n",
      "15775562\n",
      "15807481\n",
      "15642885\n",
      "15789109\n",
      "15814004\n",
      "15673619\n",
      "15595135\n",
      "15583681\n",
      "15605000\n",
      "15718071\n",
      "15679760\n",
      "15654574\n",
      "15577178\n",
      "15595324\n",
      "15756932\n",
      "15726358\n",
      "15595228\n",
      "15782530\n",
      "15592877\n",
      "15651983\n",
      "15746737\n",
      "15774179\n",
      "15667265\n",
      "15655123\n",
      "15595917\n",
      "15668385\n",
      "15709476\n",
      "15711218\n",
      "15798659\n",
      "15663939\n",
      "15694946\n",
      "15631912\n",
      "15768816\n",
      "15682268\n",
      "15684801\n",
      "15636428\n",
      "15809823\n",
      "15699284\n",
      "15786993\n",
      "15709441\n",
      "15710257\n",
      "15582492\n",
      "15575694\n",
      "15756820\n",
      "15766289\n",
      "15593014\n",
      "15584545\n",
      "15675949\n",
      "15672091\n",
      "15801658\n",
      "15706185\n",
      "15789863\n",
      "15720943\n",
      "15697997\n",
      "15665416\n",
      "15660200\n",
      "15619653\n",
      "15773447\n",
      "15739160\n",
      "15689237\n",
      "15679297\n",
      "15591433\n",
      "15642725\n",
      "15701962\n",
      "15811613\n",
      "15741049\n",
      "15724423\n",
      "15574305\n",
      "15678168\n",
      "15697020\n",
      "15610801\n",
      "15745232\n",
      "15722758\n",
      "15792102\n",
      "15675185\n",
      "15801247\n",
      "15725660\n",
      "15638963\n",
      "15800061\n",
      "15578006\n",
      "15668504\n",
      "15687491\n",
      "15610403\n",
      "15741094\n",
      "15807909\n",
      "15666141\n",
      "15617134\n",
      "15783029\n",
      "15622833\n",
      "15746422\n",
      "15750839\n",
      "15749130\n",
      "15779862\n",
      "15767871\n",
      "15679651\n",
      "15576219\n",
      "15699247\n",
      "15619087\n",
      "15605327\n",
      "15610140\n",
      "15791174\n",
      "15602373\n",
      "15762605\n",
      "15598840\n",
      "15744279\n",
      "15670619\n",
      "15599533\n",
      "15757837\n",
      "15697574\n",
      "15578738\n",
      "15762228\n",
      "15614827\n",
      "15789815\n",
      "15579781\n",
      "15587013\n",
      "15570932\n",
      "15794661\n",
      "15581654\n",
      "15644296\n",
      "15614420\n",
      "15609653\n",
      "15594577\n",
      "15584114\n",
      "15673367\n",
      "15685576\n",
      "15774727\n",
      "15694288\n",
      "15603319\n",
      "15759066\n",
      "15814816\n",
      "15724402\n",
      "15571059\n",
      "15674206\n",
      "15715160\n",
      "15730448\n",
      "15662067\n",
      "15779581\n",
      "15662901\n",
      "15689751\n",
      "15667742\n",
      "15738448\n",
      "15680243\n",
      "15745083\n",
      "15708228\n",
      "15628523\n",
      "15708196\n",
      "15735549\n",
      "15809347\n",
      "15660866\n",
      "15766609\n",
      "15654230\n",
      "15794566\n",
      "15800890\n",
      "15697424\n",
      "15724536\n",
      "15735878\n",
      "15707596\n",
      "15657163\n",
      "15622478\n",
      "15779529\n",
      "15636023\n",
      "15582066\n",
      "15666675\n",
      "15732987\n",
      "15789432\n",
      "15663161\n",
      "15694879\n",
      "15593715\n",
      "15575002\n",
      "15622171\n",
      "15795224\n",
      "15685346\n",
      "15691808\n",
      "15721007\n",
      "15794253\n",
      "15694453\n",
      "15813113\n",
      "15614187\n",
      "15619407\n",
      "15646227\n",
      "15660541\n",
      "15753874\n",
      "15617877\n",
      "15772073\n",
      "15701537\n",
      "15736228\n",
      "15780572\n",
      "15769596\n",
      "15586996\n",
      "15722061\n",
      "15638003\n",
      "15775590\n",
      "15730688\n",
      "15753102\n",
      "15810075\n",
      "15723373\n",
      "15795298\n",
      "15584320\n",
      "15724161\n",
      "15750056\n",
      "15609637\n",
      "15794493\n",
      "15569641\n",
      "15815236\n",
      "15811177\n",
      "15680587\n",
      "15672821\n",
      "15767681\n",
      "15600379\n",
      "15801336\n",
      "15721592\n",
      "15581282\n",
      "15746203\n",
      "15583137\n",
      "15680752\n",
      "15688172\n",
      "15791373\n",
      "15589449\n",
      "15692819\n",
      "15727467\n",
      "15734312\n",
      "15764604\n",
      "15613014\n",
      "15759684\n",
      "15609669\n",
      "15685536\n",
      "15750447\n",
      "15663249\n",
      "15638646\n",
      "15734161\n",
      "15631070\n",
      "15761950\n",
      "15649668\n",
      "15713912\n",
      "15586757\n",
      "15596522\n",
      "15625395\n",
      "15760570\n",
      "15566689\n",
      "15725794\n",
      "15673539\n",
      "15705298\n",
      "15675791\n",
      "15747043\n",
      "15736397\n",
      "15678201\n",
      "15720745\n",
      "15637593\n",
      "15598070\n",
      "15787550\n",
      "15603942\n",
      "15733973\n",
      "15596761\n",
      "15652400\n",
      "15717893\n",
      "15622585\n",
      "15733964\n",
      "15753861\n",
      "15747097\n",
      "15594762\n",
      "15667417\n",
      "15684861\n",
      "15742204\n",
      "15623502\n",
      "15774872\n",
      "15611191\n",
      "15674331\n",
      "15619465\n",
      "15575247\n",
      "15695679\n",
      "15713463\n",
      "15785170\n",
      "15796351\n",
      "15639576\n",
      "15693264\n",
      "15589715\n",
      "15769902\n",
      "15587177\n",
      "15814553\n",
      "15601550\n",
      "15664907\n",
      "15612465\n",
      "15810800\n",
      "15665760\n",
      "15588080\n",
      "15776844\n",
      "15717560\n",
      "15629739\n",
      "15729908\n",
      "15716781\n",
      "15646936\n",
      "15768151\n",
      "15579212\n",
      "15721835\n",
      "15800515\n",
      "15591279\n",
      "15587419\n",
      "15750335\n",
      "15699619\n",
      "15606472\n",
      "15778368\n",
      "15671387\n",
      "15573926\n",
      "15709183\n",
      "15577514\n",
      "15778830\n",
      "15768072\n",
      "15768293\n",
      "15654456\n",
      "15807525\n",
      "15574372\n",
      "15671249\n",
      "15779744\n",
      "15624755\n",
      "15611430\n",
      "15774744\n",
      "15629885\n",
      "15708791\n",
      "15793890\n",
      "15646091\n",
      "15596984\n",
      "15800215\n",
      "15577806\n",
      "15749381\n",
      "15683758\n",
      "15670615\n",
      "15715622\n",
      "15707634\n",
      "15806901\n",
      "15775335\n",
      "15724150\n",
      "15627220\n",
      "15672330\n",
      "15668521\n",
      "15807837\n",
      "15592570\n",
      "15748589\n",
      "15635893\n",
      "15757632\n",
      "15691863\n",
      "15706071\n",
      "15654296\n",
      "15755018\n",
      "15594041\n"
     ]
    }
   ],
   "source": [
    "import csv\n",
    "\n",
    "with open(r\"C:\\Users\\Nandini Sharma\\Desktop\\data science\\User_Data.csv\") as f:\n",
    "    csv_reader =csv.reader(f)\n",
    "    for line in csv_reader:\n",
    "        print(line[0])"
   ]
  },
  {
   "cell_type": "code",
   "execution_count": 30,
   "id": "222843b4",
   "metadata": {},
   "outputs": [
    {
     "name": "stdout",
     "output_type": "stream",
     "text": [
      "Gender\n",
      "Male\n",
      "Male\n",
      "Female\n",
      "Female\n",
      "Male\n",
      "Male\n",
      "Female\n",
      "Female\n",
      "Male\n",
      "Female\n",
      "Female\n",
      "Female\n",
      "Male\n",
      "Male\n",
      "Male\n",
      "Male\n",
      "Male\n",
      "Male\n",
      "Male\n",
      "Female\n",
      "Male\n",
      "Female\n",
      "Male\n",
      "Female\n",
      "Male\n",
      "Male\n",
      "Male\n",
      "Female\n",
      "Male\n",
      "Male\n",
      "Male\n",
      "Female\n",
      "Female\n",
      "Female\n",
      "Male\n",
      "Male\n",
      "Female\n",
      "Male\n",
      "Female\n",
      "Female\n",
      "Female\n",
      "Female\n",
      "Male\n",
      "Male\n",
      "Female\n",
      "Male\n",
      "Male\n",
      "Female\n",
      "Male\n",
      "Female\n",
      "Female\n",
      "Female\n",
      "Female\n",
      "Female\n",
      "Female\n",
      "Female\n",
      "Female\n",
      "Male\n",
      "Male\n",
      "Female\n",
      "Male\n",
      "Male\n",
      "Female\n",
      "Male\n",
      "Female\n",
      "Male\n",
      "Male\n",
      "Female\n",
      "Female\n",
      "Female\n",
      "Male\n",
      "Female\n",
      "Female\n",
      "Female\n",
      "Male\n",
      "Male\n",
      "Male\n",
      "Female\n",
      "Female\n",
      "Female\n",
      "Male\n",
      "Male\n",
      "Male\n",
      "Male\n",
      "Female\n",
      "Female\n",
      "Male\n",
      "Female\n",
      "Male\n",
      "Male\n",
      "Male\n",
      "Female\n",
      "Male\n",
      "Female\n",
      "Female\n",
      "Female\n",
      "Female\n",
      "Male\n",
      "Male\n",
      "Female\n",
      "Male\n",
      "Male\n",
      "Female\n",
      "Female\n",
      "Female\n",
      "Male\n",
      "Female\n",
      "Male\n",
      "Male\n",
      "Female\n",
      "Female\n",
      "Female\n",
      "Male\n",
      "Male\n",
      "Male\n",
      "Male\n",
      "Male\n",
      "Male\n",
      "Male\n",
      "Male\n",
      "Female\n",
      "Male\n",
      "Female\n",
      "Male\n",
      "Female\n",
      "Female\n",
      "Male\n",
      "Male\n",
      "Male\n",
      "Female\n",
      "Male\n",
      "Male\n",
      "Male\n",
      "Female\n",
      "Female\n",
      "Male\n",
      "Female\n",
      "Male\n",
      "Female\n",
      "Male\n",
      "Male\n",
      "Female\n",
      "Male\n",
      "Male\n",
      "Female\n",
      "Female\n",
      "Female\n",
      "Female\n",
      "Male\n",
      "Male\n",
      "Female\n",
      "Male\n",
      "Male\n",
      "Female\n",
      "Male\n",
      "Female\n",
      "Male\n",
      "Male\n",
      "Male\n",
      "Female\n",
      "Male\n",
      "Male\n",
      "Female\n",
      "Male\n",
      "Female\n",
      "Female\n",
      "Female\n",
      "Female\n",
      "Male\n",
      "Female\n",
      "Male\n",
      "Male\n",
      "Female\n",
      "Female\n",
      "Female\n",
      "Female\n",
      "Female\n",
      "Male\n",
      "Male\n",
      "Female\n",
      "Male\n",
      "Female\n",
      "Female\n",
      "Male\n",
      "Female\n",
      "Male\n",
      "Female\n",
      "Female\n",
      "Male\n",
      "Male\n",
      "Male\n",
      "Female\n",
      "Male\n",
      "Male\n",
      "Male\n",
      "Male\n",
      "Female\n",
      "Female\n",
      "Male\n",
      "Male\n",
      "Male\n",
      "Male\n",
      "Female\n",
      "Female\n",
      "Female\n",
      "Female\n",
      "Female\n",
      "Female\n",
      "Female\n",
      "Female\n",
      "Female\n",
      "Male\n",
      "Female\n",
      "Male\n",
      "Male\n",
      "Female\n",
      "Male\n",
      "Male\n",
      "Female\n",
      "Male\n",
      "Female\n",
      "Male\n",
      "Male\n",
      "Male\n",
      "Female\n",
      "Male\n",
      "Female\n",
      "Male\n",
      "Female\n",
      "Female\n",
      "Female\n",
      "Male\n",
      "Male\n",
      "Male\n",
      "Female\n",
      "Male\n",
      "Male\n",
      "Female\n",
      "Female\n",
      "Female\n",
      "Male\n",
      "Male\n",
      "Female\n",
      "Female\n",
      "Female\n",
      "Female\n",
      "Female\n",
      "Female\n",
      "Male\n",
      "Female\n",
      "Female\n",
      "Male\n",
      "Female\n",
      "Female\n",
      "Female\n",
      "Female\n",
      "Female\n",
      "Male\n",
      "Female\n",
      "Female\n",
      "Female\n",
      "Male\n",
      "Female\n",
      "Female\n",
      "Male\n",
      "Female\n",
      "Male\n",
      "Male\n",
      "Female\n",
      "Male\n",
      "Female\n",
      "Female\n",
      "Male\n",
      "Male\n",
      "Female\n",
      "Male\n",
      "Male\n",
      "Male\n",
      "Female\n",
      "Female\n",
      "Female\n",
      "Male\n",
      "Male\n",
      "Female\n",
      "Male\n",
      "Female\n",
      "Female\n",
      "Female\n",
      "Male\n",
      "Female\n",
      "Male\n",
      "Male\n",
      "Male\n",
      "Male\n",
      "Female\n",
      "Female\n",
      "Male\n",
      "Female\n",
      "Male\n",
      "Male\n",
      "Female\n",
      "Male\n",
      "Female\n",
      "Male\n",
      "Female\n",
      "Male\n",
      "Female\n",
      "Female\n",
      "Male\n",
      "Female\n",
      "Female\n",
      "Male\n",
      "Female\n",
      "Female\n",
      "Female\n",
      "Female\n",
      "Female\n",
      "Male\n",
      "Male\n",
      "Male\n",
      "Female\n",
      "Female\n",
      "Male\n",
      "Female\n",
      "Female\n",
      "Female\n",
      "Male\n",
      "Female\n",
      "Male\n",
      "Female\n",
      "Male\n",
      "Female\n",
      "Male\n",
      "Male\n",
      "Male\n",
      "Female\n",
      "Male\n",
      "Male\n",
      "Female\n",
      "Male\n",
      "Female\n",
      "Male\n",
      "Female\n",
      "Female\n",
      "Male\n",
      "Female\n",
      "Male\n",
      "Female\n",
      "Male\n",
      "Male\n",
      "Female\n",
      "Male\n",
      "Female\n",
      "Female\n",
      "Male\n",
      "Male\n",
      "Male\n",
      "Female\n",
      "Male\n",
      "Male\n",
      "Male\n",
      "Female\n",
      "Female\n",
      "Female\n",
      "Male\n",
      "Female\n",
      "Female\n",
      "Male\n",
      "Male\n",
      "Female\n",
      "Female\n",
      "Male\n",
      "Female\n",
      "Male\n",
      "Female\n",
      "Female\n",
      "Female\n",
      "Female\n",
      "Male\n",
      "Female\n",
      "Male\n",
      "Male\n",
      "Female\n",
      "Male\n",
      "Female\n",
      "Male\n",
      "Female\n",
      "Male\n",
      "Male\n",
      "Female\n",
      "Male\n",
      "Male\n",
      "Female\n",
      "Male\n",
      "Female\n",
      "Female\n",
      "Male\n",
      "Female\n",
      "Male\n",
      "Female\n"
     ]
    }
   ],
   "source": [
    "import csv\n",
    "\n",
    "with open(r\"C:\\Users\\Nandini Sharma\\Desktop\\data science\\User_Data.csv\") as f:\n",
    "    csv_reader =csv.reader(f)\n",
    "    for line in csv_reader:\n",
    "        print(line[1])"
   ]
  },
  {
   "cell_type": "code",
   "execution_count": 31,
   "id": "38d87e05",
   "metadata": {},
   "outputs": [
    {
     "name": "stdout",
     "output_type": "stream",
     "text": [
      "Age\n",
      "19\n",
      "35\n",
      "26\n",
      "27\n",
      "19\n",
      "27\n",
      "27\n",
      "32\n",
      "25\n",
      "35\n",
      "26\n",
      "26\n",
      "20\n",
      "32\n",
      "18\n",
      "29\n",
      "47\n",
      "45\n",
      "46\n",
      "48\n",
      "45\n",
      "47\n",
      "48\n",
      "45\n",
      "46\n",
      "47\n",
      "49\n",
      "47\n",
      "29\n",
      "31\n",
      "31\n",
      "27\n",
      "21\n",
      "28\n",
      "27\n",
      "35\n",
      "33\n",
      "30\n",
      "26\n",
      "27\n",
      "27\n",
      "33\n",
      "35\n",
      "30\n",
      "28\n",
      "23\n",
      "25\n",
      "27\n",
      "30\n",
      "31\n",
      "24\n",
      "18\n",
      "29\n",
      "35\n",
      "27\n",
      "24\n",
      "23\n",
      "28\n",
      "22\n",
      "32\n",
      "27\n",
      "25\n",
      "23\n",
      "32\n",
      "59\n",
      "24\n",
      "24\n",
      "23\n",
      "22\n",
      "31\n",
      "25\n",
      "24\n",
      "20\n",
      "33\n",
      "32\n",
      "34\n",
      "18\n",
      "22\n",
      "28\n",
      "26\n",
      "30\n",
      "39\n",
      "20\n",
      "35\n",
      "30\n",
      "31\n",
      "24\n",
      "28\n",
      "26\n",
      "35\n",
      "22\n",
      "30\n",
      "26\n",
      "29\n",
      "29\n",
      "35\n",
      "35\n",
      "28\n",
      "35\n",
      "28\n",
      "27\n",
      "28\n",
      "32\n",
      "33\n",
      "19\n",
      "21\n",
      "26\n",
      "27\n",
      "26\n",
      "38\n",
      "39\n",
      "37\n",
      "38\n",
      "37\n",
      "42\n",
      "40\n",
      "35\n",
      "36\n",
      "40\n",
      "41\n",
      "36\n",
      "37\n",
      "40\n",
      "35\n",
      "41\n",
      "39\n",
      "42\n",
      "26\n",
      "30\n",
      "26\n",
      "31\n",
      "33\n",
      "30\n",
      "21\n",
      "28\n",
      "23\n",
      "20\n",
      "30\n",
      "28\n",
      "19\n",
      "19\n",
      "18\n",
      "35\n",
      "30\n",
      "34\n",
      "24\n",
      "27\n",
      "41\n",
      "29\n",
      "20\n",
      "26\n",
      "41\n",
      "31\n",
      "36\n",
      "40\n",
      "31\n",
      "46\n",
      "29\n",
      "26\n",
      "32\n",
      "32\n",
      "25\n",
      "37\n",
      "35\n",
      "33\n",
      "18\n",
      "22\n",
      "35\n",
      "29\n",
      "29\n",
      "21\n",
      "34\n",
      "26\n",
      "34\n",
      "34\n",
      "23\n",
      "35\n",
      "25\n",
      "24\n",
      "31\n",
      "26\n",
      "31\n",
      "32\n",
      "33\n",
      "33\n",
      "31\n",
      "20\n",
      "33\n",
      "35\n",
      "28\n",
      "24\n",
      "19\n",
      "29\n",
      "19\n",
      "28\n",
      "34\n",
      "30\n",
      "20\n",
      "26\n",
      "35\n",
      "35\n",
      "49\n",
      "39\n",
      "41\n",
      "58\n",
      "47\n",
      "55\n",
      "52\n",
      "40\n",
      "46\n",
      "48\n",
      "52\n",
      "59\n",
      "35\n",
      "47\n",
      "60\n",
      "49\n",
      "40\n",
      "46\n",
      "59\n",
      "41\n",
      "35\n",
      "37\n",
      "60\n",
      "35\n",
      "37\n",
      "36\n",
      "56\n",
      "40\n",
      "42\n",
      "35\n",
      "39\n",
      "40\n",
      "49\n",
      "38\n",
      "46\n",
      "40\n",
      "37\n",
      "46\n",
      "53\n",
      "42\n",
      "38\n",
      "50\n",
      "56\n",
      "41\n",
      "51\n",
      "35\n",
      "57\n",
      "41\n",
      "35\n",
      "44\n",
      "37\n",
      "48\n",
      "37\n",
      "50\n",
      "52\n",
      "41\n",
      "40\n",
      "58\n",
      "45\n",
      "35\n",
      "36\n",
      "55\n",
      "35\n",
      "48\n",
      "42\n",
      "40\n",
      "37\n",
      "47\n",
      "40\n",
      "43\n",
      "59\n",
      "60\n",
      "39\n",
      "57\n",
      "57\n",
      "38\n",
      "49\n",
      "52\n",
      "50\n",
      "59\n",
      "35\n",
      "37\n",
      "52\n",
      "48\n",
      "37\n",
      "37\n",
      "48\n",
      "41\n",
      "37\n",
      "39\n",
      "49\n",
      "55\n",
      "37\n",
      "35\n",
      "36\n",
      "42\n",
      "43\n",
      "45\n",
      "46\n",
      "58\n",
      "48\n",
      "37\n",
      "37\n",
      "40\n",
      "42\n",
      "51\n",
      "47\n",
      "36\n",
      "38\n",
      "42\n",
      "39\n",
      "38\n",
      "49\n",
      "39\n",
      "39\n",
      "54\n",
      "35\n",
      "45\n",
      "36\n",
      "52\n",
      "53\n",
      "41\n",
      "48\n",
      "48\n",
      "41\n",
      "41\n",
      "42\n",
      "36\n",
      "47\n",
      "38\n",
      "48\n",
      "42\n",
      "40\n",
      "57\n",
      "36\n",
      "58\n",
      "35\n",
      "38\n",
      "39\n",
      "53\n",
      "35\n",
      "38\n",
      "47\n",
      "47\n",
      "41\n",
      "53\n",
      "54\n",
      "39\n",
      "38\n",
      "38\n",
      "37\n",
      "42\n",
      "37\n",
      "36\n",
      "60\n",
      "54\n",
      "41\n",
      "40\n",
      "42\n",
      "43\n",
      "53\n",
      "47\n",
      "42\n",
      "42\n",
      "59\n",
      "58\n",
      "46\n",
      "38\n",
      "54\n",
      "60\n",
      "60\n",
      "39\n",
      "59\n",
      "37\n",
      "46\n",
      "46\n",
      "42\n",
      "41\n",
      "58\n",
      "42\n",
      "48\n",
      "44\n",
      "49\n",
      "57\n",
      "56\n",
      "49\n",
      "39\n",
      "47\n",
      "48\n",
      "48\n",
      "47\n",
      "45\n",
      "60\n",
      "39\n",
      "46\n",
      "51\n",
      "50\n",
      "36\n",
      "49\n"
     ]
    }
   ],
   "source": [
    "import csv\n",
    "\n",
    "with open(r\"C:\\Users\\Nandini Sharma\\Desktop\\data science\\User_Data.csv\") as f:\n",
    "    csv_reader =csv.reader(f)\n",
    "    for line in csv_reader:\n",
    "        print(line[2])"
   ]
  },
  {
   "cell_type": "code",
   "execution_count": 32,
   "id": "b8b3272a",
   "metadata": {},
   "outputs": [
    {
     "name": "stdout",
     "output_type": "stream",
     "text": [
      "EstimatedSalary\n",
      "19000\n",
      "20000\n",
      "43000\n",
      "57000\n",
      "76000\n",
      "58000\n",
      "84000\n",
      "150000\n",
      "33000\n",
      "65000\n",
      "80000\n",
      "52000\n",
      "86000\n",
      "18000\n",
      "82000\n",
      "80000\n",
      "25000\n",
      "26000\n",
      "28000\n",
      "29000\n",
      "22000\n",
      "49000\n",
      "41000\n",
      "22000\n",
      "23000\n",
      "20000\n",
      "28000\n",
      "30000\n",
      "43000\n",
      "18000\n",
      "74000\n",
      "137000\n",
      "16000\n",
      "44000\n",
      "90000\n",
      "27000\n",
      "28000\n",
      "49000\n",
      "72000\n",
      "31000\n",
      "17000\n",
      "51000\n",
      "108000\n",
      "15000\n",
      "84000\n",
      "20000\n",
      "79000\n",
      "54000\n",
      "135000\n",
      "89000\n",
      "32000\n",
      "44000\n",
      "83000\n",
      "23000\n",
      "58000\n",
      "55000\n",
      "48000\n",
      "79000\n",
      "18000\n",
      "117000\n",
      "20000\n",
      "87000\n",
      "66000\n",
      "120000\n",
      "83000\n",
      "58000\n",
      "19000\n",
      "82000\n",
      "63000\n",
      "68000\n",
      "80000\n",
      "27000\n",
      "23000\n",
      "113000\n",
      "18000\n",
      "112000\n",
      "52000\n",
      "27000\n",
      "87000\n",
      "17000\n",
      "80000\n",
      "42000\n",
      "49000\n",
      "88000\n",
      "62000\n",
      "118000\n",
      "55000\n",
      "85000\n",
      "81000\n",
      "50000\n",
      "81000\n",
      "116000\n",
      "15000\n",
      "28000\n",
      "83000\n",
      "44000\n",
      "25000\n",
      "123000\n",
      "73000\n",
      "37000\n",
      "88000\n",
      "59000\n",
      "86000\n",
      "149000\n",
      "21000\n",
      "72000\n",
      "35000\n",
      "89000\n",
      "86000\n",
      "80000\n",
      "71000\n",
      "71000\n",
      "61000\n",
      "55000\n",
      "80000\n",
      "57000\n",
      "75000\n",
      "52000\n",
      "59000\n",
      "59000\n",
      "75000\n",
      "72000\n",
      "75000\n",
      "53000\n",
      "51000\n",
      "61000\n",
      "65000\n",
      "32000\n",
      "17000\n",
      "84000\n",
      "58000\n",
      "31000\n",
      "87000\n",
      "68000\n",
      "55000\n",
      "63000\n",
      "82000\n",
      "107000\n",
      "59000\n",
      "25000\n",
      "85000\n",
      "68000\n",
      "59000\n",
      "89000\n",
      "25000\n",
      "89000\n",
      "96000\n",
      "30000\n",
      "61000\n",
      "74000\n",
      "15000\n",
      "45000\n",
      "76000\n",
      "50000\n",
      "47000\n",
      "15000\n",
      "59000\n",
      "75000\n",
      "30000\n",
      "135000\n",
      "100000\n",
      "90000\n",
      "33000\n",
      "38000\n",
      "69000\n",
      "86000\n",
      "55000\n",
      "71000\n",
      "148000\n",
      "47000\n",
      "88000\n",
      "115000\n",
      "118000\n",
      "43000\n",
      "72000\n",
      "28000\n",
      "47000\n",
      "22000\n",
      "23000\n",
      "34000\n",
      "16000\n",
      "71000\n",
      "117000\n",
      "43000\n",
      "60000\n",
      "66000\n",
      "82000\n",
      "41000\n",
      "72000\n",
      "32000\n",
      "84000\n",
      "26000\n",
      "43000\n",
      "70000\n",
      "89000\n",
      "43000\n",
      "79000\n",
      "36000\n",
      "80000\n",
      "22000\n",
      "39000\n",
      "74000\n",
      "134000\n",
      "71000\n",
      "101000\n",
      "47000\n",
      "130000\n",
      "114000\n",
      "142000\n",
      "22000\n",
      "96000\n",
      "150000\n",
      "42000\n",
      "58000\n",
      "43000\n",
      "108000\n",
      "65000\n",
      "78000\n",
      "96000\n",
      "143000\n",
      "80000\n",
      "91000\n",
      "144000\n",
      "102000\n",
      "60000\n",
      "53000\n",
      "126000\n",
      "133000\n",
      "72000\n",
      "80000\n",
      "147000\n",
      "42000\n",
      "107000\n",
      "86000\n",
      "112000\n",
      "79000\n",
      "57000\n",
      "80000\n",
      "82000\n",
      "143000\n",
      "149000\n",
      "59000\n",
      "88000\n",
      "104000\n",
      "72000\n",
      "146000\n",
      "50000\n",
      "122000\n",
      "52000\n",
      "97000\n",
      "39000\n",
      "52000\n",
      "134000\n",
      "146000\n",
      "44000\n",
      "90000\n",
      "72000\n",
      "57000\n",
      "95000\n",
      "131000\n",
      "77000\n",
      "144000\n",
      "125000\n",
      "72000\n",
      "90000\n",
      "108000\n",
      "75000\n",
      "74000\n",
      "144000\n",
      "61000\n",
      "133000\n",
      "76000\n",
      "42000\n",
      "106000\n",
      "26000\n",
      "74000\n",
      "71000\n",
      "88000\n",
      "38000\n",
      "36000\n",
      "88000\n",
      "61000\n",
      "70000\n",
      "21000\n",
      "141000\n",
      "93000\n",
      "62000\n",
      "138000\n",
      "79000\n",
      "78000\n",
      "134000\n",
      "89000\n",
      "39000\n",
      "77000\n",
      "57000\n",
      "63000\n",
      "73000\n",
      "112000\n",
      "79000\n",
      "117000\n",
      "38000\n",
      "74000\n",
      "137000\n",
      "79000\n",
      "60000\n",
      "54000\n",
      "134000\n",
      "113000\n",
      "125000\n",
      "50000\n",
      "70000\n",
      "96000\n",
      "50000\n",
      "141000\n",
      "79000\n",
      "75000\n",
      "104000\n",
      "55000\n",
      "32000\n",
      "60000\n",
      "138000\n",
      "82000\n",
      "52000\n",
      "30000\n",
      "131000\n",
      "60000\n",
      "72000\n",
      "75000\n",
      "118000\n",
      "107000\n",
      "51000\n",
      "119000\n",
      "65000\n",
      "65000\n",
      "60000\n",
      "54000\n",
      "144000\n",
      "79000\n",
      "55000\n",
      "122000\n",
      "104000\n",
      "75000\n",
      "65000\n",
      "51000\n",
      "105000\n",
      "63000\n",
      "72000\n",
      "108000\n",
      "77000\n",
      "61000\n",
      "113000\n",
      "75000\n",
      "90000\n",
      "57000\n",
      "99000\n",
      "34000\n",
      "70000\n",
      "72000\n",
      "71000\n",
      "54000\n",
      "129000\n",
      "34000\n",
      "50000\n",
      "79000\n",
      "104000\n",
      "29000\n",
      "47000\n",
      "88000\n",
      "71000\n",
      "26000\n",
      "46000\n",
      "83000\n",
      "73000\n",
      "130000\n",
      "80000\n",
      "32000\n",
      "74000\n",
      "53000\n",
      "87000\n",
      "23000\n",
      "64000\n",
      "33000\n",
      "139000\n",
      "28000\n",
      "33000\n",
      "60000\n",
      "39000\n",
      "71000\n",
      "34000\n",
      "35000\n",
      "33000\n",
      "23000\n",
      "45000\n",
      "42000\n",
      "59000\n",
      "41000\n",
      "23000\n",
      "20000\n",
      "33000\n",
      "36000\n"
     ]
    }
   ],
   "source": [
    "import csv\n",
    "\n",
    "with open(r\"C:\\Users\\Nandini Sharma\\Desktop\\data science\\User_Data.csv\") as f:\n",
    "    csv_reader =csv.reader(f)\n",
    "    for line in csv_reader:\n",
    "        print(line[3])"
   ]
  },
  {
   "cell_type": "code",
   "execution_count": 33,
   "id": "0d085979",
   "metadata": {},
   "outputs": [
    {
     "name": "stdout",
     "output_type": "stream",
     "text": [
      "Purchased\n",
      "0\n",
      "0\n",
      "0\n",
      "0\n",
      "0\n",
      "0\n",
      "0\n",
      "1\n",
      "0\n",
      "0\n",
      "0\n",
      "0\n",
      "0\n",
      "0\n",
      "0\n",
      "0\n",
      "1\n",
      "1\n",
      "1\n",
      "1\n",
      "1\n",
      "1\n",
      "1\n",
      "1\n",
      "1\n",
      "1\n",
      "1\n",
      "1\n",
      "0\n",
      "0\n",
      "0\n",
      "1\n",
      "0\n",
      "0\n",
      "0\n",
      "0\n",
      "0\n",
      "0\n",
      "0\n",
      "0\n",
      "0\n",
      "0\n",
      "0\n",
      "0\n",
      "0\n",
      "0\n",
      "0\n",
      "0\n",
      "1\n",
      "0\n",
      "0\n",
      "0\n",
      "0\n",
      "0\n",
      "0\n",
      "0\n",
      "0\n",
      "0\n",
      "0\n",
      "0\n",
      "0\n",
      "0\n",
      "0\n",
      "1\n",
      "0\n",
      "0\n",
      "0\n",
      "0\n",
      "0\n",
      "0\n",
      "0\n",
      "0\n",
      "0\n",
      "0\n",
      "0\n",
      "1\n",
      "0\n",
      "0\n",
      "0\n",
      "0\n",
      "0\n",
      "0\n",
      "0\n",
      "0\n",
      "0\n",
      "1\n",
      "0\n",
      "0\n",
      "0\n",
      "0\n",
      "0\n",
      "0\n",
      "0\n",
      "0\n",
      "0\n",
      "0\n",
      "0\n",
      "1\n",
      "0\n",
      "0\n",
      "0\n",
      "0\n",
      "0\n",
      "1\n",
      "0\n",
      "0\n",
      "0\n",
      "0\n",
      "0\n",
      "0\n",
      "0\n",
      "0\n",
      "0\n",
      "0\n",
      "0\n",
      "0\n",
      "0\n",
      "0\n",
      "0\n",
      "0\n",
      "0\n",
      "0\n",
      "0\n",
      "0\n",
      "0\n",
      "0\n",
      "0\n",
      "0\n",
      "0\n",
      "0\n",
      "0\n",
      "0\n",
      "0\n",
      "0\n",
      "0\n",
      "0\n",
      "0\n",
      "1\n",
      "0\n",
      "0\n",
      "0\n",
      "0\n",
      "0\n",
      "0\n",
      "0\n",
      "0\n",
      "1\n",
      "0\n",
      "0\n",
      "0\n",
      "0\n",
      "0\n",
      "0\n",
      "0\n",
      "0\n",
      "0\n",
      "0\n",
      "0\n",
      "0\n",
      "1\n",
      "1\n",
      "0\n",
      "0\n",
      "0\n",
      "0\n",
      "0\n",
      "0\n",
      "0\n",
      "1\n",
      "0\n",
      "0\n",
      "0\n",
      "0\n",
      "0\n",
      "0\n",
      "0\n",
      "0\n",
      "0\n",
      "0\n",
      "0\n",
      "0\n",
      "0\n",
      "1\n",
      "0\n",
      "0\n",
      "0\n",
      "0\n",
      "0\n",
      "0\n",
      "0\n",
      "0\n",
      "0\n",
      "0\n",
      "0\n",
      "0\n",
      "0\n",
      "0\n",
      "0\n",
      "0\n",
      "0\n",
      "0\n",
      "0\n",
      "1\n",
      "0\n",
      "1\n",
      "0\n",
      "1\n",
      "0\n",
      "1\n",
      "0\n",
      "1\n",
      "1\n",
      "0\n",
      "0\n",
      "0\n",
      "1\n",
      "0\n",
      "0\n",
      "0\n",
      "1\n",
      "0\n",
      "1\n",
      "1\n",
      "1\n",
      "0\n",
      "0\n",
      "1\n",
      "1\n",
      "0\n",
      "1\n",
      "1\n",
      "0\n",
      "1\n",
      "1\n",
      "0\n",
      "1\n",
      "0\n",
      "0\n",
      "0\n",
      "1\n",
      "1\n",
      "0\n",
      "1\n",
      "1\n",
      "0\n",
      "1\n",
      "0\n",
      "1\n",
      "0\n",
      "1\n",
      "0\n",
      "0\n",
      "1\n",
      "1\n",
      "0\n",
      "1\n",
      "0\n",
      "0\n",
      "1\n",
      "1\n",
      "0\n",
      "1\n",
      "1\n",
      "0\n",
      "1\n",
      "1\n",
      "0\n",
      "0\n",
      "1\n",
      "0\n",
      "0\n",
      "1\n",
      "1\n",
      "1\n",
      "1\n",
      "1\n",
      "0\n",
      "1\n",
      "1\n",
      "1\n",
      "1\n",
      "0\n",
      "1\n",
      "1\n",
      "0\n",
      "1\n",
      "0\n",
      "1\n",
      "0\n",
      "1\n",
      "1\n",
      "1\n",
      "1\n",
      "0\n",
      "0\n",
      "0\n",
      "1\n",
      "1\n",
      "0\n",
      "1\n",
      "1\n",
      "1\n",
      "1\n",
      "1\n",
      "0\n",
      "0\n",
      "0\n",
      "1\n",
      "1\n",
      "0\n",
      "0\n",
      "1\n",
      "0\n",
      "1\n",
      "0\n",
      "1\n",
      "1\n",
      "0\n",
      "1\n",
      "0\n",
      "1\n",
      "1\n",
      "0\n",
      "1\n",
      "1\n",
      "0\n",
      "0\n",
      "0\n",
      "1\n",
      "1\n",
      "0\n",
      "1\n",
      "0\n",
      "0\n",
      "1\n",
      "0\n",
      "1\n",
      "0\n",
      "0\n",
      "1\n",
      "1\n",
      "0\n",
      "0\n",
      "1\n",
      "1\n",
      "0\n",
      "1\n",
      "1\n",
      "0\n",
      "0\n",
      "1\n",
      "0\n",
      "1\n",
      "0\n",
      "1\n",
      "1\n",
      "1\n",
      "0\n",
      "1\n",
      "0\n",
      "1\n",
      "1\n",
      "1\n",
      "0\n",
      "1\n",
      "1\n",
      "1\n",
      "1\n",
      "0\n",
      "1\n",
      "1\n",
      "1\n",
      "0\n",
      "1\n",
      "0\n",
      "1\n",
      "0\n",
      "0\n",
      "1\n",
      "1\n",
      "0\n",
      "1\n",
      "1\n",
      "1\n",
      "1\n",
      "1\n",
      "1\n",
      "0\n",
      "1\n",
      "1\n",
      "1\n",
      "1\n",
      "1\n",
      "1\n",
      "0\n",
      "1\n",
      "1\n",
      "1\n",
      "0\n",
      "1\n"
     ]
    }
   ],
   "source": [
    "import csv\n",
    "\n",
    "with open(r\"C:\\Users\\Nandini Sharma\\Desktop\\data science\\User_Data.csv\") as f:\n",
    "    csv_reader =csv.reader(f)\n",
    "    for line in csv_reader:\n",
    "        print(line[4])"
   ]
  },
  {
   "cell_type": "code",
   "execution_count": 42,
   "id": "1afc212a",
   "metadata": {},
   "outputs": [],
   "source": [
    "import csv\n",
    "\n",
    "fieldnames = ['User ID', 'Gender', 'Age', 'EstimatedSalary', 'Purchased']\n",
    "\n",
    "row = [['15624510', 'Male', '19', '19000', '0'],\n",
    "       ['15810944', 'Male', '35', '20000', '0'],\n",
    "       ['15668575', 'Female', '26', '43000', '0'],\n",
    "       ['15603246', 'Female', '27', '57000', '0'],\n",
    "       ['15804002', 'Male', '19', '76000', '0'],\n",
    "       ['15728773', 'Male', '27', '58000', '0'],\n",
    "       ['15598044', 'Female', '27', '84000', '0']]\n",
    "\n",
    "with open('country.csv',mode ='w',newline='') as f:\n",
    "    csv_writer = csv.writer(f)\n",
    "    #writer header\n",
    "    csv_writer.writerow(fieldnames)\n",
    "    for i in row :\n",
    "        csv_writer.writerow(i)\n",
    "    #write the data\n",
    "    #csv_writer.writerow(row)"
   ]
  },
  {
   "cell_type": "code",
   "execution_count": 43,
   "id": "c9f631d0",
   "metadata": {},
   "outputs": [],
   "source": [
    "import csv\n",
    "\n",
    "fieldnames = ['User ID', 'Gender', 'Age', 'EstimatedSalary', 'Purchased']\n",
    "\n",
    "row = [['15624510', 'Male', '19', '19000', '0'],\n",
    "       ['15810944', 'Male', '35', '20000', '0'],\n",
    "       ['15668575', 'Female', '26', '43000', '0'],\n",
    "       ['15603246', 'Female', '27', '57000', '0'],\n",
    "       ['15804002', 'Male', '19', '76000', '0'],\n",
    "       ['15728773', 'Male', '27', '58000', '0'],\n",
    "       ['15598044', 'Female', '27', '84000', '0']]\n",
    "\n",
    "with open('country1.csv',mode ='w',newline='') as f:\n",
    "    csv_writer = csv.writer(f)\n",
    "    #writer header\n",
    "    csv_writer.writerow(fieldnames)\n",
    "   # for i in row :\n",
    "     #   csv_writer.writerow(i)\n",
    "    #write the data\n",
    "    csv_writer.writerows(row)"
   ]
  },
  {
   "cell_type": "raw",
   "id": "e59f201a",
   "metadata": {},
   "source": [
    "#gender and avg salary "
   ]
  },
  {
   "cell_type": "code",
   "execution_count": 45,
   "id": "c2668d6a",
   "metadata": {},
   "outputs": [],
   "source": [
    "import csv\n",
    "\n",
    "fieldnames = [ 'Gender','avg_salary']\n",
    "\n",
    "row = [[ 'Male', '67642.86'],\n",
    "       [ 'feMale', '71759.8' ]\n",
    "       ]\n",
    "\n",
    "with open('country.csv',mode ='w',newline='') as f:\n",
    "    csv_writer = csv.writer(f)\n",
    "    #writer header\n",
    "    csv_writer.writerow(fieldnames)\n",
    "    for i in row :\n",
    "        csv_writer.writerow(i)\n",
    "    #write the data\n",
    "    #csv_writer.writerow(row)"
   ]
  },
  {
   "cell_type": "markdown",
   "id": "f44beb4b",
   "metadata": {},
   "source": [
    "# using dictwriter\n",
    "\n"
   ]
  },
  {
   "cell_type": "raw",
   "id": "d5b8053d",
   "metadata": {},
   "source": [
    "# {key:value}"
   ]
  },
  {
   "cell_type": "code",
   "execution_count": 51,
   "id": "90b9deda",
   "metadata": {},
   "outputs": [],
   "source": [
    "import csv\n",
    "\n",
    "#csv header\n",
    "fieldnames = ['name','area','country_code2','country_code3']\n",
    "\n",
    "#csv data\n",
    "rows=[\n",
    "    {'name':'kavita','area':28748,'country_code2':'AL','country_code3':'ALB'},\n",
    "    {'name':'rafi','area':269748,'country_code2':'ALk','country_code3':'AbLB'},\n",
    "    {'name':'Anzil','area':28748,'country_code2':'ALz','country_code3':'AzLB'}\n",
    "]\n",
    "with open('countries.csv','w',encoding='UTF8',newline='') as f:\n",
    "    writer =csv.DictWriter(f,fieldnames = fieldnames)\n",
    "    writer.writeheader()\n",
    "    writer.writerows(rows)\n",
    "    \n",
    "    "
   ]
  },
  {
   "cell_type": "markdown",
   "id": "3deea74a",
   "metadata": {},
   "source": [
    "# Exceptional handling "
   ]
  },
  {
   "cell_type": "code",
   "execution_count": null,
   "id": "5397d327",
   "metadata": {},
   "outputs": [],
   "source": [
    "two types of error \n",
    "1) syntax error\n",
    "2) exceptional error \n",
    "\n",
    "eg: typeerror,name Error ,valueError"
   ]
  },
  {
   "cell_type": "code",
   "execution_count": 4,
   "id": "47d2cfa7",
   "metadata": {},
   "outputs": [
    {
     "name": "stdout",
     "output_type": "stream",
     "text": [
      "given a another number to b\n",
      "10\n"
     ]
    }
   ],
   "source": [
    "a = 10\n",
    "b = 0\n",
    "\n",
    "try:\n",
    "    c = a/b\n",
    "    print(c)\n",
    "except:\n",
    "    print('given a another number to b')\n",
    "print(a+b)\n",
    "    \n",
    "    "
   ]
  },
  {
   "cell_type": "code",
   "execution_count": 8,
   "id": "c9c6e6dc",
   "metadata": {},
   "outputs": [
    {
     "name": "stdout",
     "output_type": "stream",
     "text": [
      "erroor: could not find file or read data \n"
     ]
    }
   ],
   "source": [
    "#f = open('kavita.csv','r')\n",
    "#f.write('ssssssjjhkk')\n",
    "\n",
    "try:\n",
    "    f=open('kavita.csv','r')\n",
    "    f.write('yyyuiio')\n",
    "except IOError:\n",
    "    #this will only check for an IOError exception and then execute this print statement \n",
    "    print('erroor: could not find file or read data ')\n",
    "except TypeError:\n",
    "    #this will only check for an IOError exception and then execute this print statement \n",
    "    print('erroor: could not find file or read data ')\n",
    "else:\n",
    "    #no exception\n",
    "    print('succesful ')\n",
    "    f.close()"
   ]
  },
  {
   "cell_type": "code",
   "execution_count": 9,
   "id": "658f9685",
   "metadata": {},
   "outputs": [
    {
     "name": "stdout",
     "output_type": "stream",
     "text": [
      "succesful \n"
     ]
    }
   ],
   "source": [
    "#f = open('kavita.csv','r')\n",
    "#f.write('ssssssjjhkk')\n",
    "\n",
    "try:\n",
    "    f=open('kavita.csv','w')\n",
    "    f.write('yyyuiio')\n",
    "except IOError:\n",
    "    #this will only check for an IOError exception and then execute this print statement \n",
    "    print('erroor: could not find file or read data ')\n",
    "except TypeError:\n",
    "    #this will only check for an IOError exception and then execute this print statement \n",
    "    print('erroor: could not find file or read data ')\n",
    "else:\n",
    "    #no exception\n",
    "    print('succesful ')\n",
    "    f.close()"
   ]
  },
  {
   "cell_type": "code",
   "execution_count": 12,
   "id": "f72beb31",
   "metadata": {},
   "outputs": [
    {
     "name": "stdout",
     "output_type": "stream",
     "text": [
      "erroor: could not find file or read data \n"
     ]
    }
   ],
   "source": [
    "#f = open('kavita.csv','r')\n",
    "#f.write('ssssssjjhkk')\n",
    "\n",
    "try:\n",
    "    f=open('kavita.csv','w')\n",
    "    f.read('yyyuiio')\n",
    "except IOError:\n",
    "    #this will only check for an IOError exception and then execute this print statement \n",
    "    print('erroor: could not find file or read data ')\n",
    "except TypeError:\n",
    "    #this will only check for an IOError exception and then execute this print statement \n",
    "    print('erroor: could not find file or read data ')\n",
    "else:\n",
    "    #no exception\n",
    "    print('succesful ')\n",
    "    f.close()"
   ]
  },
  {
   "cell_type": "code",
   "execution_count": 14,
   "id": "ed90a006",
   "metadata": {},
   "outputs": [
    {
     "name": "stdout",
     "output_type": "stream",
     "text": [
      "erroor: could not find file or read data \n"
     ]
    }
   ],
   "source": [
    "f = open('kavita.csv','w')\n",
    "f.write('ssssssjjhkk')\n",
    "\n",
    "try:\n",
    "    f=open('kavita.csv','r')\n",
    "    f.write('yyyuiio')\n",
    "except IOError:\n",
    "    #this will only check for an IOError exception and then execute this print statement \n",
    "    print('erroor: could not find file or read data ')\n",
    "except TypeError:\n",
    "    #this will only check for an IOError exception and then execute this print statement \n",
    "    print('erroor: could not find file or read data ')\n",
    "else:\n",
    "    #no exception\n",
    "    print('succesful ')\n",
    "    f.close()"
   ]
  },
  {
   "cell_type": "code",
   "execution_count": 15,
   "id": "6395f2fa",
   "metadata": {},
   "outputs": [
    {
     "name": "stdout",
     "output_type": "stream",
     "text": [
      "[Errno 2] No such file or directory: 'testfile'\n"
     ]
    }
   ],
   "source": [
    "try:\n",
    "    f = open('testfile','r')\n",
    "    f.write('test write this')\n",
    "except Exception as e:\n",
    "    #this will check for any exception and the excute this print statement \n",
    "    print(e)\n",
    "else:\n",
    "    print('content succesfuly ')\n",
    "    f.close()"
   ]
  },
  {
   "cell_type": "code",
   "execution_count": 17,
   "id": "459312c8",
   "metadata": {},
   "outputs": [
    {
     "name": "stdout",
     "output_type": "stream",
     "text": [
      "content succesfuly \n"
     ]
    }
   ],
   "source": [
    "try:\n",
    "    f = open('kavita','w')\n",
    "    f.write('test write this')\n",
    "except Exception as e:\n",
    "    #this will check for any exception and the excute this print statement \n",
    "    print(e)\n",
    "else:\n",
    "    print('content succesfuly ')\n",
    "    f.close()"
   ]
  },
  {
   "cell_type": "code",
   "execution_count": 18,
   "id": "77889b5d",
   "metadata": {},
   "outputs": [
    {
     "name": "stdout",
     "output_type": "stream",
     "text": [
      "not writable\n"
     ]
    }
   ],
   "source": [
    "try:\n",
    "    f = open('kavita','r')\n",
    "    f.write('test write this')\n",
    "except Exception as e:\n",
    "    #this will check for any exception and the excute this print statement \n",
    "    print(e)\n",
    "else:\n",
    "    print('content succesfuly ')\n",
    "    f.close()"
   ]
  },
  {
   "cell_type": "code",
   "execution_count": 21,
   "id": "79585364",
   "metadata": {},
   "outputs": [
    {
     "name": "stdout",
     "output_type": "stream",
     "text": [
      "error\n",
      "always execute finally code blocks\n"
     ]
    }
   ],
   "source": [
    "try:\n",
    "    f=open('textfile','r')\n",
    "    f.write('test write this')\n",
    "except :\n",
    "    print('error')\n",
    "finally:\n",
    "    print('always execute finally code blocks')"
   ]
  },
  {
   "cell_type": "code",
   "execution_count": 22,
   "id": "e71464f9",
   "metadata": {},
   "outputs": [],
   "source": [
    "def askint():\n",
    "    try:\n",
    "        val=int(input('enter the number:'))\n",
    "    except:\n",
    "        print('looks number is not enter')\n",
    "    finally:\n",
    "        print('finally ,i excecuted')\n",
    "    print(val)\n",
    "        "
   ]
  },
  {
   "cell_type": "code",
   "execution_count": 23,
   "id": "7dee34e3",
   "metadata": {},
   "outputs": [
    {
     "name": "stdout",
     "output_type": "stream",
     "text": [
      "enter the number:10\n",
      "finally ,i excecuted\n",
      "10\n"
     ]
    }
   ],
   "source": [
    "askint()"
   ]
  },
  {
   "cell_type": "code",
   "execution_count": 24,
   "id": "0438f640",
   "metadata": {},
   "outputs": [
    {
     "name": "stdout",
     "output_type": "stream",
     "text": [
      "enter the number:0\n",
      "finally ,i excecuted\n"
     ]
    }
   ],
   "source": [
    "def askint():\n",
    "    try:\n",
    "        val=int(input('enter the number:'))\n",
    "    except:\n",
    "        print('looks number is not enter')\n",
    "    finally:\n",
    "        print('finally ,i excecuted')\n",
    "    #print(val)\n",
    "askint()"
   ]
  },
  {
   "cell_type": "code",
   "execution_count": 25,
   "id": "e6087605",
   "metadata": {},
   "outputs": [
    {
     "name": "stdout",
     "output_type": "stream",
     "text": [
      "enter the number:o\n",
      "looks number is not enter\n",
      "finally ,i excecuted\n"
     ]
    }
   ],
   "source": [
    "def askint():\n",
    "    try:\n",
    "        val=int(input('enter the number:'))\n",
    "    except:\n",
    "        print('looks number is not enter')\n",
    "    finally:\n",
    "        print('finally ,i excecuted')\n",
    "    #print(val)\n",
    "askint()"
   ]
  },
  {
   "cell_type": "code",
   "execution_count": 26,
   "id": "57b513b9",
   "metadata": {},
   "outputs": [
    {
     "name": "stdout",
     "output_type": "stream",
     "text": [
      "enter the number:o\n",
      "looks number is not enter\n",
      "finally ,i excecuted\n"
     ]
    },
    {
     "ename": "UnboundLocalError",
     "evalue": "cannot access local variable 'val' where it is not associated with a value",
     "output_type": "error",
     "traceback": [
      "\u001b[1;31m---------------------------------------------------------------------------\u001b[0m",
      "\u001b[1;31mUnboundLocalError\u001b[0m                         Traceback (most recent call last)",
      "Cell \u001b[1;32mIn[26], line 9\u001b[0m\n\u001b[0;32m      7\u001b[0m         \u001b[38;5;28mprint\u001b[39m(\u001b[38;5;124m'\u001b[39m\u001b[38;5;124mfinally ,i excecuted\u001b[39m\u001b[38;5;124m'\u001b[39m)\n\u001b[0;32m      8\u001b[0m     \u001b[38;5;28mprint\u001b[39m(val)\n\u001b[1;32m----> 9\u001b[0m askint()\n",
      "Cell \u001b[1;32mIn[26], line 8\u001b[0m, in \u001b[0;36maskint\u001b[1;34m()\u001b[0m\n\u001b[0;32m      6\u001b[0m \u001b[38;5;28;01mfinally\u001b[39;00m:\n\u001b[0;32m      7\u001b[0m     \u001b[38;5;28mprint\u001b[39m(\u001b[38;5;124m'\u001b[39m\u001b[38;5;124mfinally ,i excecuted\u001b[39m\u001b[38;5;124m'\u001b[39m)\n\u001b[1;32m----> 8\u001b[0m \u001b[38;5;28mprint\u001b[39m(val)\n",
      "\u001b[1;31mUnboundLocalError\u001b[0m: cannot access local variable 'val' where it is not associated with a value"
     ]
    }
   ],
   "source": [
    "def askint():\n",
    "    try:\n",
    "        val=int(input('enter the number:'))\n",
    "    except:\n",
    "        print('looks number is not enter')\n",
    "    finally:\n",
    "        print('finally ,i excecuted')\n",
    "    print(val)\n",
    "askint()"
   ]
  },
  {
   "cell_type": "code",
   "execution_count": 44,
   "id": "52787ed2",
   "metadata": {},
   "outputs": [],
   "source": [
    "#program to handle multiple error with one #except ststement #python3\n",
    "\n",
    "def fun(a):\n",
    "    if a<4:\n",
    "        b=a/(a-3)\n",
    "        print(\"value of b = \",b)\n",
    "    "
   ]
  },
  {
   "cell_type": "code",
   "execution_count": 57,
   "id": "091bab10",
   "metadata": {},
   "outputs": [
    {
     "name": "stdout",
     "output_type": "stream",
     "text": [
      "value of b =  -2.0\n"
     ]
    }
   ],
   "source": [
    "try:\n",
    "    fun(2)\n",
    "    \n",
    "except (ZeroDivisionError,UnboundLocalError,TypeError):\n",
    "    \n",
    "    print(error)"
   ]
  },
  {
   "cell_type": "code",
   "execution_count": 58,
   "id": "3a30e5b8",
   "metadata": {},
   "outputs": [
    {
     "name": "stdout",
     "output_type": "stream",
     "text": [
      "error\n"
     ]
    }
   ],
   "source": [
    "try:\n",
    "    fun('a')\n",
    "    \n",
    "except (ZeroDivisionError,UnboundLocalError,TypeError):\n",
    "    print('error')"
   ]
  },
  {
   "cell_type": "code",
   "execution_count": 1,
   "id": "ae7a88da",
   "metadata": {},
   "outputs": [
    {
     "ename": "SyntaxError",
     "evalue": "incomplete input (2558676214.py, line 6)",
     "output_type": "error",
     "traceback": [
      "\u001b[1;36m  Cell \u001b[1;32mIn[1], line 6\u001b[1;36m\u001b[0m\n\u001b[1;33m    #multiple exceptions\u001b[0m\n\u001b[1;37m                        ^\u001b[0m\n\u001b[1;31mSyntaxError\u001b[0m\u001b[1;31m:\u001b[0m incomplete input\n"
     ]
    }
   ],
   "source": [
    "try:\n",
    "    fun(2)\n",
    "    fun('a')\n",
    "    \n",
    "#not that braces () are necessary for \n",
    "#multiple exceptions\n"
   ]
  },
  {
   "cell_type": "markdown",
   "id": "88d42bf6",
   "metadata": {},
   "source": [
    "# Pandas"
   ]
  },
  {
   "cell_type": "code",
   "execution_count": 5,
   "id": "c391c36c",
   "metadata": {},
   "outputs": [],
   "source": [
    "import plotly"
   ]
  },
  {
   "cell_type": "code",
   "execution_count": 6,
   "id": "de997abc",
   "metadata": {},
   "outputs": [],
   "source": [
    "import pandas"
   ]
  },
  {
   "cell_type": "code",
   "execution_count": 8,
   "id": "10287dfd",
   "metadata": {},
   "outputs": [],
   "source": [
    "import pandas as pd"
   ]
  },
  {
   "cell_type": "code",
   "execution_count": 9,
   "id": "896825f6",
   "metadata": {},
   "outputs": [],
   "source": [
    "s=[10,20,30,40,50,60,33,44,55,]"
   ]
  },
  {
   "cell_type": "code",
   "execution_count": 10,
   "id": "f91233c3",
   "metadata": {},
   "outputs": [
    {
     "data": {
      "text/plain": [
       "list"
      ]
     },
     "execution_count": 10,
     "metadata": {},
     "output_type": "execute_result"
    }
   ],
   "source": [
    "type(s)"
   ]
  },
  {
   "cell_type": "code",
   "execution_count": 13,
   "id": "da36da92",
   "metadata": {},
   "outputs": [],
   "source": [
    "#we have to convert above list in series \n",
    "ser = pd.Series(s)"
   ]
  },
  {
   "cell_type": "code",
   "execution_count": 14,
   "id": "1715cb26",
   "metadata": {},
   "outputs": [
    {
     "data": {
      "text/plain": [
       "pandas.core.series.Series"
      ]
     },
     "execution_count": 14,
     "metadata": {},
     "output_type": "execute_result"
    }
   ],
   "source": [
    "type(ser)"
   ]
  },
  {
   "cell_type": "code",
   "execution_count": 16,
   "id": "30d46d16",
   "metadata": {},
   "outputs": [
    {
     "name": "stdout",
     "output_type": "stream",
     "text": [
      "<class 'numpy.int64'>\n"
     ]
    }
   ],
   "source": [
    "ser = pd.Series(s)\n",
    "print(type(ser[0]))"
   ]
  },
  {
   "cell_type": "code",
   "execution_count": 17,
   "id": "94d120da",
   "metadata": {},
   "outputs": [],
   "source": [
    "ser.name"
   ]
  },
  {
   "cell_type": "code",
   "execution_count": 18,
   "id": "26b7c828",
   "metadata": {},
   "outputs": [
    {
     "data": {
      "text/plain": [
       "pandas.core.series.Series"
      ]
     },
     "execution_count": 18,
     "metadata": {},
     "output_type": "execute_result"
    }
   ],
   "source": [
    "type(ser)"
   ]
  },
  {
   "cell_type": "code",
   "execution_count": 20,
   "id": "7498d5fd",
   "metadata": {},
   "outputs": [
    {
     "data": {
      "text/plain": [
       "0    10\n",
       "1    20\n",
       "2    30\n",
       "3    40\n",
       "4    50\n",
       "5    60\n",
       "6    33\n",
       "7    44\n",
       "8    55\n",
       "Name: age, dtype: int32"
      ]
     },
     "execution_count": 20,
     "metadata": {},
     "output_type": "execute_result"
    }
   ],
   "source": [
    "st_int = pd.Series(s,dtype ='int32',name='age')\n",
    "st_int"
   ]
  },
  {
   "cell_type": "code",
   "execution_count": 21,
   "id": "796de287",
   "metadata": {},
   "outputs": [
    {
     "data": {
      "text/plain": [
       "342"
      ]
     },
     "execution_count": 21,
     "metadata": {},
     "output_type": "execute_result"
    }
   ],
   "source": [
    "st_int = pd.Series(s,dtype ='int32',name='age')\n",
    "sum(st_int)"
   ]
  },
  {
   "cell_type": "code",
   "execution_count": 22,
   "id": "86add81c",
   "metadata": {},
   "outputs": [
    {
     "data": {
      "text/plain": [
       "38.0"
      ]
     },
     "execution_count": 22,
     "metadata": {},
     "output_type": "execute_result"
    }
   ],
   "source": [
    "st_int.mean()"
   ]
  },
  {
   "cell_type": "code",
   "execution_count": 25,
   "id": "b4d27fde",
   "metadata": {},
   "outputs": [
    {
     "data": {
      "text/plain": [
       "342.0"
      ]
     },
     "execution_count": 25,
     "metadata": {},
     "output_type": "execute_result"
    }
   ],
   "source": [
    "st_int = pd.Series(s,dtype ='float',name='age')\n",
    "sum(st_int)"
   ]
  },
  {
   "cell_type": "code",
   "execution_count": 26,
   "id": "bddac6fc",
   "metadata": {},
   "outputs": [
    {
     "data": {
      "text/plain": [
       "0    10.0\n",
       "1    20.0\n",
       "2    30.0\n",
       "3    40.0\n",
       "4    50.0\n",
       "5    60.0\n",
       "6    33.0\n",
       "7    44.0\n",
       "8    55.0\n",
       "Name: age, dtype: float64"
      ]
     },
     "execution_count": 26,
     "metadata": {},
     "output_type": "execute_result"
    }
   ],
   "source": [
    "st_int = pd.Series(s,dtype ='float64',name='age')\n",
    "(st_int)"
   ]
  },
  {
   "cell_type": "code",
   "execution_count": 27,
   "id": "fc6c9a74",
   "metadata": {},
   "outputs": [
    {
     "data": {
      "text/plain": [
       "0    10.0+0.0j\n",
       "1    20.0+0.0j\n",
       "2    30.0+0.0j\n",
       "3    40.0+0.0j\n",
       "4    50.0+0.0j\n",
       "5    60.0+0.0j\n",
       "6    33.0+0.0j\n",
       "7    44.0+0.0j\n",
       "8    55.0+0.0j\n",
       "Name: age, dtype: complex128"
      ]
     },
     "execution_count": 27,
     "metadata": {},
     "output_type": "execute_result"
    }
   ],
   "source": [
    "st_int = pd.Series(s,dtype ='complex',name='age')\n",
    "(st_int)"
   ]
  },
  {
   "cell_type": "code",
   "execution_count": 28,
   "id": "8e9ccbfc",
   "metadata": {},
   "outputs": [
    {
     "data": {
      "text/plain": [
       "0    10\n",
       "1    20\n",
       "2    30\n",
       "3    40\n",
       "4    50\n",
       "5    60\n",
       "6    33\n",
       "7    44\n",
       "8    55\n",
       "Name: age, dtype: string"
      ]
     },
     "execution_count": 28,
     "metadata": {},
     "output_type": "execute_result"
    }
   ],
   "source": [
    "st_int = pd.Series(s,dtype ='string',name='age')\n",
    "(st_int)"
   ]
  },
  {
   "cell_type": "code",
   "execution_count": 29,
   "id": "1a186d60",
   "metadata": {},
   "outputs": [
    {
     "data": {
      "text/plain": [
       "0    10\n",
       "1    20\n",
       "2    30\n",
       "3    40\n",
       "4    50\n",
       "5    60\n",
       "6    33\n",
       "7    44\n",
       "8    55\n",
       "Name: age, dtype: object"
      ]
     },
     "execution_count": 29,
     "metadata": {},
     "output_type": "execute_result"
    }
   ],
   "source": [
    "st_int = pd.Series(s,dtype ='object',name='age')\n",
    "(st_int)"
   ]
  },
  {
   "cell_type": "code",
   "execution_count": 30,
   "id": "08b42c11",
   "metadata": {},
   "outputs": [
    {
     "data": {
      "text/plain": [
       "0    10\n",
       "1    20\n",
       "2    30\n",
       "3    40\n",
       "4    50\n",
       "dtype: int64"
      ]
     },
     "execution_count": 30,
     "metadata": {},
     "output_type": "execute_result"
    }
   ],
   "source": [
    "ser.head()"
   ]
  },
  {
   "cell_type": "code",
   "execution_count": 31,
   "id": "6699b8ea",
   "metadata": {},
   "outputs": [
    {
     "data": {
      "text/plain": [
       "0    10\n",
       "1    20\n",
       "2    30\n",
       "3    40\n",
       "dtype: int64"
      ]
     },
     "execution_count": 31,
     "metadata": {},
     "output_type": "execute_result"
    }
   ],
   "source": [
    "ser.head(4)"
   ]
  },
  {
   "cell_type": "code",
   "execution_count": 32,
   "id": "649481dc",
   "metadata": {},
   "outputs": [
    {
     "data": {
      "text/plain": [
       "0    10\n",
       "1    20\n",
       "2    30\n",
       "3    40\n",
       "4    50\n",
       "5    60\n",
       "6    33\n",
       "7    44\n",
       "8    55\n",
       "dtype: int64"
      ]
     },
     "execution_count": 32,
     "metadata": {},
     "output_type": "execute_result"
    }
   ],
   "source": [
    "ser.head(10)"
   ]
  },
  {
   "cell_type": "code",
   "execution_count": 33,
   "id": "65f5ec5a",
   "metadata": {},
   "outputs": [
    {
     "data": {
      "text/plain": [
       "4    50\n",
       "5    60\n",
       "6    33\n",
       "7    44\n",
       "8    55\n",
       "dtype: int64"
      ]
     },
     "execution_count": 33,
     "metadata": {},
     "output_type": "execute_result"
    }
   ],
   "source": [
    "ser.tail()"
   ]
  },
  {
   "cell_type": "code",
   "execution_count": 34,
   "id": "12463624",
   "metadata": {},
   "outputs": [
    {
     "data": {
      "text/plain": [
       "7    44\n",
       "8    55\n",
       "dtype: int64"
      ]
     },
     "execution_count": 34,
     "metadata": {},
     "output_type": "execute_result"
    }
   ],
   "source": [
    "ser.tail(2)"
   ]
  },
  {
   "cell_type": "code",
   "execution_count": 35,
   "id": "0f4af543",
   "metadata": {},
   "outputs": [
    {
     "data": {
      "text/plain": [
       "0    10\n",
       "1    20\n",
       "2    30\n",
       "3    40\n",
       "4    50\n",
       "5    60\n",
       "6    33\n",
       "7    44\n",
       "8    55\n",
       "dtype: int64"
      ]
     },
     "execution_count": 35,
     "metadata": {},
     "output_type": "execute_result"
    }
   ],
   "source": [
    "ser.tail(10)"
   ]
  },
  {
   "cell_type": "code",
   "execution_count": 36,
   "id": "8ab7e227",
   "metadata": {},
   "outputs": [
    {
     "data": {
      "text/plain": [
       "5    60\n",
       "6    33\n",
       "7    44\n",
       "dtype: int64"
      ]
     },
     "execution_count": 36,
     "metadata": {},
     "output_type": "execute_result"
    }
   ],
   "source": [
    "ser[-4:-1]"
   ]
  },
  {
   "cell_type": "code",
   "execution_count": 37,
   "id": "9ac1be42",
   "metadata": {},
   "outputs": [
    {
     "data": {
      "text/plain": [
       "8    55\n",
       "dtype: int64"
      ]
     },
     "execution_count": 37,
     "metadata": {},
     "output_type": "execute_result"
    }
   ],
   "source": [
    "ser[-1:]"
   ]
  },
  {
   "cell_type": "code",
   "execution_count": 42,
   "id": "32fa680a",
   "metadata": {},
   "outputs": [],
   "source": [
    "ser[-1:] = 7"
   ]
  },
  {
   "cell_type": "code",
   "execution_count": 43,
   "id": "fea33752",
   "metadata": {},
   "outputs": [
    {
     "data": {
      "text/plain": [
       "0    10\n",
       "1    20\n",
       "2    30\n",
       "3    40\n",
       "4    50\n",
       "5    60\n",
       "6    33\n",
       "7    44\n",
       "8     7\n",
       "dtype: object"
      ]
     },
     "execution_count": 43,
     "metadata": {},
     "output_type": "execute_result"
    }
   ],
   "source": [
    "ser"
   ]
  },
  {
   "cell_type": "code",
   "execution_count": 44,
   "id": "0b51dbb3",
   "metadata": {},
   "outputs": [],
   "source": [
    "ser = pd.Series(s,name ='age',index =['a','b','c','d','e','f','g','h','i'],dtype='float32')"
   ]
  },
  {
   "cell_type": "code",
   "execution_count": 45,
   "id": "cae10855",
   "metadata": {},
   "outputs": [
    {
     "data": {
      "text/plain": [
       "a    10.0\n",
       "b    20.0\n",
       "c    30.0\n",
       "d    40.0\n",
       "e    50.0\n",
       "f    60.0\n",
       "g    33.0\n",
       "h    44.0\n",
       "i    55.0\n",
       "Name: age, dtype: float32"
      ]
     },
     "execution_count": 45,
     "metadata": {},
     "output_type": "execute_result"
    }
   ],
   "source": [
    "ser"
   ]
  },
  {
   "cell_type": "code",
   "execution_count": 46,
   "id": "f8046de4",
   "metadata": {},
   "outputs": [
    {
     "data": {
      "text/plain": [
       "a    10.0\n",
       "b    20.0\n",
       "c    30.0\n",
       "Name: age, dtype: float32"
      ]
     },
     "execution_count": 46,
     "metadata": {},
     "output_type": "execute_result"
    }
   ],
   "source": [
    "ser['a':'c']"
   ]
  },
  {
   "cell_type": "code",
   "execution_count": 47,
   "id": "a7d2f65f",
   "metadata": {},
   "outputs": [
    {
     "data": {
      "text/plain": [
       "a    50\n",
       "b    40\n",
       "c    60\n",
       "d    70\n",
       "e    90\n",
       "f    40\n",
       "g    50\n",
       "h    30\n",
       "i    60\n",
       "Name: weight, dtype: int64"
      ]
     },
     "execution_count": 47,
     "metadata": {},
     "output_type": "execute_result"
    }
   ],
   "source": [
    "weight =[50,40,60,70,90,40,50,30,60]\n",
    "weight_ser =pd.Series(weight, name='weight',index = ['a','b','c','d','e','f','g','h','i'])\n",
    "weight_ser"
   ]
  },
  {
   "cell_type": "code",
   "execution_count": 48,
   "id": "aa38d726",
   "metadata": {},
   "outputs": [
    {
     "data": {
      "text/plain": [
       "a     60.0\n",
       "b     60.0\n",
       "c     90.0\n",
       "d    110.0\n",
       "e    140.0\n",
       "f    100.0\n",
       "g     83.0\n",
       "h     74.0\n",
       "i    115.0\n",
       "dtype: float64"
      ]
     },
     "execution_count": 48,
     "metadata": {},
     "output_type": "execute_result"
    }
   ],
   "source": [
    "ser + weight_ser"
   ]
  },
  {
   "cell_type": "code",
   "execution_count": 49,
   "id": "cd574c02",
   "metadata": {},
   "outputs": [
    {
     "data": {
      "text/plain": [
       "(a    10.0\n",
       " b    20.0\n",
       " c    30.0\n",
       " d    40.0\n",
       " e    50.0\n",
       " f    60.0\n",
       " g    33.0\n",
       " h    44.0\n",
       " i    55.0\n",
       " Name: age, dtype: float32,\n",
       " a    50\n",
       " b    40\n",
       " c    60\n",
       " d    70\n",
       " e    90\n",
       " f    40\n",
       " g    50\n",
       " h    30\n",
       " i    60\n",
       " Name: weight, dtype: int64)"
      ]
     },
     "execution_count": 49,
     "metadata": {},
     "output_type": "execute_result"
    }
   ],
   "source": [
    "ser ,weight_ser"
   ]
  },
  {
   "cell_type": "code",
   "execution_count": 50,
   "id": "886aed2f",
   "metadata": {},
   "outputs": [
    {
     "data": {
      "text/plain": [
       "a   -40.0\n",
       "b   -20.0\n",
       "c   -30.0\n",
       "d   -30.0\n",
       "e   -40.0\n",
       "f    20.0\n",
       "g   -17.0\n",
       "h    14.0\n",
       "i    -5.0\n",
       "dtype: float64"
      ]
     },
     "execution_count": 50,
     "metadata": {},
     "output_type": "execute_result"
    }
   ],
   "source": [
    "ser - weight_ser"
   ]
  },
  {
   "cell_type": "code",
   "execution_count": 51,
   "id": "b83bc4e6",
   "metadata": {},
   "outputs": [
    {
     "data": {
      "text/plain": [
       "a     500.0\n",
       "b     800.0\n",
       "c    1800.0\n",
       "d    2800.0\n",
       "e    4500.0\n",
       "f    2400.0\n",
       "g    1650.0\n",
       "h    1320.0\n",
       "i    3300.0\n",
       "dtype: float64"
      ]
     },
     "execution_count": 51,
     "metadata": {},
     "output_type": "execute_result"
    }
   ],
   "source": [
    "ser * weight_ser"
   ]
  },
  {
   "cell_type": "code",
   "execution_count": 53,
   "id": "3ba74387",
   "metadata": {},
   "outputs": [
    {
     "data": {
      "text/plain": [
       "a    0.200000\n",
       "b    0.500000\n",
       "c    0.500000\n",
       "d    0.571429\n",
       "e    0.555556\n",
       "f    1.500000\n",
       "g    0.660000\n",
       "h    1.466667\n",
       "i    0.916667\n",
       "dtype: float64"
      ]
     },
     "execution_count": 53,
     "metadata": {},
     "output_type": "execute_result"
    }
   ],
   "source": [
    "ser / weight_ser"
   ]
  },
  {
   "cell_type": "code",
   "execution_count": null,
   "id": "ba8f45f4",
   "metadata": {},
   "outputs": [],
   "source": []
  },
  {
   "cell_type": "markdown",
   "id": "d9a54a85",
   "metadata": {},
   "source": [
    "# Logical Operators(|,^,-)"
   ]
  },
  {
   "cell_type": "code",
   "execution_count": 54,
   "id": "ffe5509a",
   "metadata": {},
   "outputs": [],
   "source": [
    "#ser and weight_ser\n",
    "#ser^weight_ser"
   ]
  },
  {
   "cell_type": "code",
   "execution_count": 55,
   "id": "a7b372ee",
   "metadata": {},
   "outputs": [
    {
     "data": {
      "text/plain": [
       "50"
      ]
     },
     "execution_count": 55,
     "metadata": {},
     "output_type": "execute_result"
    }
   ],
   "source": [
    "weight_ser.a"
   ]
  },
  {
   "cell_type": "code",
   "execution_count": 57,
   "id": "4351e061",
   "metadata": {},
   "outputs": [
    {
     "data": {
      "text/plain": [
       "<bound method NDFrame.abs of a    50\n",
       "b    40\n",
       "c    60\n",
       "d    70\n",
       "e    90\n",
       "f    40\n",
       "g    50\n",
       "h    30\n",
       "i    60\n",
       "Name: weight, dtype: int64>"
      ]
     },
     "execution_count": 57,
     "metadata": {},
     "output_type": "execute_result"
    }
   ],
   "source": [
    "weight_ser.abs"
   ]
  },
  {
   "cell_type": "code",
   "execution_count": 58,
   "id": "02d38d62",
   "metadata": {},
   "outputs": [],
   "source": [
    "weight_grt_50=weight_ser[weight_ser > 50].count()"
   ]
  },
  {
   "cell_type": "code",
   "execution_count": 59,
   "id": "d4e684db",
   "metadata": {},
   "outputs": [
    {
     "data": {
      "text/plain": [
       "4"
      ]
     },
     "execution_count": 59,
     "metadata": {},
     "output_type": "execute_result"
    }
   ],
   "source": [
    "weight_grt_50"
   ]
  },
  {
   "cell_type": "code",
   "execution_count": 60,
   "id": "f2488ab7",
   "metadata": {},
   "outputs": [
    {
     "data": {
      "text/plain": [
       "38"
      ]
     },
     "execution_count": 60,
     "metadata": {},
     "output_type": "execute_result"
    }
   ],
   "source": [
    "round(ser.mean())"
   ]
  },
  {
   "cell_type": "code",
   "execution_count": 61,
   "id": "bd247826",
   "metadata": {},
   "outputs": [
    {
     "data": {
      "text/plain": [
       "38.0"
      ]
     },
     "execution_count": 61,
     "metadata": {},
     "output_type": "execute_result"
    }
   ],
   "source": [
    "ser.mean()"
   ]
  },
  {
   "cell_type": "code",
   "execution_count": 62,
   "id": "7582e6b6",
   "metadata": {},
   "outputs": [],
   "source": [
    "t = ser.mode()"
   ]
  },
  {
   "cell_type": "code",
   "execution_count": 63,
   "id": "cc037c14",
   "metadata": {},
   "outputs": [
    {
     "data": {
      "text/plain": [
       "10.0"
      ]
     },
     "execution_count": 63,
     "metadata": {},
     "output_type": "execute_result"
    }
   ],
   "source": [
    "t[0]"
   ]
  },
  {
   "cell_type": "code",
   "execution_count": 64,
   "id": "184cdd05",
   "metadata": {},
   "outputs": [
    {
     "data": {
      "text/plain": [
       "(38.0, 40.0)"
      ]
     },
     "execution_count": 64,
     "metadata": {},
     "output_type": "execute_result"
    }
   ],
   "source": [
    "ser.mean(),ser.median()"
   ]
  },
  {
   "cell_type": "code",
   "execution_count": 65,
   "id": "0b7fd451",
   "metadata": {},
   "outputs": [
    {
     "data": {
      "text/plain": [
       "False"
      ]
     },
     "execution_count": 65,
     "metadata": {},
     "output_type": "execute_result"
    }
   ],
   "source": [
    "#checking mean ,mode aand median are equal or not \n",
    "ser.mean() == ser.median()==ser.mode()"
   ]
  },
  {
   "cell_type": "code",
   "execution_count": 67,
   "id": "e65e66aa",
   "metadata": {},
   "outputs": [
    {
     "data": {
      "text/plain": [
       "0     True\n",
       "1     True\n",
       "2     True\n",
       "3     True\n",
       "4    False\n",
       "5     True\n",
       "6     True\n",
       "7     True\n",
       "8     True\n",
       "Name: age, dtype: bool"
      ]
     },
     "execution_count": 67,
     "metadata": {},
     "output_type": "execute_result"
    }
   ],
   "source": [
    "#checking mean ,mode aand median are equal or not \n",
    "ser.mean() != ser.median() != ser.mode()"
   ]
  },
  {
   "cell_type": "code",
   "execution_count": 68,
   "id": "3a95ed54",
   "metadata": {},
   "outputs": [
    {
     "data": {
      "text/plain": [
       "0.189345469230941"
      ]
     },
     "execution_count": 68,
     "metadata": {},
     "output_type": "execute_result"
    }
   ],
   "source": [
    "ser.corr(weight_ser)"
   ]
  },
  {
   "cell_type": "code",
   "execution_count": 69,
   "id": "84f29094",
   "metadata": {},
   "outputs": [
    {
     "name": "stdout",
     "output_type": "stream",
     "text": [
      "16.408838272094727\n",
      "18.10463415200036\n"
     ]
    }
   ],
   "source": [
    "print(ser.std())\n",
    "print(weight_ser.std())"
   ]
  },
  {
   "cell_type": "code",
   "execution_count": 71,
   "id": "93504022",
   "metadata": {},
   "outputs": [
    {
     "data": {
      "text/plain": [
       "a    10.0\n",
       "b    20.0\n",
       "c    30.0\n",
       "d    40.0\n",
       "e    50.0\n",
       "f    60.0\n",
       "g    33.0\n",
       "h    44.0\n",
       "i    55.0\n",
       "Name: age, dtype: string"
      ]
     },
     "execution_count": 71,
     "metadata": {},
     "output_type": "execute_result"
    }
   ],
   "source": [
    "ser.astype(dtype ='string')"
   ]
  },
  {
   "cell_type": "code",
   "execution_count": 74,
   "id": "ad208410",
   "metadata": {},
   "outputs": [
    {
     "name": "stdout",
     "output_type": "stream",
     "text": [
      "342.0\n"
     ]
    }
   ],
   "source": [
    "print(sum(ser))"
   ]
  },
  {
   "cell_type": "code",
   "execution_count": 76,
   "id": "30e0f76c",
   "metadata": {},
   "outputs": [
    {
     "name": "stdout",
     "output_type": "stream",
     "text": [
      "342.0\n",
      "a     10.0\n",
      "b     30.0\n",
      "c     60.0\n",
      "d    100.0\n",
      "e    150.0\n",
      "f    210.0\n",
      "g    243.0\n",
      "h    287.0\n",
      "i    342.0\n",
      "Name: age, dtype: float32\n"
     ]
    }
   ],
   "source": [
    "print(sum(ser))\n",
    "print(ser.cumsum())"
   ]
  },
  {
   "cell_type": "code",
   "execution_count": 77,
   "id": "fd9c27ca",
   "metadata": {},
   "outputs": [
    {
     "data": {
      "text/plain": [
       "342.0"
      ]
     },
     "execution_count": 77,
     "metadata": {},
     "output_type": "execute_result"
    }
   ],
   "source": [
    "ser.sum()"
   ]
  },
  {
   "cell_type": "code",
   "execution_count": 78,
   "id": "6243e1ef",
   "metadata": {},
   "outputs": [
    {
     "data": {
      "text/plain": [
       "a    10.0\n",
       "b    20.0\n",
       "c    30.0\n",
       "d    40.0\n",
       "e    50.0\n",
       "f    60.0\n",
       "g    60.0\n",
       "h    60.0\n",
       "i    60.0\n",
       "Name: age, dtype: float32"
      ]
     },
     "execution_count": 78,
     "metadata": {},
     "output_type": "execute_result"
    }
   ],
   "source": [
    "ser.cummax()"
   ]
  },
  {
   "cell_type": "code",
   "execution_count": 79,
   "id": "084f3025",
   "metadata": {},
   "outputs": [
    {
     "data": {
      "text/plain": [
       "a    10.0\n",
       "b    10.0\n",
       "c    10.0\n",
       "d    10.0\n",
       "e    10.0\n",
       "f    10.0\n",
       "g    10.0\n",
       "h    10.0\n",
       "i    10.0\n",
       "Name: age, dtype: float32"
      ]
     },
     "execution_count": 79,
     "metadata": {},
     "output_type": "execute_result"
    }
   ],
   "source": [
    "ser.cummin()s"
   ]
  },
  {
   "cell_type": "code",
   "execution_count": 81,
   "id": "6b0f337b",
   "metadata": {},
   "outputs": [
    {
     "data": {
      "text/plain": [
       "10.0"
      ]
     },
     "execution_count": 81,
     "metadata": {},
     "output_type": "execute_result"
    }
   ],
   "source": [
    "ser.min()"
   ]
  },
  {
   "cell_type": "code",
   "execution_count": 82,
   "id": "c66ee24f",
   "metadata": {},
   "outputs": [
    {
     "data": {
      "text/plain": [
       "60.0"
      ]
     },
     "execution_count": 82,
     "metadata": {},
     "output_type": "execute_result"
    }
   ],
   "source": [
    "ser.max()"
   ]
  },
  {
   "cell_type": "markdown",
   "id": "b8b5db52",
   "metadata": {},
   "source": [
    "# Dataframe"
   ]
  },
  {
   "cell_type": "code",
   "execution_count": 83,
   "id": "639be2d8",
   "metadata": {},
   "outputs": [],
   "source": [
    "data ={\n",
    "    'name':['braund,mr.owen Harris',\n",
    "            'allen,mr.william henry',\n",
    "            'bonnell,miss.Elizabeth',\n",
    "            'rajesh,mr.owen Harris',\n",
    "            'Anish,mr.william henry',\n",
    "            'asif,miss.Elizabeth'],\n",
    "    'age':[22,35,58,50,0,0],\n",
    "    'sex':['male','male','female','male','male','female'],\n",
    "    'education':['BE','Btech','MBS','BE','MBA','MBA']\n",
    "}"
   ]
  },
  {
   "cell_type": "code",
   "execution_count": 84,
   "id": "ca58aa6f",
   "metadata": {},
   "outputs": [
    {
     "data": {
      "text/plain": [
       "dict"
      ]
     },
     "execution_count": 84,
     "metadata": {},
     "output_type": "execute_result"
    }
   ],
   "source": [
    "type(data)"
   ]
  },
  {
   "cell_type": "code",
   "execution_count": 85,
   "id": "f8e43a1a",
   "metadata": {},
   "outputs": [
    {
     "data": {
      "text/plain": [
       "pandas.core.frame.DataFrame"
      ]
     },
     "execution_count": 85,
     "metadata": {},
     "output_type": "execute_result"
    }
   ],
   "source": [
    "df = pd.DataFrame(data)\n",
    "type(df)"
   ]
  },
  {
   "cell_type": "code",
   "execution_count": 88,
   "id": "4f66fab4",
   "metadata": {},
   "outputs": [
    {
     "name": "stdout",
     "output_type": "stream",
     "text": [
      "             student_name  age  gender education\n",
      "0   braund,mr.owen Harris   22    male        BE\n",
      "1  allen,mr.william henry   35    male     Btech\n",
      "2  bonnell,miss.Elizabeth   58  female       MBS\n",
      "3   rajesh,mr.owen Harris   50    male        BE\n",
      "4  Anish,mr.william henry    0    male       MBA\n",
      "5     asif,miss.Elizabeth    0  female       MBA\n"
     ]
    }
   ],
   "source": [
    "df.rename(columns={'name':'student_name','sex':'gender'},inplace = True)\n",
    "print(df)"
   ]
  },
  {
   "cell_type": "code",
   "execution_count": 89,
   "id": "3294b2f6",
   "metadata": {},
   "outputs": [
    {
     "data": {
      "text/plain": [
       "(0      male\n",
       " 1      male\n",
       " 2    female\n",
       " 3      male\n",
       " 4      male\n",
       " 5    female\n",
       " Name: gender, dtype: object,\n",
       " 0      male\n",
       " 1      male\n",
       " 2    female\n",
       " 3      male\n",
       " 4      male\n",
       " 5    female\n",
       " Name: gender, dtype: object)"
      ]
     },
     "execution_count": 89,
     "metadata": {},
     "output_type": "execute_result"
    }
   ],
   "source": [
    "df['gender'],df.gender"
   ]
  },
  {
   "cell_type": "code",
   "execution_count": 91,
   "id": "ca9fbf0f",
   "metadata": {},
   "outputs": [
    {
     "data": {
      "text/plain": [
       "(pandas.core.series.Series,\n",
       " 0      male\n",
       " 1      male\n",
       " 2    female\n",
       " 3      male\n",
       " 4      male\n",
       " 5    female\n",
       " Name: gender, dtype: object)"
      ]
     },
     "execution_count": 91,
     "metadata": {},
     "output_type": "execute_result"
    }
   ],
   "source": [
    "type(df['gender']),df.gender"
   ]
  },
  {
   "cell_type": "code",
   "execution_count": 92,
   "id": "138a5163",
   "metadata": {},
   "outputs": [
    {
     "data": {
      "text/plain": [
       "pandas.core.series.Series"
      ]
     },
     "execution_count": 92,
     "metadata": {},
     "output_type": "execute_result"
    }
   ],
   "source": [
    "type(df.student_name)"
   ]
  },
  {
   "cell_type": "code",
   "execution_count": 93,
   "id": "8c099484",
   "metadata": {},
   "outputs": [
    {
     "data": {
      "text/plain": [
       "0     True\n",
       "1     True\n",
       "2    False\n",
       "3     True\n",
       "4     True\n",
       "5    False\n",
       "Name: gender, dtype: bool"
      ]
     },
     "execution_count": 93,
     "metadata": {},
     "output_type": "execute_result"
    }
   ],
   "source": [
    "df.gender == 'male'"
   ]
  },
  {
   "cell_type": "code",
   "execution_count": 94,
   "id": "f5344ec7",
   "metadata": {},
   "outputs": [
    {
     "data": {
      "text/html": [
       "<div>\n",
       "<style scoped>\n",
       "    .dataframe tbody tr th:only-of-type {\n",
       "        vertical-align: middle;\n",
       "    }\n",
       "\n",
       "    .dataframe tbody tr th {\n",
       "        vertical-align: top;\n",
       "    }\n",
       "\n",
       "    .dataframe thead th {\n",
       "        text-align: right;\n",
       "    }\n",
       "</style>\n",
       "<table border=\"1\" class=\"dataframe\">\n",
       "  <thead>\n",
       "    <tr style=\"text-align: right;\">\n",
       "      <th></th>\n",
       "      <th>student_name</th>\n",
       "      <th>age</th>\n",
       "      <th>gender</th>\n",
       "      <th>education</th>\n",
       "    </tr>\n",
       "  </thead>\n",
       "  <tbody>\n",
       "    <tr>\n",
       "      <th>0</th>\n",
       "      <td>braund,mr.owen Harris</td>\n",
       "      <td>22</td>\n",
       "      <td>male</td>\n",
       "      <td>BE</td>\n",
       "    </tr>\n",
       "    <tr>\n",
       "      <th>1</th>\n",
       "      <td>allen,mr.william henry</td>\n",
       "      <td>35</td>\n",
       "      <td>male</td>\n",
       "      <td>Btech</td>\n",
       "    </tr>\n",
       "    <tr>\n",
       "      <th>3</th>\n",
       "      <td>rajesh,mr.owen Harris</td>\n",
       "      <td>50</td>\n",
       "      <td>male</td>\n",
       "      <td>BE</td>\n",
       "    </tr>\n",
       "    <tr>\n",
       "      <th>4</th>\n",
       "      <td>Anish,mr.william henry</td>\n",
       "      <td>0</td>\n",
       "      <td>male</td>\n",
       "      <td>MBA</td>\n",
       "    </tr>\n",
       "  </tbody>\n",
       "</table>\n",
       "</div>"
      ],
      "text/plain": [
       "             student_name  age gender education\n",
       "0   braund,mr.owen Harris   22   male        BE\n",
       "1  allen,mr.william henry   35   male     Btech\n",
       "3   rajesh,mr.owen Harris   50   male        BE\n",
       "4  Anish,mr.william henry    0   male       MBA"
      ]
     },
     "execution_count": 94,
     "metadata": {},
     "output_type": "execute_result"
    }
   ],
   "source": [
    "df[df.gender == 'male']"
   ]
  },
  {
   "cell_type": "code",
   "execution_count": 99,
   "id": "f0137702",
   "metadata": {},
   "outputs": [
    {
     "data": {
      "text/plain": [
       "26.75"
      ]
     },
     "execution_count": 99,
     "metadata": {},
     "output_type": "execute_result"
    }
   ],
   "source": [
    "df_male = df[df.gender == 'male']\n",
    "df_male['age'].mean()"
   ]
  },
  {
   "cell_type": "code",
   "execution_count": 100,
   "id": "c7c20f76",
   "metadata": {},
   "outputs": [
    {
     "data": {
      "text/plain": [
       "29.0"
      ]
     },
     "execution_count": 100,
     "metadata": {},
     "output_type": "execute_result"
    }
   ],
   "source": [
    "df_female = df[df.gender == 'female']\n",
    "df_female['age'].mean()"
   ]
  },
  {
   "cell_type": "code",
   "execution_count": 101,
   "id": "d3a1119e",
   "metadata": {},
   "outputs": [
    {
     "data": {
      "text/html": [
       "<div>\n",
       "<style scoped>\n",
       "    .dataframe tbody tr th:only-of-type {\n",
       "        vertical-align: middle;\n",
       "    }\n",
       "\n",
       "    .dataframe tbody tr th {\n",
       "        vertical-align: top;\n",
       "    }\n",
       "\n",
       "    .dataframe thead th {\n",
       "        text-align: right;\n",
       "    }\n",
       "</style>\n",
       "<table border=\"1\" class=\"dataframe\">\n",
       "  <thead>\n",
       "    <tr style=\"text-align: right;\">\n",
       "      <th></th>\n",
       "      <th>student_name</th>\n",
       "      <th>age</th>\n",
       "      <th>gender</th>\n",
       "      <th>education</th>\n",
       "    </tr>\n",
       "  </thead>\n",
       "  <tbody>\n",
       "    <tr>\n",
       "      <th>1</th>\n",
       "      <td>allen,mr.william henry</td>\n",
       "      <td>35</td>\n",
       "      <td>male</td>\n",
       "      <td>Btech</td>\n",
       "    </tr>\n",
       "    <tr>\n",
       "      <th>3</th>\n",
       "      <td>rajesh,mr.owen Harris</td>\n",
       "      <td>50</td>\n",
       "      <td>male</td>\n",
       "      <td>BE</td>\n",
       "    </tr>\n",
       "  </tbody>\n",
       "</table>\n",
       "</div>"
      ],
      "text/plain": [
       "             student_name  age gender education\n",
       "1  allen,mr.william henry   35   male     Btech\n",
       "3   rajesh,mr.owen Harris   50   male        BE"
      ]
     },
     "execution_count": 101,
     "metadata": {},
     "output_type": "execute_result"
    }
   ],
   "source": [
    "df[(df['gender']=='male')&(df['age']>30)]"
   ]
  },
  {
   "cell_type": "code",
   "execution_count": 102,
   "id": "49e55bd3",
   "metadata": {},
   "outputs": [],
   "source": [
    "age_female_30 =df[(df['gender'] == 'female')&(df['age']>30)]"
   ]
  },
  {
   "cell_type": "code",
   "execution_count": 103,
   "id": "b8a51f9e",
   "metadata": {},
   "outputs": [
    {
     "data": {
      "text/html": [
       "<div>\n",
       "<style scoped>\n",
       "    .dataframe tbody tr th:only-of-type {\n",
       "        vertical-align: middle;\n",
       "    }\n",
       "\n",
       "    .dataframe tbody tr th {\n",
       "        vertical-align: top;\n",
       "    }\n",
       "\n",
       "    .dataframe thead th {\n",
       "        text-align: right;\n",
       "    }\n",
       "</style>\n",
       "<table border=\"1\" class=\"dataframe\">\n",
       "  <thead>\n",
       "    <tr style=\"text-align: right;\">\n",
       "      <th></th>\n",
       "      <th>student_name</th>\n",
       "      <th>age</th>\n",
       "      <th>gender</th>\n",
       "      <th>education</th>\n",
       "    </tr>\n",
       "  </thead>\n",
       "  <tbody>\n",
       "    <tr>\n",
       "      <th>2</th>\n",
       "      <td>bonnell,miss.Elizabeth</td>\n",
       "      <td>58</td>\n",
       "      <td>female</td>\n",
       "      <td>MBS</td>\n",
       "    </tr>\n",
       "  </tbody>\n",
       "</table>\n",
       "</div>"
      ],
      "text/plain": [
       "             student_name  age  gender education\n",
       "2  bonnell,miss.Elizabeth   58  female       MBS"
      ]
     },
     "execution_count": 103,
     "metadata": {},
     "output_type": "execute_result"
    }
   ],
   "source": [
    "age_female_30"
   ]
  },
  {
   "cell_type": "code",
   "execution_count": 104,
   "id": "2a95c8a3",
   "metadata": {},
   "outputs": [
    {
     "data": {
      "text/html": [
       "<div>\n",
       "<style scoped>\n",
       "    .dataframe tbody tr th:only-of-type {\n",
       "        vertical-align: middle;\n",
       "    }\n",
       "\n",
       "    .dataframe tbody tr th {\n",
       "        vertical-align: top;\n",
       "    }\n",
       "\n",
       "    .dataframe thead th {\n",
       "        text-align: right;\n",
       "    }\n",
       "</style>\n",
       "<table border=\"1\" class=\"dataframe\">\n",
       "  <thead>\n",
       "    <tr style=\"text-align: right;\">\n",
       "      <th></th>\n",
       "      <th>student_name</th>\n",
       "      <th>age</th>\n",
       "      <th>gender</th>\n",
       "      <th>education</th>\n",
       "    </tr>\n",
       "  </thead>\n",
       "  <tbody>\n",
       "    <tr>\n",
       "      <th>0</th>\n",
       "      <td>braund,mr.owen Harris</td>\n",
       "      <td>22</td>\n",
       "      <td>male</td>\n",
       "      <td>BE</td>\n",
       "    </tr>\n",
       "    <tr>\n",
       "      <th>1</th>\n",
       "      <td>allen,mr.william henry</td>\n",
       "      <td>35</td>\n",
       "      <td>male</td>\n",
       "      <td>Btech</td>\n",
       "    </tr>\n",
       "    <tr>\n",
       "      <th>2</th>\n",
       "      <td>bonnell,miss.Elizabeth</td>\n",
       "      <td>58</td>\n",
       "      <td>female</td>\n",
       "      <td>MBS</td>\n",
       "    </tr>\n",
       "    <tr>\n",
       "      <th>3</th>\n",
       "      <td>rajesh,mr.owen Harris</td>\n",
       "      <td>50</td>\n",
       "      <td>male</td>\n",
       "      <td>BE</td>\n",
       "    </tr>\n",
       "    <tr>\n",
       "      <th>4</th>\n",
       "      <td>Anish,mr.william henry</td>\n",
       "      <td>0</td>\n",
       "      <td>male</td>\n",
       "      <td>MBA</td>\n",
       "    </tr>\n",
       "    <tr>\n",
       "      <th>5</th>\n",
       "      <td>asif,miss.Elizabeth</td>\n",
       "      <td>0</td>\n",
       "      <td>female</td>\n",
       "      <td>MBA</td>\n",
       "    </tr>\n",
       "  </tbody>\n",
       "</table>\n",
       "</div>"
      ],
      "text/plain": [
       "             student_name  age  gender education\n",
       "0   braund,mr.owen Harris   22    male        BE\n",
       "1  allen,mr.william henry   35    male     Btech\n",
       "2  bonnell,miss.Elizabeth   58  female       MBS\n",
       "3   rajesh,mr.owen Harris   50    male        BE\n",
       "4  Anish,mr.william henry    0    male       MBA\n",
       "5     asif,miss.Elizabeth    0  female       MBA"
      ]
     },
     "execution_count": 104,
     "metadata": {},
     "output_type": "execute_result"
    }
   ],
   "source": [
    "df"
   ]
  },
  {
   "cell_type": "code",
   "execution_count": 105,
   "id": "b5eb7958",
   "metadata": {},
   "outputs": [
    {
     "data": {
      "text/plain": [
       "gender\n",
       "male      4\n",
       "female    2\n",
       "Name: count, dtype: int64"
      ]
     },
     "execution_count": 105,
     "metadata": {},
     "output_type": "execute_result"
    }
   ],
   "source": [
    "df['gender'].value_counts()"
   ]
  },
  {
   "cell_type": "code",
   "execution_count": 107,
   "id": "40fa81d5",
   "metadata": {},
   "outputs": [
    {
     "data": {
      "text/plain": [
       "education\n",
       "BE       2\n",
       "MBA      2\n",
       "Btech    1\n",
       "MBS      1\n",
       "Name: count, dtype: int64"
      ]
     },
     "execution_count": 107,
     "metadata": {},
     "output_type": "execute_result"
    }
   ],
   "source": [
    "df['education'].value_counts()"
   ]
  },
  {
   "cell_type": "code",
   "execution_count": 108,
   "id": "aed661ba",
   "metadata": {},
   "outputs": [
    {
     "data": {
      "text/plain": [
       "student_name    0\n",
       "age             0\n",
       "gender          0\n",
       "education       0\n",
       "dtype: int64"
      ]
     },
     "execution_count": 108,
     "metadata": {},
     "output_type": "execute_result"
    }
   ],
   "source": [
    "df.isna().sum()"
   ]
  },
  {
   "cell_type": "code",
   "execution_count": 109,
   "id": "4f1cdf85",
   "metadata": {},
   "outputs": [
    {
     "data": {
      "text/html": [
       "<div>\n",
       "<style scoped>\n",
       "    .dataframe tbody tr th:only-of-type {\n",
       "        vertical-align: middle;\n",
       "    }\n",
       "\n",
       "    .dataframe tbody tr th {\n",
       "        vertical-align: top;\n",
       "    }\n",
       "\n",
       "    .dataframe thead th {\n",
       "        text-align: right;\n",
       "    }\n",
       "</style>\n",
       "<table border=\"1\" class=\"dataframe\">\n",
       "  <thead>\n",
       "    <tr style=\"text-align: right;\">\n",
       "      <th></th>\n",
       "      <th>students</th>\n",
       "      <th>age</th>\n",
       "    </tr>\n",
       "  </thead>\n",
       "  <tbody>\n",
       "    <tr>\n",
       "      <th>0</th>\n",
       "      <td>NaN</td>\n",
       "      <td>22</td>\n",
       "    </tr>\n",
       "    <tr>\n",
       "      <th>1</th>\n",
       "      <td>NaN</td>\n",
       "      <td>35</td>\n",
       "    </tr>\n",
       "    <tr>\n",
       "      <th>2</th>\n",
       "      <td>NaN</td>\n",
       "      <td>58</td>\n",
       "    </tr>\n",
       "    <tr>\n",
       "      <th>3</th>\n",
       "      <td>NaN</td>\n",
       "      <td>50</td>\n",
       "    </tr>\n",
       "    <tr>\n",
       "      <th>4</th>\n",
       "      <td>NaN</td>\n",
       "      <td>0</td>\n",
       "    </tr>\n",
       "    <tr>\n",
       "      <th>5</th>\n",
       "      <td>NaN</td>\n",
       "      <td>0</td>\n",
       "    </tr>\n",
       "  </tbody>\n",
       "</table>\n",
       "</div>"
      ],
      "text/plain": [
       "  students  age\n",
       "0      NaN   22\n",
       "1      NaN   35\n",
       "2      NaN   58\n",
       "3      NaN   50\n",
       "4      NaN    0\n",
       "5      NaN    0"
      ]
     },
     "execution_count": 109,
     "metadata": {},
     "output_type": "execute_result"
    }
   ],
   "source": [
    "data1 = pd.DataFrame(data,columns=['students','age'])\n",
    "data1"
   ]
  },
  {
   "cell_type": "code",
   "execution_count": 110,
   "id": "fa2d8c74",
   "metadata": {},
   "outputs": [
    {
     "data": {
      "text/plain": [
       "students    6\n",
       "age         0\n",
       "dtype: int64"
      ]
     },
     "execution_count": 110,
     "metadata": {},
     "output_type": "execute_result"
    }
   ],
   "source": [
    "data1.isna().sum()"
   ]
  },
  {
   "cell_type": "code",
   "execution_count": 112,
   "id": "5cdb36d0",
   "metadata": {},
   "outputs": [
    {
     "data": {
      "text/html": [
       "<div>\n",
       "<style scoped>\n",
       "    .dataframe tbody tr th:only-of-type {\n",
       "        vertical-align: middle;\n",
       "    }\n",
       "\n",
       "    .dataframe tbody tr th {\n",
       "        vertical-align: top;\n",
       "    }\n",
       "\n",
       "    .dataframe thead th {\n",
       "        text-align: right;\n",
       "    }\n",
       "</style>\n",
       "<table border=\"1\" class=\"dataframe\">\n",
       "  <thead>\n",
       "    <tr style=\"text-align: right;\">\n",
       "      <th></th>\n",
       "      <th>education</th>\n",
       "      <th>age</th>\n",
       "    </tr>\n",
       "  </thead>\n",
       "  <tbody>\n",
       "    <tr>\n",
       "      <th>0</th>\n",
       "      <td>BE</td>\n",
       "      <td>22</td>\n",
       "    </tr>\n",
       "    <tr>\n",
       "      <th>1</th>\n",
       "      <td>Btech</td>\n",
       "      <td>35</td>\n",
       "    </tr>\n",
       "    <tr>\n",
       "      <th>2</th>\n",
       "      <td>MBS</td>\n",
       "      <td>58</td>\n",
       "    </tr>\n",
       "    <tr>\n",
       "      <th>3</th>\n",
       "      <td>BE</td>\n",
       "      <td>50</td>\n",
       "    </tr>\n",
       "    <tr>\n",
       "      <th>4</th>\n",
       "      <td>MBA</td>\n",
       "      <td>0</td>\n",
       "    </tr>\n",
       "    <tr>\n",
       "      <th>5</th>\n",
       "      <td>MBA</td>\n",
       "      <td>0</td>\n",
       "    </tr>\n",
       "  </tbody>\n",
       "</table>\n",
       "</div>"
      ],
      "text/plain": [
       "  education  age\n",
       "0        BE   22\n",
       "1     Btech   35\n",
       "2       MBS   58\n",
       "3        BE   50\n",
       "4       MBA    0\n",
       "5       MBA    0"
      ]
     },
     "execution_count": 112,
     "metadata": {},
     "output_type": "execute_result"
    }
   ],
   "source": [
    "df[['education','age']]"
   ]
  },
  {
   "cell_type": "code",
   "execution_count": 118,
   "id": "10d9626e",
   "metadata": {},
   "outputs": [
    {
     "data": {
      "text/html": [
       "<div>\n",
       "<style scoped>\n",
       "    .dataframe tbody tr th:only-of-type {\n",
       "        vertical-align: middle;\n",
       "    }\n",
       "\n",
       "    .dataframe tbody tr th {\n",
       "        vertical-align: top;\n",
       "    }\n",
       "\n",
       "    .dataframe thead th {\n",
       "        text-align: right;\n",
       "    }\n",
       "</style>\n",
       "<table border=\"1\" class=\"dataframe\">\n",
       "  <thead>\n",
       "    <tr style=\"text-align: right;\">\n",
       "      <th></th>\n",
       "      <th>education</th>\n",
       "      <th>gender</th>\n",
       "      <th>age</th>\n",
       "    </tr>\n",
       "  </thead>\n",
       "  <tbody>\n",
       "    <tr>\n",
       "      <th>0</th>\n",
       "      <td>BE</td>\n",
       "      <td>male</td>\n",
       "      <td>22</td>\n",
       "    </tr>\n",
       "    <tr>\n",
       "      <th>1</th>\n",
       "      <td>Btech</td>\n",
       "      <td>male</td>\n",
       "      <td>35</td>\n",
       "    </tr>\n",
       "    <tr>\n",
       "      <th>2</th>\n",
       "      <td>MBS</td>\n",
       "      <td>female</td>\n",
       "      <td>58</td>\n",
       "    </tr>\n",
       "    <tr>\n",
       "      <th>3</th>\n",
       "      <td>BE</td>\n",
       "      <td>male</td>\n",
       "      <td>50</td>\n",
       "    </tr>\n",
       "    <tr>\n",
       "      <th>4</th>\n",
       "      <td>MBA</td>\n",
       "      <td>male</td>\n",
       "      <td>0</td>\n",
       "    </tr>\n",
       "  </tbody>\n",
       "</table>\n",
       "</div>"
      ],
      "text/plain": [
       "  education  gender  age\n",
       "0        BE    male   22\n",
       "1     Btech    male   35\n",
       "2       MBS  female   58\n",
       "3        BE    male   50\n",
       "4       MBA    male    0"
      ]
     },
     "execution_count": 118,
     "metadata": {},
     "output_type": "execute_result"
    }
   ],
   "source": [
    "df.loc[0:4][['education','gender','age']]"
   ]
  },
  {
   "cell_type": "code",
   "execution_count": 119,
   "id": "3f811fad",
   "metadata": {},
   "outputs": [
    {
     "data": {
      "text/html": [
       "<div>\n",
       "<style scoped>\n",
       "    .dataframe tbody tr th:only-of-type {\n",
       "        vertical-align: middle;\n",
       "    }\n",
       "\n",
       "    .dataframe tbody tr th {\n",
       "        vertical-align: top;\n",
       "    }\n",
       "\n",
       "    .dataframe thead th {\n",
       "        text-align: right;\n",
       "    }\n",
       "</style>\n",
       "<table border=\"1\" class=\"dataframe\">\n",
       "  <thead>\n",
       "    <tr style=\"text-align: right;\">\n",
       "      <th></th>\n",
       "      <th>student_name</th>\n",
       "      <th>age</th>\n",
       "    </tr>\n",
       "  </thead>\n",
       "  <tbody>\n",
       "    <tr>\n",
       "      <th>0</th>\n",
       "      <td>braund,mr.owen Harris</td>\n",
       "      <td>22</td>\n",
       "    </tr>\n",
       "    <tr>\n",
       "      <th>1</th>\n",
       "      <td>allen,mr.william henry</td>\n",
       "      <td>35</td>\n",
       "    </tr>\n",
       "    <tr>\n",
       "      <th>2</th>\n",
       "      <td>bonnell,miss.Elizabeth</td>\n",
       "      <td>58</td>\n",
       "    </tr>\n",
       "    <tr>\n",
       "      <th>3</th>\n",
       "      <td>rajesh,mr.owen Harris</td>\n",
       "      <td>50</td>\n",
       "    </tr>\n",
       "  </tbody>\n",
       "</table>\n",
       "</div>"
      ],
      "text/plain": [
       "             student_name  age\n",
       "0   braund,mr.owen Harris   22\n",
       "1  allen,mr.william henry   35\n",
       "2  bonnell,miss.Elizabeth   58\n",
       "3   rajesh,mr.owen Harris   50"
      ]
     },
     "execution_count": 119,
     "metadata": {},
     "output_type": "execute_result"
    }
   ],
   "source": [
    "df.loc[0:3][['student_name','age']]"
   ]
  },
  {
   "cell_type": "code",
   "execution_count": 120,
   "id": "ffcff8f5",
   "metadata": {},
   "outputs": [],
   "source": [
    "st_name = df.loc[0:3][['student_name']]\n",
    "st_strng =st_name.astype(dtype ='string')\n"
   ]
  },
  {
   "cell_type": "code",
   "execution_count": 124,
   "id": "ca9a895c",
   "metadata": {},
   "outputs": [
    {
     "data": {
      "text/html": [
       "<div>\n",
       "<style scoped>\n",
       "    .dataframe tbody tr th:only-of-type {\n",
       "        vertical-align: middle;\n",
       "    }\n",
       "\n",
       "    .dataframe tbody tr th {\n",
       "        vertical-align: top;\n",
       "    }\n",
       "\n",
       "    .dataframe thead th {\n",
       "        text-align: right;\n",
       "    }\n",
       "</style>\n",
       "<table border=\"1\" class=\"dataframe\">\n",
       "  <thead>\n",
       "    <tr style=\"text-align: right;\">\n",
       "      <th></th>\n",
       "      <th>student_name</th>\n",
       "    </tr>\n",
       "  </thead>\n",
       "  <tbody>\n",
       "    <tr>\n",
       "      <th>0</th>\n",
       "      <td>braund,mr.owen Harris</td>\n",
       "    </tr>\n",
       "    <tr>\n",
       "      <th>1</th>\n",
       "      <td>allen,mr.william henry</td>\n",
       "    </tr>\n",
       "    <tr>\n",
       "      <th>2</th>\n",
       "      <td>bonnell,miss.Elizabeth</td>\n",
       "    </tr>\n",
       "    <tr>\n",
       "      <th>3</th>\n",
       "      <td>rajesh,mr.owen Harris</td>\n",
       "    </tr>\n",
       "  </tbody>\n",
       "</table>\n",
       "</div>"
      ],
      "text/plain": [
       "             student_name\n",
       "0   braund,mr.owen Harris\n",
       "1  allen,mr.william henry\n",
       "2  bonnell,miss.Elizabeth\n",
       "3   rajesh,mr.owen Harris"
      ]
     },
     "execution_count": 124,
     "metadata": {},
     "output_type": "execute_result"
    }
   ],
   "source": [
    "st_name"
   ]
  },
  {
   "cell_type": "code",
   "execution_count": null,
   "id": "0b9dd689",
   "metadata": {},
   "outputs": [],
   "source": [
    "st_name = df.loc[0:3][['student_name']]\n",
    "st_strng =st_name.astype(dtype ='string')\n",
    "\n",
    "str(df['student_name']).split"
   ]
  },
  {
   "cell_type": "code",
   "execution_count": 126,
   "id": "dea2bce1",
   "metadata": {},
   "outputs": [
    {
     "data": {
      "text/plain": [
       "0    22\n",
       "3    50\n",
       "Name: age, dtype: int64"
      ]
     },
     "execution_count": 126,
     "metadata": {},
     "output_type": "execute_result"
    }
   ],
   "source": [
    "df.iloc[0::3,1]"
   ]
  },
  {
   "cell_type": "code",
   "execution_count": 127,
   "id": "7d0b639b",
   "metadata": {},
   "outputs": [
    {
     "data": {
      "text/html": [
       "<div>\n",
       "<style scoped>\n",
       "    .dataframe tbody tr th:only-of-type {\n",
       "        vertical-align: middle;\n",
       "    }\n",
       "\n",
       "    .dataframe tbody tr th {\n",
       "        vertical-align: top;\n",
       "    }\n",
       "\n",
       "    .dataframe thead th {\n",
       "        text-align: right;\n",
       "    }\n",
       "</style>\n",
       "<table border=\"1\" class=\"dataframe\">\n",
       "  <thead>\n",
       "    <tr style=\"text-align: right;\">\n",
       "      <th></th>\n",
       "      <th>students</th>\n",
       "      <th>age</th>\n",
       "    </tr>\n",
       "  </thead>\n",
       "  <tbody>\n",
       "  </tbody>\n",
       "</table>\n",
       "</div>"
      ],
      "text/plain": [
       "Empty DataFrame\n",
       "Columns: [students, age]\n",
       "Index: []"
      ]
     },
     "execution_count": 127,
     "metadata": {},
     "output_type": "execute_result"
    }
   ],
   "source": [
    "data1.dropna()"
   ]
  },
  {
   "cell_type": "code",
   "execution_count": 128,
   "id": "c36bb1e7",
   "metadata": {},
   "outputs": [
    {
     "data": {
      "text/html": [
       "<div>\n",
       "<style scoped>\n",
       "    .dataframe tbody tr th:only-of-type {\n",
       "        vertical-align: middle;\n",
       "    }\n",
       "\n",
       "    .dataframe tbody tr th {\n",
       "        vertical-align: top;\n",
       "    }\n",
       "\n",
       "    .dataframe thead th {\n",
       "        text-align: right;\n",
       "    }\n",
       "</style>\n",
       "<table border=\"1\" class=\"dataframe\">\n",
       "  <thead>\n",
       "    <tr style=\"text-align: right;\">\n",
       "      <th></th>\n",
       "      <th>students</th>\n",
       "      <th>age</th>\n",
       "    </tr>\n",
       "  </thead>\n",
       "  <tbody>\n",
       "  </tbody>\n",
       "</table>\n",
       "</div>"
      ],
      "text/plain": [
       "Empty DataFrame\n",
       "Columns: [students, age]\n",
       "Index: []"
      ]
     },
     "execution_count": 128,
     "metadata": {},
     "output_type": "execute_result"
    }
   ],
   "source": [
    "data1.dropna(axis=0) #delete rowwise "
   ]
  },
  {
   "cell_type": "code",
   "execution_count": 129,
   "id": "d46ca1bd",
   "metadata": {},
   "outputs": [
    {
     "data": {
      "text/html": [
       "<div>\n",
       "<style scoped>\n",
       "    .dataframe tbody tr th:only-of-type {\n",
       "        vertical-align: middle;\n",
       "    }\n",
       "\n",
       "    .dataframe tbody tr th {\n",
       "        vertical-align: top;\n",
       "    }\n",
       "\n",
       "    .dataframe thead th {\n",
       "        text-align: right;\n",
       "    }\n",
       "</style>\n",
       "<table border=\"1\" class=\"dataframe\">\n",
       "  <thead>\n",
       "    <tr style=\"text-align: right;\">\n",
       "      <th></th>\n",
       "      <th>age</th>\n",
       "    </tr>\n",
       "  </thead>\n",
       "  <tbody>\n",
       "    <tr>\n",
       "      <th>0</th>\n",
       "      <td>22</td>\n",
       "    </tr>\n",
       "    <tr>\n",
       "      <th>1</th>\n",
       "      <td>35</td>\n",
       "    </tr>\n",
       "    <tr>\n",
       "      <th>2</th>\n",
       "      <td>58</td>\n",
       "    </tr>\n",
       "    <tr>\n",
       "      <th>3</th>\n",
       "      <td>50</td>\n",
       "    </tr>\n",
       "    <tr>\n",
       "      <th>4</th>\n",
       "      <td>0</td>\n",
       "    </tr>\n",
       "    <tr>\n",
       "      <th>5</th>\n",
       "      <td>0</td>\n",
       "    </tr>\n",
       "  </tbody>\n",
       "</table>\n",
       "</div>"
      ],
      "text/plain": [
       "   age\n",
       "0   22\n",
       "1   35\n",
       "2   58\n",
       "3   50\n",
       "4    0\n",
       "5    0"
      ]
     },
     "execution_count": 129,
     "metadata": {},
     "output_type": "execute_result"
    }
   ],
   "source": [
    "data1.dropna(axis=1) #delete columnwise"
   ]
  },
  {
   "cell_type": "code",
   "execution_count": null,
   "id": "d1be95c5",
   "metadata": {},
   "outputs": [],
   "source": []
  }
 ],
 "metadata": {
  "kernelspec": {
   "display_name": "Python 3 (ipykernel)",
   "language": "python",
   "name": "python3"
  },
  "language_info": {
   "codemirror_mode": {
    "name": "ipython",
    "version": 3
   },
   "file_extension": ".py",
   "mimetype": "text/x-python",
   "name": "python",
   "nbconvert_exporter": "python",
   "pygments_lexer": "ipython3",
   "version": "3.11.5"
  }
 },
 "nbformat": 4,
 "nbformat_minor": 5
}
